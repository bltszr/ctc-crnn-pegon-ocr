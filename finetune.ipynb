{
 "cells": [
  {
   "cell_type": "code",
   "execution_count": 1,
   "id": "83af406b",
   "metadata": {},
   "outputs": [],
   "source": [
    "# from https://jupyter-notebook.readthedocs.io/en/stable/examples/Notebook/Importing%20Notebooks.html\n",
    "\n",
    "import io, os, sys, types\n",
    "\n",
    "from IPython import get_ipython\n",
    "from nbformat import read\n",
    "from IPython.core.interactiveshell import InteractiveShell\n",
    "\n",
    "def find_notebook(fullname, path=None):\n",
    "    \"\"\"find a notebook, given its fully qualified name and an optional path\n",
    "\n",
    "    This turns \"foo.bar\" into \"foo/bar.ipynb\"\n",
    "    and tries turning \"Foo_Bar\" into \"Foo Bar\" if Foo_Bar\n",
    "    does not exist.\n",
    "    \"\"\"\n",
    "    name = fullname.rsplit('.', 1)[-1]\n",
    "    if not path:\n",
    "        path = ['']\n",
    "    for d in path:\n",
    "        nb_path_pure = os.path.join(d, name + \".ipynb\")\n",
    "        if os.path.isfile(nb_path_pure):\n",
    "            return nb_path\n",
    "        # let import Notebook_Name find \"Notebook Name.ipynb\"\n",
    "        nb_path = nb_path_pure.replace(\"_\", \" \")\n",
    "        if os.path.isfile(nb_path):\n",
    "            return nb_path\n",
    "        nb_path = nb_path_pure.replace(\"_\", \"-\")\n",
    "        if os.path.isfile(nb_path):\n",
    "            return nb_path\n",
    "\n",
    "class NotebookLoader(object):\n",
    "    \"\"\"Module Loader for Jupyter Notebooks\"\"\"\n",
    "    def __init__(self, path=None):\n",
    "        self.shell = InteractiveShell.instance()\n",
    "        self.path = path\n",
    "\n",
    "    def load_module(self, fullname):\n",
    "        \"\"\"import a notebook as a module\"\"\"\n",
    "        path = find_notebook(fullname, self.path)\n",
    "\n",
    "        print (\"importing Jupyter notebook from %s\" % path)\n",
    "\n",
    "        # load the notebook object\n",
    "        with io.open(path, 'r', encoding='utf-8') as f:\n",
    "            nb = read(f, 4)\n",
    "\n",
    "\n",
    "        # create the module and add it to sys.modules\n",
    "        # if name in sys.modules:\n",
    "        #    return sys.modules[name]\n",
    "        mod = types.ModuleType(fullname)\n",
    "        mod.__file__ = path\n",
    "        mod.__loader__ = self\n",
    "        mod.__dict__['get_ipython'] = get_ipython\n",
    "        sys.modules[fullname] = mod\n",
    "\n",
    "        # extra work to ensure that magics that would affect the user_ns\n",
    "        # actually affect the notebook module's ns\n",
    "        save_user_ns = self.shell.user_ns\n",
    "        self.shell.user_ns = mod.__dict__\n",
    "\n",
    "        try:\n",
    "          for cell in nb.cells:\n",
    "            if cell.cell_type == 'code':\n",
    "                # transform the input to executable Python\n",
    "                code = self.shell.input_transformer_manager.transform_cell(cell.source)\n",
    "                # run the code in themodule\n",
    "                exec(code, mod.__dict__)\n",
    "        finally:\n",
    "            self.shell.user_ns = save_user_ns\n",
    "        return mod\n",
    "    \n",
    "class NotebookFinder(object):\n",
    "    \"\"\"Module finder that locates Jupyter Notebooks\"\"\"\n",
    "    def __init__(self):\n",
    "        self.loaders = {}\n",
    "\n",
    "    def find_module(self, fullname, path=None):\n",
    "        nb_path = find_notebook(fullname, path)\n",
    "        if not nb_path:\n",
    "            return\n",
    "\n",
    "        key = path\n",
    "        if path:\n",
    "            # lists aren't hashable\n",
    "            key = os.path.sep.join(path)\n",
    "\n",
    "        if key not in self.loaders:\n",
    "            self.loaders[key] = NotebookLoader(path)\n",
    "        return self.loaders[key]\n",
    "sys.meta_path.append(NotebookFinder())"
   ]
  },
  {
   "cell_type": "code",
   "execution_count": 2,
   "id": "705fb511",
   "metadata": {},
   "outputs": [],
   "source": [
    "import numpy as np\n",
    "import random\n",
    "import torch\n",
    "seed = 2023\n",
    "torch.manual_seed(seed)\n",
    "np.random.seed(seed)\n",
    "random.seed(seed)"
   ]
  },
  {
   "cell_type": "code",
   "execution_count": 3,
   "id": "479821c0",
   "metadata": {},
   "outputs": [],
   "source": [
    "import os\n",
    "os.environ['CUDA_VISIBLE_DEVICES'] = '4'"
   ]
  },
  {
   "cell_type": "code",
   "execution_count": 4,
   "id": "084e92b0",
   "metadata": {},
   "outputs": [],
   "source": [
    "from pegon_utils import CTCTrainer\n",
    "from models import *\n",
    "model = 'ctc-crnn-no-stretch-v2/2023-05-24 18:24:32.874318.pt'\n",
    "model_path = os.path.join('/workspace/ctc-crnn/', model)\n",
    "model_type = os.path.split(os.path.split(model_path)[0])[-1]\n",
    "model = torch.load(model_path)"
   ]
  },
  {
   "cell_type": "code",
   "execution_count": 5,
   "id": "3fc3c2d9",
   "metadata": {},
   "outputs": [],
   "source": [
    "import torch.optim as optim\n",
    "from pegon_utils import FocalCTCLoss\n",
    "\n",
    "epochs = 25\n",
    "optim = optim.AdamW(model.parameters(), lr=1e-3)\n",
    "# optim = optim.AdamW(model.parameters(), lr=1e-4)\n",
    "# criterion = FocalCTCLoss(zero_infinity=True, alpha=0.25, gamma=0.75)\n",
    "criterion = None # default = nn.CTCLoss\n",
    "\n",
    "model_finetune_path = model_path.replace('.pt', f'.annot.ft.{epochs}ep.pt')\n",
    "train_plot_path = model_finetune_path.replace('.pt', '.train.png')\n",
    "whole_eval_plot_path = model_finetune_path.replace('.pt', '.whole.wer-cer.png')\n",
    "before_eval_plot_path = model_finetune_path.replace('.pt', '.before.wer-cer.png')\n",
    "after_eval_plot_path = model_finetune_path.replace('.pt', '.after.wer-cer.png')"
   ]
  },
  {
   "cell_type": "code",
   "execution_count": 6,
   "id": "e2f3a199",
   "metadata": {},
   "outputs": [],
   "source": [
    "from pegon_utils import PegonAnnotatedDataset\n",
    "from torch.utils.data import DataLoader, Dataset\n",
    "from torchvision.transforms import transforms\n",
    "from torch.utils.data import random_split, ConcatDataset\n",
    "\n",
    "dataset_transforms = {'ctc-crnn':\n",
    "                      transforms.Compose([\n",
    "                          transforms.Grayscale(num_output_channels=1),\n",
    "                          transforms.Resize((model.image_height, model.image_width)),\n",
    "                          transforms.RandomHorizontalFlip(p=1),\n",
    "                          transforms.ToTensor()]),\n",
    "                      'ctc-ftex-rnn':\n",
    "                      transforms.Compose([\n",
    "                          transforms.Resize((model.image_height, model.image_width)),\n",
    "                          transforms.RandomHorizontalFlip(p=1),\n",
    "                          transforms.ToTensor()]),\n",
    "                      'ctc-ftex-no-rnn':\n",
    "                      transforms.Compose([\n",
    "                          transforms.Resize((model.image_height, model.image_width)),\n",
    "                          transforms.RandomHorizontalFlip(p=1),\n",
    "                          transforms.ToTensor()]),\n",
    "                      'ctc-crnn-no-stretch':\n",
    "                      transforms.Compose([\n",
    "                          transforms.Grayscale(num_output_channels=1),\n",
    "                          ResizeAndPadHorizontal(target_h=model.image_height, target_w=model.image_width),\n",
    "                          transforms.RandomHorizontalFlip(p=1),\n",
    "                          transforms.ToTensor(),]),\n",
    "                      'ctc-crnn-no-stretch-v2':\n",
    "                      transforms.Compose([\n",
    "                          transforms.Grayscale(num_output_channels=1),\n",
    "                          ResizeAndPadHorizontal(target_h=model.image_height, target_w=model.image_width),\n",
    "                          transforms.RandomHorizontalFlip(p=1),\n",
    "                          transforms.ToTensor(),\n",
    "                      ])}[model_type]\n",
    "\n",
    "annotated_dataset = PegonAnnotatedDataset('/workspace/Dataset/pegon-annotated-dataset-split-v3',\n",
    "                                          image_transform=dataset_transforms)"
   ]
  },
  {
   "cell_type": "code",
   "execution_count": 7,
   "id": "8d12f80a",
   "metadata": {},
   "outputs": [
    {
     "data": {
      "application/vnd.jupyter.widget-view+json": {
       "model_id": "9e01080828fe4ff587b6b834a4280b62",
       "version_major": 2,
       "version_minor": 0
      },
      "text/plain": [
       "  0%|          | 0/1028 [00:00<?, ?it/s]"
      ]
     },
     "metadata": {},
     "output_type": "display_data"
    }
   ],
   "source": [
    "from pegon_utils import CTCDecoder, BestPathDecoder, evaluate, plot_cer_wer\n",
    "from pegon_utils import PEGON_CHARS, CHAR_MAP\n",
    "from pegon_utils import ctc_collate_fn\n",
    "\n",
    "dataloader = DataLoader(annotated_dataset,\n",
    "                        batch_size=4,\n",
    "                        num_workers=2,\n",
    "                        shuffle=True,\n",
    "                        collate_fn=ctc_collate_fn)\n",
    "\n",
    "decoder = BestPathDecoder.from_path(model_path, CHAR_MAP, blank_char=PEGON_CHARS[0])\n",
    "\n",
    "cers, wers = evaluate(decoder, dataloader)"
   ]
  },
  {
   "cell_type": "code",
   "execution_count": 8,
   "id": "e54209c3",
   "metadata": {},
   "outputs": [
    {
     "data": {
      "image/png": "[encoded data removed]",
      "text/plain": [
       "<Figure size 1440x288 with 2 Axes>"
      ]
     },
     "metadata": {
      "needs_background": "light"
     },
     "output_type": "display_data"
    }
   ],
   "source": [
    "plot_cer_wer(cers, wers, path=whole_eval_plot_path)"
   ]
  },
  {
   "cell_type": "code",
   "execution_count": 9,
   "id": "fa26b8d9",
   "metadata": {},
   "outputs": [],
   "source": [
    "train_dataset, val_dataset = random_split(annotated_dataset,\n",
    "                                          lengths=[round(len(annotated_dataset) * frac) for frac in [0.5, 0.5]])"
   ]
  },
  {
   "cell_type": "code",
   "execution_count": 10,
   "id": "654b1bd8",
   "metadata": {},
   "outputs": [
    {
     "data": {
      "application/vnd.jupyter.widget-view+json": {
       "model_id": "d39d521f6878467cb0822127c7d220fc",
       "version_major": 2,
       "version_minor": 0
      },
      "text/plain": [
       "  0%|          | 0/514 [00:00<?, ?it/s]"
      ]
     },
     "metadata": {},
     "output_type": "display_data"
    },
    {
     "data": {
      "image/png": "[encoded data removed]",
      "text/plain": [
       "<Figure size 1440x288 with 2 Axes>"
      ]
     },
     "metadata": {
      "needs_background": "light"
     },
     "output_type": "display_data"
    }
   ],
   "source": [
    "dataloader = DataLoader(val_dataset,\n",
    "                        batch_size=4,\n",
    "                        num_workers=2,\n",
    "                        shuffle=True,\n",
    "                        collate_fn=ctc_collate_fn)\n",
    "cers, wers = evaluate(decoder, dataloader)\n",
    "plot_cer_wer(cers, wers, path=before_eval_plot_path)"
   ]
  },
  {
   "cell_type": "code",
   "execution_count": 11,
   "id": "e4a413ff",
   "metadata": {},
   "outputs": [
    {
     "data": {
      "image/png": "[encoded data removed]",
      "text/plain": [
       "<Figure size 432x288 with 1 Axes>"
      ]
     },
     "metadata": {
      "needs_background": "light"
     },
     "output_type": "display_data"
    }
   ],
   "source": [
    "# demo\n",
    "\n",
    "import arabic_reshaper\n",
    "from bidi.algorithm import get_display\n",
    "import matplotlib.pyplot as plt\n",
    "\n",
    "to_arabic_display = lambda text: get_display(arabic_reshaper.reshape(text))\n",
    "img, label, _ = dataloader.collate_fn([random.choice(annotated_dataset)])\n",
    "\n",
    "predicted = decoder.infer(img.cuda())[0]\n",
    "\n",
    "tensor_to_display = lambda x : transforms.ToPILImage()(transforms.RandomHorizontalFlip(p=1)(x))\n",
    "\n",
    "plt.imshow(tensor_to_display(img[0]),cmap='gray'); plt.title(f'predicted = {to_arabic_display(predicted)}'); plt.show()"
   ]
  },
  {
   "cell_type": "code",
   "execution_count": 12,
   "id": "8c82fe4f",
   "metadata": {},
   "outputs": [],
   "source": [
    "trainer = CTCTrainer(model=model,\n",
    "                     max_norm=None,\n",
    "                     optimizer=optim,\n",
    "                     batch_size=4,\n",
    "                     num_workers=2,\n",
    "#                      batch_size=16,\n",
    "                     dataset=train_dataset,\n",
    "                     criterion=criterion)"
   ]
  },
  {
   "cell_type": "code",
   "execution_count": 13,
   "id": "a5875be0",
   "metadata": {},
   "outputs": [
    {
     "data": {
      "application/vnd.jupyter.widget-view+json": {
       "model_id": "d55891063fcd46d2b25d70f9da610cd7",
       "version_major": 2,
       "version_minor": 0
      },
      "text/plain": [
       "  0%|          | 0/514 [00:00<?, ?it/s]"
      ]
     },
     "metadata": {},
     "output_type": "display_data"
    },
    {
     "data": {
      "application/vnd.jupyter.widget-view+json": {
       "model_id": "29c655fac95d43b7aa9b53db41b72256",
       "version_major": 2,
       "version_minor": 0
      },
      "text/plain": [
       "  0%|          | 0/514 [00:00<?, ?it/s]"
      ]
     },
     "metadata": {},
     "output_type": "display_data"
    },
    {
     "data": {
      "application/vnd.jupyter.widget-view+json": {
       "model_id": "56ea8649a42c42f9a38756231ec92511",
       "version_major": 2,
       "version_minor": 0
      },
      "text/plain": [
       "  0%|          | 0/514 [00:00<?, ?it/s]"
      ]
     },
     "metadata": {},
     "output_type": "display_data"
    },
    {
     "data": {
      "application/vnd.jupyter.widget-view+json": {
       "model_id": "76a70c766072424a9ea546b679ea8f8c",
       "version_major": 2,
       "version_minor": 0
      },
      "text/plain": [
       "  0%|          | 0/514 [00:00<?, ?it/s]"
      ]
     },
     "metadata": {},
     "output_type": "display_data"
    },
    {
     "data": {
      "application/vnd.jupyter.widget-view+json": {
       "model_id": "e4c729edb930452286b413b9c7538642",
       "version_major": 2,
       "version_minor": 0
      },
      "text/plain": [
       "  0%|          | 0/514 [00:00<?, ?it/s]"
      ]
     },
     "metadata": {},
     "output_type": "display_data"
    },
    {
     "data": {
      "application/vnd.jupyter.widget-view+json": {
       "model_id": "a54720b4c45040f79c74ee954f035a34",
       "version_major": 2,
       "version_minor": 0
      },
      "text/plain": [
       "  0%|          | 0/514 [00:00<?, ?it/s]"
      ]
     },
     "metadata": {},
     "output_type": "display_data"
    },
    {
     "data": {
      "application/vnd.jupyter.widget-view+json": {
       "model_id": "3cdacb20503a474abc297719b70386fc",
       "version_major": 2,
       "version_minor": 0
      },
      "text/plain": [
       "  0%|          | 0/514 [00:00<?, ?it/s]"
      ]
     },
     "metadata": {},
     "output_type": "display_data"
    },
    {
     "data": {
      "application/vnd.jupyter.widget-view+json": {
       "model_id": "de24161a4a4a46ad8b8eb8f276be4f00",
       "version_major": 2,
       "version_minor": 0
      },
      "text/plain": [
       "  0%|          | 0/514 [00:00<?, ?it/s]"
      ]
     },
     "metadata": {},
     "output_type": "display_data"
    },
    {
     "data": {
      "application/vnd.jupyter.widget-view+json": {
       "model_id": "49f25985067c4f27955e71e3ea00ffbd",
       "version_major": 2,
       "version_minor": 0
      },
      "text/plain": [
       "  0%|          | 0/514 [00:00<?, ?it/s]"
      ]
     },
     "metadata": {},
     "output_type": "display_data"
    },
    {
     "data": {
      "application/vnd.jupyter.widget-view+json": {
       "model_id": "2617173d91bc4df0ac11507347d033e5",
       "version_major": 2,
       "version_minor": 0
      },
      "text/plain": [
       "  0%|          | 0/514 [00:00<?, ?it/s]"
      ]
     },
     "metadata": {},
     "output_type": "display_data"
    },
    {
     "data": {
      "application/vnd.jupyter.widget-view+json": {
       "model_id": "5c520586c5a443b0b84c07f2dd998256",
       "version_major": 2,
       "version_minor": 0
      },
      "text/plain": [
       "  0%|          | 0/514 [00:00<?, ?it/s]"
      ]
     },
     "metadata": {},
     "output_type": "display_data"
    },
    {
     "data": {
      "application/vnd.jupyter.widget-view+json": {
       "model_id": "0bf35267787d45a78092e35bf1093f7d",
       "version_major": 2,
       "version_minor": 0
      },
      "text/plain": [
       "  0%|          | 0/514 [00:00<?, ?it/s]"
      ]
     },
     "metadata": {},
     "output_type": "display_data"
    },
    {
     "data": {
      "application/vnd.jupyter.widget-view+json": {
       "model_id": "f3d6a0c6e77c44789208328ab05ff3d4",
       "version_major": 2,
       "version_minor": 0
      },
      "text/plain": [
       "  0%|          | 0/514 [00:00<?, ?it/s]"
      ]
     },
     "metadata": {},
     "output_type": "display_data"
    },
    {
     "data": {
      "application/vnd.jupyter.widget-view+json": {
       "model_id": "0706fc9727e84368bb607fe35fac9a9f",
       "version_major": 2,
       "version_minor": 0
      },
      "text/plain": [
       "  0%|          | 0/514 [00:00<?, ?it/s]"
      ]
     },
     "metadata": {},
     "output_type": "display_data"
    },
    {
     "data": {
      "application/vnd.jupyter.widget-view+json": {
       "model_id": "39f52e6ec9e5415f8dbb3b18921f5a93",
       "version_major": 2,
       "version_minor": 0
      },
      "text/plain": [
       "  0%|          | 0/514 [00:00<?, ?it/s]"
      ]
     },
     "metadata": {},
     "output_type": "display_data"
    },
    {
     "data": {
      "application/vnd.jupyter.widget-view+json": {
       "model_id": "0aef3dc1ebea48f8a207100492c2d366",
       "version_major": 2,
       "version_minor": 0
      },
      "text/plain": [
       "  0%|          | 0/514 [00:00<?, ?it/s]"
      ]
     },
     "metadata": {},
     "output_type": "display_data"
    },
    {
     "data": {
      "application/vnd.jupyter.widget-view+json": {
       "model_id": "c214db723d1146d691732b3606d27358",
       "version_major": 2,
       "version_minor": 0
      },
      "text/plain": [
       "  0%|          | 0/514 [00:00<?, ?it/s]"
      ]
     },
     "metadata": {},
     "output_type": "display_data"
    },
    {
     "data": {
      "application/vnd.jupyter.widget-view+json": {
       "model_id": "35521fa107894df8851fe1982f9700fe",
       "version_major": 2,
       "version_minor": 0
      },
      "text/plain": [
       "  0%|          | 0/514 [00:00<?, ?it/s]"
      ]
     },
     "metadata": {},
     "output_type": "display_data"
    },
    {
     "data": {
      "application/vnd.jupyter.widget-view+json": {
       "model_id": "9ba1f31b8fc9431c8b91420e014ec80a",
       "version_major": 2,
       "version_minor": 0
      },
      "text/plain": [
       "  0%|          | 0/514 [00:00<?, ?it/s]"
      ]
     },
     "metadata": {},
     "output_type": "display_data"
    },
    {
     "data": {
      "application/vnd.jupyter.widget-view+json": {
       "model_id": "d4b447b9ae5f44bd8a528aafbbb870af",
       "version_major": 2,
       "version_minor": 0
      },
      "text/plain": [
       "  0%|          | 0/514 [00:00<?, ?it/s]"
      ]
     },
     "metadata": {},
     "output_type": "display_data"
    },
    {
     "data": {
      "application/vnd.jupyter.widget-view+json": {
       "model_id": "7fdd937b954a44f78f30e20081d7a23b",
       "version_major": 2,
       "version_minor": 0
      },
      "text/plain": [
       "  0%|          | 0/514 [00:00<?, ?it/s]"
      ]
     },
     "metadata": {},
     "output_type": "display_data"
    },
    {
     "data": {
      "application/vnd.jupyter.widget-view+json": {
       "model_id": "0d8889357d4e43d991e89b30121605e0",
       "version_major": 2,
       "version_minor": 0
      },
      "text/plain": [
       "  0%|          | 0/514 [00:00<?, ?it/s]"
      ]
     },
     "metadata": {},
     "output_type": "display_data"
    },
    {
     "data": {
      "application/vnd.jupyter.widget-view+json": {
       "model_id": "bc916e84af0c4ffa9a6956a0376123fc",
       "version_major": 2,
       "version_minor": 0
      },
      "text/plain": [
       "  0%|          | 0/514 [00:00<?, ?it/s]"
      ]
     },
     "metadata": {},
     "output_type": "display_data"
    },
    {
     "data": {
      "application/vnd.jupyter.widget-view+json": {
       "model_id": "4cd1df90c6b949cba8f7f2fec893261a",
       "version_major": 2,
       "version_minor": 0
      },
      "text/plain": [
       "  0%|          | 0/514 [00:00<?, ?it/s]"
      ]
     },
     "metadata": {},
     "output_type": "display_data"
    },
    {
     "data": {
      "application/vnd.jupyter.widget-view+json": {
       "model_id": "8114aa5ce4734b3ba850a8f0cf9e6a4f",
       "version_major": 2,
       "version_minor": 0
      },
      "text/plain": [
       "  0%|          | 0/514 [00:00<?, ?it/s]"
      ]
     },
     "metadata": {},
     "output_type": "display_data"
    },
    {
     "name": "stdout",
     "output_type": "stream",
     "text": [
      "Finished training! Took 0:07:46.696953.\n"
     ]
    },
    {
     "data": {
      "text/plain": [
       "CTCCRNNNoStretchV2(\n",
       "  (conv1): Conv2d(1, 16, kernel_size=(3, 3), stride=(1, 1), padding=(1, 1))\n",
       "  (pool1): MaxPool2d(kernel_size=2, stride=2, padding=0, dilation=1, ceil_mode=False)\n",
       "  (conv2): Conv2d(16, 16, kernel_size=(3, 3), stride=(1, 1), padding=(1, 1))\n",
       "  (pool2): MaxPool2d(kernel_size=2, stride=2, padding=0, dilation=1, ceil_mode=False)\n",
       "  (fc1): Linear(in_features=352, out_features=16, bias=True)\n",
       "  (dropout): Dropout(p=0, inplace=False)\n",
       "  (lstm1): LSTM(16, 256, batch_first=True, bidirectional=True)\n",
       "  (lstm2): LSTM(512, 128, batch_first=True, bidirectional=True)\n",
       "  (fc2): Linear(in_features=256, out_features=80, bias=True)\n",
       ")"
      ]
     },
     "execution_count": 13,
     "metadata": {},
     "output_type": "execute_result"
    }
   ],
   "source": [
    "trainer.train(num_epochs=epochs, save_path=model_finetune_path)"
   ]
  },
  {
   "cell_type": "code",
   "execution_count": 14,
   "id": "172dd91a",
   "metadata": {},
   "outputs": [
    {
     "data": {
      "image/png": "[encoded data removed]",
      "text/plain": [
       "<Figure size 432x288 with 2 Axes>"
      ]
     },
     "metadata": {
      "needs_background": "light"
     },
     "output_type": "display_data"
    }
   ],
   "source": [
    "trainer.plot_history(train_plot_path)"
   ]
  },
  {
   "cell_type": "code",
   "execution_count": 15,
   "id": "299e5de7",
   "metadata": {},
   "outputs": [
    {
     "data": {
      "application/vnd.jupyter.widget-view+json": {
       "model_id": "be677cdf037d4423a0e5c54e9fb6976f",
       "version_major": 2,
       "version_minor": 0
      },
      "text/plain": [
       "  0%|          | 0/514 [00:00<?, ?it/s]"
      ]
     },
     "metadata": {},
     "output_type": "display_data"
    }
   ],
   "source": [
    "decoder = BestPathDecoder(model, CHAR_MAP, blank_char=PEGON_CHARS[0])\n",
    "\n",
    "cers, wers = evaluate(decoder, dataloader)"
   ]
  },
  {
   "cell_type": "code",
   "execution_count": 16,
   "id": "13d9aec3",
   "metadata": {},
   "outputs": [
    {
     "data": {
      "image/png": "[encoded data removed]",
      "text/plain": [
       "<Figure size 1440x288 with 2 Axes>"
      ]
     },
     "metadata": {
      "needs_background": "light"
     },
     "output_type": "display_data"
    }
   ],
   "source": [
    "plot_cer_wer(cers, wers, path=after_eval_plot_path)"
   ]
  },
  {
   "cell_type": "code",
   "execution_count": 17,
   "id": "7db3e274",
   "metadata": {},
   "outputs": [
    {
     "name": "stdout",
     "output_type": "stream",
     "text": [
      "Prediction\n",
      "ْفࣤرَاُكْيِااَوَهْيِفࣤراَكاَنَرࣤكْيَناَوَهْيِناَيَلْوُنْنَلاَْنُدْڠاَوْوُبُكْيِااَيِاْنَل\n",
      "Ground truth\n",
      "ْفࣤرَاُكْيِاَوَهْيَفࣤراَكاَنَرࣤكْيَناَوَهْيَناَيَلْوُنْنَلاَيْنُدْڠاَوْوُبُكْيِااَيِاْنَل\n"
     ]
    },
    {
     "data": {
      "image/png": "[encoded data removed]",
      "text/plain": [
       "<Figure size 432x288 with 1 Axes>"
      ]
     },
     "metadata": {
      "needs_background": "light"
     },
     "output_type": "display_data"
    }
   ],
   "source": [
    "# demo\n",
    "\n",
    "import arabic_reshaper\n",
    "from bidi.algorithm import get_display\n",
    "import matplotlib.pyplot as plt\n",
    "\n",
    "to_arabic_display = lambda text: get_display(text)\n",
    "img, label = random.choice(val_dataset)\n",
    "img, _, _ = dataloader.collate_fn([(img, label)])\n",
    "\n",
    "predicted = decoder.infer(img.cuda())[0]\n",
    "gt = ''.join([PEGON_CHARS[l] for l in filter(lambda x:x!= 0, label)])\n",
    "print(\"Prediction\")\n",
    "print(to_arabic_display(predicted))\n",
    "print(\"Ground truth\")\n",
    "print(to_arabic_display(gt))\n",
    "\n",
    "tensor_to_display = lambda x : transforms.ToPILImage()(transforms.RandomHorizontalFlip(p=1)(x))\n",
    "\n",
    "plt.imshow(tensor_to_display(img[0]),cmap='gray'); plt.show()"
   ]
  }
 ],
 "metadata": {
  "kernelspec": {
   "display_name": "Python 3 (ipykernel)",
   "language": "python",
   "name": "python3"
  },
  "language_info": {
   "codemirror_mode": {
    "name": "ipython",
    "version": 3
   },
   "file_extension": ".py",
   "mimetype": "text/x-python",
   "name": "python",
   "nbconvert_exporter": "python",
   "pygments_lexer": "ipython3",
   "version": "3.8.12"
  }
 },
 "nbformat": 4,
 "nbformat_minor": 5
}
