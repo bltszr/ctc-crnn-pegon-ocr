{
 "cells": [
  {
   "cell_type": "code",
   "execution_count": 1,
   "metadata": {
    "execution": {
     "iopub.execute_input": "2023-05-05T09:38:50.222157Z",
     "iopub.status.busy": "2023-05-05T09:38:50.221728Z",
     "iopub.status.idle": "2023-05-05T09:38:55.090382Z",
     "shell.execute_reply": "2023-05-05T09:38:55.090701Z"
    },
    "scrolled": true
   },
   "outputs": [
    {
     "name": "stdout",
     "output_type": "stream",
     "text": [
      "Looking in indexes: https://pypi.org/simple, https://pypi.ngc.nvidia.com\n",
      "Collecting git+https://github.com/githubharald/CTCDecoder.git\n",
      "  Cloning https://github.com/githubharald/CTCDecoder.git to /tmp/pip-req-build-kbimg86g\n",
      "  Running command git clone -q https://github.com/githubharald/CTCDecoder.git /tmp/pip-req-build-kbimg86g\n",
      "  Resolved https://github.com/githubharald/CTCDecoder.git to commit 6b5c3dd34944e5399a7308e241319b7f9c47e7c3\n",
      "Requirement already satisfied: jiwer in /opt/conda/lib/python3.8/site-packages (3.0.1)\n",
      "Requirement already satisfied: timm in /opt/conda/lib/python3.8/site-packages (0.6.13)\n",
      "Requirement already satisfied: editdistance in /opt/conda/lib/python3.8/site-packages (from ctc-decoder==1.0.1) (0.5.3)\n",
      "Requirement already satisfied: numpy in /opt/conda/lib/python3.8/site-packages (from ctc-decoder==1.0.1) (1.24.1)\n",
      "Requirement already satisfied: rapidfuzz==2.13.7 in /opt/conda/lib/python3.8/site-packages (from jiwer) (2.13.7)\n",
      "Requirement already satisfied: click<9.0.0,>=8.1.3 in /opt/conda/lib/python3.8/site-packages (from jiwer) (8.1.3)\n",
      "Requirement already satisfied: torch>=1.7 in /opt/conda/lib/python3.8/site-packages (from timm) (1.13.1)\n",
      "Requirement already satisfied: torchvision in /opt/conda/lib/python3.8/site-packages (from timm) (0.14.1)\n",
      "Requirement already satisfied: huggingface-hub in /opt/conda/lib/python3.8/site-packages (from timm) (0.11.1)\n",
      "Requirement already satisfied: pyyaml in /opt/conda/lib/python3.8/site-packages (from timm) (6.0)\n",
      "Requirement already satisfied: nvidia-cuda-runtime-cu11==11.7.99 in /opt/conda/lib/python3.8/site-packages (from torch>=1.7->timm) (11.7.99)\n",
      "Requirement already satisfied: nvidia-cudnn-cu11==8.5.0.96 in /opt/conda/lib/python3.8/site-packages (from torch>=1.7->timm) (8.5.0.96)\n",
      "Requirement already satisfied: typing-extensions in /opt/conda/lib/python3.8/site-packages (from torch>=1.7->timm) (4.5.0)\n",
      "Requirement already satisfied: nvidia-cublas-cu11==11.10.3.66 in /opt/conda/lib/python3.8/site-packages (from torch>=1.7->timm) (11.10.3.66)\n",
      "Requirement already satisfied: nvidia-cuda-nvrtc-cu11==11.7.99 in /opt/conda/lib/python3.8/site-packages (from torch>=1.7->timm) (11.7.99)\n",
      "Requirement already satisfied: wheel in /opt/conda/lib/python3.8/site-packages (from nvidia-cublas-cu11==11.10.3.66->torch>=1.7->timm) (0.37.0)\n",
      "Requirement already satisfied: setuptools in /opt/conda/lib/python3.8/site-packages (from nvidia-cublas-cu11==11.10.3.66->torch>=1.7->timm) (58.5.3)\n",
      "Requirement already satisfied: requests in /opt/conda/lib/python3.8/site-packages (from huggingface-hub->timm) (2.26.0)\n",
      "Requirement already satisfied: packaging>=20.9 in /opt/conda/lib/python3.8/site-packages (from huggingface-hub->timm) (21.3)\n",
      "Requirement already satisfied: filelock in /opt/conda/lib/python3.8/site-packages (from huggingface-hub->timm) (3.3.2)\n",
      "Requirement already satisfied: tqdm in /opt/conda/lib/python3.8/site-packages (from huggingface-hub->timm) (4.64.1)\n",
      "Requirement already satisfied: pyparsing!=3.0.5,>=2.0.2 in /opt/conda/lib/python3.8/site-packages (from packaging>=20.9->huggingface-hub->timm) (2.4.7)\n",
      "Requirement already satisfied: certifi>=2017.4.17 in /opt/conda/lib/python3.8/site-packages (from requests->huggingface-hub->timm) (2021.10.8)\n",
      "Requirement already satisfied: idna<4,>=2.5 in /opt/conda/lib/python3.8/site-packages (from requests->huggingface-hub->timm) (3.1)\n",
      "Requirement already satisfied: urllib3<1.27,>=1.21.1 in /opt/conda/lib/python3.8/site-packages (from requests->huggingface-hub->timm) (1.26.15)\n",
      "Requirement already satisfied: charset-normalizer~=2.0.0 in /opt/conda/lib/python3.8/site-packages (from requests->huggingface-hub->timm) (2.0.0)\n",
      "Requirement already satisfied: pillow!=8.3.*,>=5.3.0 in /opt/conda/lib/python3.8/site-packages (from torchvision->timm) (9.3.0)\n",
      "\u001b[33mWARNING: Running pip as the 'root' user can result in broken permissions and conflicting behaviour with the system package manager. It is recommended to use a virtual environment instead: https://pip.pypa.io/warnings/venv\u001b[0m\n"
     ]
    }
   ],
   "source": [
    "!pip install git+https://github.com/githubharald/CTCDecoder.git jiwer timm"
   ]
  },
  {
   "cell_type": "code",
   "execution_count": 2,
   "metadata": {
    "execution": {
     "iopub.execute_input": "2023-05-05T09:38:55.094340Z",
     "iopub.status.busy": "2023-05-05T09:38:55.093966Z",
     "iopub.status.idle": "2023-05-05T09:38:55.095707Z",
     "shell.execute_reply": "2023-05-05T09:38:55.096038Z"
    }
   },
   "outputs": [],
   "source": [
    "# Memilih GPU yang akan digunakan (contohnya: GPU #7)\n",
    "import os\n",
    "os.environ['CUDA_VISIBLE_DEVICES'] = '2'"
   ]
  },
  {
   "cell_type": "code",
   "execution_count": 3,
   "metadata": {
    "execution": {
     "iopub.execute_input": "2023-05-05T09:38:57.148662Z",
     "iopub.status.busy": "2023-05-05T09:38:57.148301Z",
     "iopub.status.idle": "2023-05-05T09:38:57.150347Z",
     "shell.execute_reply": "2023-05-05T09:38:57.149980Z"
    }
   },
   "outputs": [],
   "source": [
    "model_name = 'ctc-ftex-rnn'"
   ]
  },
  {
   "cell_type": "code",
   "execution_count": 4,
   "metadata": {
    "execution": {
     "iopub.execute_input": "2023-05-05T10:36:33.047834Z",
     "iopub.status.busy": "2023-05-05T10:36:33.047481Z",
     "iopub.status.idle": "2023-05-05T10:36:33.048860Z",
     "shell.execute_reply": "2023-05-05T10:36:33.049129Z"
    }
   },
   "outputs": [],
   "source": [
    "feature_extractor = 'resnet50'"
   ]
  },
  {
   "cell_type": "code",
   "execution_count": 5,
   "metadata": {
    "execution": {
     "iopub.execute_input": "2023-05-05T09:38:55.099185Z",
     "iopub.status.busy": "2023-05-05T09:38:55.098781Z",
     "iopub.status.idle": "2023-05-05T09:38:55.100311Z",
     "shell.execute_reply": "2023-05-05T09:38:55.100595Z"
    },
    "executionInfo": {
     "elapsed": 43,
     "status": "ok",
     "timestamp": 1679405033129,
     "user": {
      "displayName": "Beltsazar Sotardodo",
      "userId": "00799609405676889858"
     },
     "user_tz": -420
    },
    "id": "VZaaS_sC6DA9"
   },
   "outputs": [],
   "source": [
    "import importlib\n",
    "import pegon_utils\n",
    "importlib.reload(pegon_utils)\n",
    "from pegon_utils import PEGON_CHARS, CHAR_MAP"
   ]
  },
  {
   "cell_type": "code",
   "execution_count": 6,
   "metadata": {
    "execution": {
     "iopub.execute_input": "2023-05-05T09:38:55.103297Z",
     "iopub.status.busy": "2023-05-05T09:38:55.102928Z",
     "iopub.status.idle": "2023-05-05T09:38:55.104469Z",
     "shell.execute_reply": "2023-05-05T09:38:55.104737Z"
    }
   },
   "outputs": [],
   "source": [
    "for i in CHAR_MAP.keys():\n",
    "    try:\n",
    "        assert len(i) == 1\n",
    "    except AssertionError:\n",
    "        print(i)\n",
    "        raise"
   ]
  },
  {
   "cell_type": "code",
   "execution_count": 7,
   "metadata": {
    "execution": {
     "iopub.execute_input": "2023-05-05T09:38:55.108691Z",
     "iopub.status.busy": "2023-05-05T09:38:55.108321Z",
     "iopub.status.idle": "2023-05-05T09:38:57.145254Z",
     "shell.execute_reply": "2023-05-05T09:38:57.144825Z"
    }
   },
   "outputs": [],
   "source": [
    "import torch\n",
    "import torch.nn as nn\n",
    "import torch.nn.functional as F\n",
    "import torch.nn.utils as utils\n",
    "import torch.optim as optim\n",
    "from torch.utils.data import DataLoader, Dataset\n",
    "from torchvision.transforms import transforms\n",
    "\n",
    "from PIL import Image\n",
    "\n",
    "import json\n",
    "import os\n",
    "import glob\n",
    "import re\n",
    "import datetime\n",
    "import shutil\n",
    "import pickle\n",
    "import unicodedata\n",
    "\n",
    "from functools import partial\n",
    "\n",
    "from tqdm import tqdm\n",
    "import matplotlib.pyplot as plt\n",
    "\n",
    "import numpy as np\n",
    "import random\n",
    "\n",
    "import matplotlib.pyplot as plt\n",
    "\n",
    "import timm\n",
    "\n",
    "seed = 2023\n",
    "torch.manual_seed(seed)\n",
    "np.random.seed(seed)\n",
    "random.seed(seed)"
   ]
  },
  {
   "cell_type": "code",
   "execution_count": 8,
   "metadata": {
    "execution": {
     "iopub.execute_input": "2023-05-05T09:38:57.152855Z",
     "iopub.status.busy": "2023-05-05T09:38:57.152491Z",
     "iopub.status.idle": "2023-05-05T09:38:57.154743Z",
     "shell.execute_reply": "2023-05-05T09:38:57.154434Z"
    }
   },
   "outputs": [],
   "source": [
    "os.makedirs(model_name, exist_ok=True)"
   ]
  },
  {
   "cell_type": "code",
   "execution_count": 9,
   "metadata": {
    "execution": {
     "iopub.execute_input": "2023-05-05T09:38:57.179445Z",
     "iopub.status.busy": "2023-05-05T09:38:57.179090Z",
     "iopub.status.idle": "2023-05-05T10:36:33.016548Z",
     "shell.execute_reply": "2023-05-05T10:36:33.016851Z"
    }
   },
   "outputs": [],
   "source": [
    "importlib.reload(pegon_utils)\n",
    "from pegon_utils import OCRDataset\n",
    "\n",
    "importlib.reload(pegon_utils)\n",
    "from pegon_utils import OCRDataset, QuranAnnotatedDataset\n",
    "from torch.utils.data import random_split, ConcatDataset\n",
    "\n",
    "pegon_synth_dataset = OCRDataset().load('/workspace/Dataset/Synthesized-split/metadata.json')\n",
    "\n",
    "pegon_synth_dataset.char_map = CHAR_MAP\n",
    "\n",
    "dataset_transforms = transforms.Compose([\n",
    "    transforms.Resize((pegon_synth_dataset.avg_img_h, pegon_synth_dataset.avg_img_w)),\n",
    "    transforms.RandomHorizontalFlip(p=1),\n",
    "    transforms.ToTensor(),\n",
    "  ])\n",
    "\n",
    "pegon_synth_dataset.transform = dataset_transforms\n",
    "\n",
    "train_synth_dataset, val_synth_dataset = random_split(pegon_synth_dataset,\n",
    "                                                      lengths=[round(len(pegon_synth_dataset) * frac) for frac in [0.7, 0.3]])\n",
    "\n",
    "quran_train_dataset = QuranAnnotatedDataset('/workspace/Dataset/Quran data set/dicriticText/traning',\n",
    "                      image_transform=dataset_transforms)\n",
    "quran_test_dataset = QuranAnnotatedDataset('/workspace/Dataset/Quran data set/dicriticText/test',\n",
    "                      image_transform=dataset_transforms)\n",
    "\n",
    "train_dataset = ConcatDataset((train_synth_dataset, quran_train_dataset))\n",
    "val_dataset = ConcatDataset((val_synth_dataset, quran_test_dataset))"
   ]
  },
  {
   "cell_type": "code",
   "execution_count": 10,
   "metadata": {
    "execution": {
     "iopub.execute_input": "2023-05-05T10:36:33.027661Z",
     "iopub.status.busy": "2023-05-05T10:36:33.027301Z",
     "iopub.status.idle": "2023-05-05T10:36:33.028663Z",
     "shell.execute_reply": "2023-05-05T10:36:33.028930Z"
    }
   },
   "outputs": [],
   "source": [
    "assert pegon_synth_dataset.char_map == CHAR_MAP"
   ]
  },
  {
   "cell_type": "code",
   "execution_count": 11,
   "metadata": {
    "execution": {
     "iopub.execute_input": "2023-05-05T09:38:57.160753Z",
     "iopub.status.busy": "2023-05-05T09:38:57.160383Z",
     "iopub.status.idle": "2023-05-05T09:38:57.162563Z",
     "shell.execute_reply": "2023-05-05T09:38:57.162247Z"
    },
    "executionInfo": {
     "elapsed": 3900,
     "status": "ok",
     "timestamp": 1679405037002,
     "user": {
      "displayName": "Beltsazar Sotardodo",
      "userId": "00799609405676889858"
     },
     "user_tz": -420
    },
    "id": "XztSoslZDnpo"
   },
   "outputs": [],
   "source": [
    "# Define the OCR model architecture\n",
    "class CTCFtEx(nn.Module):\n",
    "    def __init__(self, num_classes, image_height, image_width,\n",
    "                 model_output_len, feature_extractor,\n",
    "                 freeze_extractor=True, debug=False):\n",
    "        super().__init__()\n",
    "        self.debug = debug\n",
    "\n",
    "        self.model_output_len = model_output_len\n",
    "        self.image_height = image_height\n",
    "        self.image_width = image_width\n",
    "        self.feature_extractor = feature_extractor\n",
    "\n",
    "        self.feature_model = timm.create_model(self.feature_extractor, pretrained=True, num_classes=None)\n",
    "        \n",
    "        if freeze_extractor:\n",
    "            for param in self.feature_model.parameters():\n",
    "                param.requires_grad = False\n",
    "        \n",
    "        # random tensor just to get the output dimensions\n",
    "        _, self.ft_channels, self.ft_height, self.ft_width = self.feature_model.forward_features(torch.randn(1, 3, self.image_height, self.image_width)).shape\n",
    "        \n",
    "        \n",
    "        self.fc1 = nn.Linear(in_features=self.ft_channels * self.ft_height,\n",
    "                             out_features=self.ft_channels)\n",
    "        # RNN part\n",
    "        self.lstm1 = nn.LSTM(input_size=self.ft_channels, hidden_size=128,\n",
    "                             bidirectional=True, batch_first=True)\n",
    "        \n",
    "        self.lstm2 = nn.LSTM(input_size=256, hidden_size=256,\n",
    "                             bidirectional=True, batch_first=True)\n",
    "\n",
    "        self.fc2 = nn.Linear(in_features=2*256, out_features=num_classes)\n",
    "\n",
    "    def forward(self, x):\n",
    "        x = self.feature_model.forward_features(x)\n",
    "\n",
    "        x = F.interpolate(x, size=(self.ft_height, self.model_output_len),\n",
    "                          mode='bilinear', align_corners=False)\n",
    "        x = x.permute(0, 3, 1, 2).reshape(x.shape[0],\n",
    "                                          x.shape[3],\n",
    "                                          x.shape[1] * x.shape[2])\n",
    "        x = self.fc1(x)\n",
    "        x, _ = self.lstm1(x)\n",
    "        x, _ = self.lstm2(x)\n",
    "        x = self.fc2(x)\n",
    "        x = x.log_softmax(2)\n",
    "        return x"
   ]
  },
  {
   "cell_type": "code",
   "execution_count": 12,
   "metadata": {},
   "outputs": [],
   "source": [
    "importlib.reload(pegon_utils)\n",
    "from pegon_utils import model_length\n",
    "\n",
    "model = CTCFtEx(num_classes=len(CHAR_MAP),\n",
    "                image_width=pegon_synth_dataset.avg_img_w, \n",
    "                image_height=pegon_synth_dataset.avg_img_h,\n",
    "                model_output_len=model_length(b=2,c=100)(pegon_synth_dataset.max_seq_len),\n",
    "                feature_extractor=feature_extractor,\n",
    "                freeze_extractor=False)"
   ]
  },
  {
   "cell_type": "code",
   "execution_count": 13,
   "metadata": {
    "colab": {
     "base_uri": "https://localhost:8080/",
     "height": 49,
     "referenced_widgets": [
      "1c595935a60640a2ab3a3ae7f2f2537b",
      "a03dc406ccad4c72a9e2ee378c369f1a",
      "cf6155ce6d1e466689881e22b3ab8284",
      "3ab5f0dd68544bd29c9b3dfd30e7aee5",
      "6162a3e989d44056b035dbdbe5b1b31d",
      "82fee171da4c4e119bf8d91604915179",
      "e331cfbba3c341f193902668a5802b29",
      "35dbcfeb91174e969f8eeb027dd7d324",
      "3a73484261e44213b8afba21285c49dd",
      "d77f2a5d39b34ddfbc9848d1313f5c44",
      "d62f599fc124462bb5d0926da3635201"
     ]
    },
    "execution": {
     "iopub.execute_input": "2023-05-05T10:36:33.372038Z",
     "iopub.status.busy": "2023-05-05T10:36:33.371640Z",
     "iopub.status.idle": "2023-05-05T10:36:36.405671Z",
     "shell.execute_reply": "2023-05-05T10:36:36.405256Z"
    },
    "id": "Ab7o0llsuM89",
    "outputId": "aafa4e88-3369-46aa-9517-3fdefed7d962"
   },
   "outputs": [],
   "source": [
    "importlib.reload(pegon_utils)\n",
    "from pegon_utils import CTCTrainer, FocalCTCLoss\n",
    "\n",
    "# Train the model\n",
    "trainer = CTCTrainer(model=model,\n",
    "                     max_norm=None,\n",
    "                     optimizer=optim.AdamW(model.parameters(), lr=1e-3),\n",
    "                     batch_size=4,\n",
    "                     num_workers=2,\n",
    "                     dataset=train_dataset)"
   ]
  },
  {
   "cell_type": "code",
   "execution_count": 14,
   "metadata": {
    "execution": {
     "iopub.execute_input": "2023-05-05T10:36:36.409545Z",
     "iopub.status.busy": "2023-05-05T10:36:36.409172Z",
     "iopub.status.idle": "2023-05-05T10:36:37.040763Z",
     "shell.execute_reply": "2023-05-05T10:36:37.040359Z"
    }
   },
   "outputs": [],
   "source": [
    "test = trainer.model(train_dataset[0][0].unsqueeze(0).to(trainer.device))\n",
    "assert test.shape[-1] == len(CHAR_MAP)\n",
    "assert not test.isnan().any()"
   ]
  },
  {
   "cell_type": "code",
   "execution_count": 15,
   "metadata": {
    "execution": {
     "iopub.execute_input": "2023-05-05T10:36:37.043808Z",
     "iopub.status.busy": "2023-05-05T10:36:37.043445Z",
     "iopub.status.idle": "2023-05-05T10:36:37.045802Z",
     "shell.execute_reply": "2023-05-05T10:36:37.045426Z"
    },
    "executionInfo": {
     "elapsed": 69,
     "status": "ok",
     "timestamp": 1679405037011,
     "user": {
      "displayName": "Beltsazar Sotardodo",
      "userId": "00799609405676889858"
     },
     "user_tz": -420
    },
    "id": "3zpD16P7rRHh"
   },
   "outputs": [
    {
     "name": "stdout",
     "output_type": "stream",
     "text": [
      "2023-05-18 23:46:08.843077\n"
     ]
    }
   ],
   "source": [
    "timestamp = datetime.datetime.now()\n",
    "print(timestamp)"
   ]
  },
  {
   "cell_type": "code",
   "execution_count": null,
   "metadata": {
    "execution": {
     "iopub.execute_input": "2023-05-05T10:36:37.084540Z",
     "iopub.status.busy": "2023-05-05T10:36:37.084186Z",
     "iopub.status.idle": "2023-05-05T10:36:38.048818Z",
     "shell.execute_reply": "2023-05-05T10:36:38.049158Z"
    },
    "id": "e9pHFnaHojID",
    "scrolled": true
   },
   "outputs": [
    {
     "name": "stderr",
     "output_type": "stream",
     "text": [
      "Epoch [1/2] | Batch [15072/15072] | Running Loss: 81446.5014: 100%|██████████| 15072/15072 [32:12<00:00,  7.80it/s] \n",
      "Epoch [2/2] | Batch [12693/15072] | Running Loss: 37240.3247:  84%|████████▍ | 12693/15072 [39:19<08:21,  4.74it/s] "
     ]
    }
   ],
   "source": [
    "trainer.train(num_epochs=2)"
   ]
  },
  {
   "cell_type": "code",
   "execution_count": null,
   "metadata": {
    "execution": {
     "iopub.execute_input": "2023-05-05T10:36:38.063346Z",
     "iopub.status.busy": "2023-05-05T10:36:38.061115Z",
     "iopub.status.idle": "2023-05-05T10:36:38.232652Z",
     "shell.execute_reply": "2023-05-05T10:36:38.232325Z"
    }
   },
   "outputs": [],
   "source": [
    "trainer.plot_history(path=f'{model_name}/{timestamp}.{feature_extractor}.train.png')\n",
    "trainer.save(f'{model_name}/{timestamp}.{feature_extractor}.pt')"
   ]
  },
  {
   "cell_type": "code",
   "execution_count": null,
   "metadata": {
    "execution": {
     "iopub.execute_input": "2023-05-05T10:36:38.238697Z",
     "iopub.status.busy": "2023-05-05T10:36:38.238346Z",
     "iopub.status.idle": "2023-05-05T10:36:38.240240Z",
     "shell.execute_reply": "2023-05-05T10:36:38.239933Z"
    }
   },
   "outputs": [],
   "source": [
    "importlib.reload(pegon_utils)\n",
    "from pegon_utils import CTCDecoder, BestPathDecoder, evaluate, plot_cer_wer"
   ]
  },
  {
   "cell_type": "code",
   "execution_count": null,
   "metadata": {
    "execution": {
     "iopub.execute_input": "2023-05-05T10:36:38.279574Z",
     "iopub.status.busy": "2023-05-05T10:36:38.279236Z",
     "iopub.status.idle": "2023-05-05T10:36:38.281075Z",
     "shell.execute_reply": "2023-05-05T10:36:38.280731Z"
    }
   },
   "outputs": [],
   "source": [
    "dataloader = DataLoader(val_dataset,\n",
    "                        batch_size=trainer.batch_size,\n",
    "                        shuffle=True,\n",
    "                        num_workers=trainer.num_workers,\n",
    "                        collate_fn=trainer.collate_fn)"
   ]
  },
  {
   "cell_type": "code",
   "execution_count": null,
   "metadata": {
    "execution": {
     "iopub.execute_input": "2023-05-05T10:36:38.283322Z",
     "iopub.status.busy": "2023-05-05T10:36:38.282964Z",
     "iopub.status.idle": "2023-05-05T10:36:38.284793Z",
     "shell.execute_reply": "2023-05-05T10:36:38.284452Z"
    }
   },
   "outputs": [],
   "source": [
    "model_path = f'{model_name}/{timestamp}.{feature_extractor}.pt'"
   ]
  },
  {
   "cell_type": "code",
   "execution_count": null,
   "metadata": {
    "execution": {
     "iopub.execute_input": "2023-05-05T10:36:38.294493Z",
     "iopub.status.busy": "2023-05-05T10:36:38.291063Z",
     "iopub.status.idle": "2023-05-05T10:36:38.396863Z",
     "shell.execute_reply": "2023-05-05T10:36:38.397173Z"
    }
   },
   "outputs": [],
   "source": [
    "decoder = BestPathDecoder.from_path(model_path, CHAR_MAP, blank_char=PEGON_CHARS[0])\n",
    "cers, wers = evaluate(decoder, dataloader)"
   ]
  },
  {
   "cell_type": "code",
   "execution_count": null,
   "metadata": {
    "execution": {
     "iopub.execute_input": "2023-05-05T10:36:38.409465Z",
     "iopub.status.busy": "2023-05-05T10:36:38.403657Z",
     "iopub.status.idle": "2023-05-05T10:36:38.411940Z",
     "shell.execute_reply": "2023-05-05T10:36:38.411628Z"
    }
   },
   "outputs": [],
   "source": [
    "plot_cer_wer(cers, wers, path=f'{model_name}/{timestamp}.{feature_extractor}.wer-cer.png')"
   ]
  },
  {
   "cell_type": "code",
   "execution_count": null,
   "metadata": {
    "execution": {
     "iopub.execute_input": "2023-05-05T10:36:38.415091Z",
     "iopub.status.busy": "2023-05-05T10:36:38.414738Z",
     "iopub.status.idle": "2023-05-05T10:36:38.444306Z",
     "shell.execute_reply": "2023-05-05T10:36:38.443992Z"
    },
    "scrolled": false
   },
   "outputs": [],
   "source": [
    "# demo\n",
    "\n",
    "import arabic_reshaper\n",
    "from bidi.algorithm import get_display\n",
    "\n",
    "to_arabic_display = lambda text: get_display(arabic_reshaper.reshape(text))\n",
    "img, label, _ = dataloader.collate_fn([random.choice(val_dataset)])\n",
    "\n",
    "predicted = decoder.infer(img.cuda())[0]\n",
    "print(predicted)\n",
    "\n",
    "tensor_to_display = lambda x : transforms.ToPILImage()(transforms.RandomHorizontalFlip(p=1)(x))\n",
    "\n",
    "plt.imshow(tensor_to_display(img[0])); plt.title(f'predicted = {to_arabic_display(predicted)}'); plt.show()"
   ]
  },
  {
   "cell_type": "code",
   "execution_count": null,
   "metadata": {},
   "outputs": [],
   "source": [
    "import importlib\n",
    "import pegon_utils\n",
    "importlib.reload(pegon_utils)\n",
    "from pegon_utils import FilenameOCRDataset, PegonAnnotatedDataset\n",
    "\n",
    "annotated_dataset = PegonAnnotatedDataset('/workspace/Dataset/pegon-ocr-patched',\n",
    "                                          image_transform=dataset_transforms)\n",
    "\n",
    "annotated_dataloader = DataLoader(annotated_dataset, shuffle=True,\n",
    "                                  batch_size=trainer.batch_size,\n",
    "                                  num_workers=trainer.num_workers,\n",
    "                                  collate_fn=trainer.collate_fn)\n",
    "\n",
    "cers, wers = evaluate(decoder, annotated_dataloader)"
   ]
  },
  {
   "cell_type": "code",
   "execution_count": null,
   "metadata": {},
   "outputs": [],
   "source": [
    "plot_cer_wer(cers, wers, path=f'{model_name}/{timestamp}.{feature_extractor}.eval.wer-cer.png')"
   ]
  },
  {
   "cell_type": "code",
   "execution_count": null,
   "metadata": {},
   "outputs": [],
   "source": [
    "# demo\n",
    "\n",
    "import arabic_reshaper\n",
    "from bidi.algorithm import get_display\n",
    "\n",
    "to_arabic_display = lambda text: get_display(arabic_reshaper.reshape(text))\n",
    "img, label, _ = dataloader.collate_fn([random.choice(annotated_dataset)])\n",
    "\n",
    "predicted = decoder.infer(img.cuda())[0]\n",
    "print(predicted)\n",
    "\n",
    "tensor_to_display = lambda x : transforms.ToPILImage()(transforms.RandomHorizontalFlip(p=1)(x))\n",
    "\n",
    "plt.imshow(tensor_to_display(img[0])); plt.title(f'predicted = {to_arabic_display(predicted)}'); plt.show()"
   ]
  }
 ],
 "metadata": {
  "accelerator": "GPU",
  "colab": {
   "provenance": []
  },
  "gpuClass": "standard",
  "kernelspec": {
   "display_name": "Python 3 (ipykernel)",
   "language": "python",
   "name": "python3"
  },
  "language_info": {
   "codemirror_mode": {
    "name": "ipython",
    "version": 3
   },
   "file_extension": ".py",
   "mimetype": "text/x-python",
   "name": "python",
   "nbconvert_exporter": "python",
   "pygments_lexer": "ipython3",
   "version": "3.8.12"
  },
  "widgets": {
   "application/vnd.jupyter.widget-state+json": {
    "1c595935a60640a2ab3a3ae7f2f2537b": {
     "model_module": "@jupyter-widgets/controls",
     "model_module_version": "1.5.0",
     "model_name": "HBoxModel",
     "state": {
      "_dom_classes": [],
      "_model_module": "@jupyter-widgets/controls",
      "_model_module_version": "1.5.0",
      "_model_name": "HBoxModel",
      "_view_count": null,
      "_view_module": "@jupyter-widgets/controls",
      "_view_module_version": "1.5.0",
      "_view_name": "HBoxView",
      "box_style": "",
      "children": [
       "IPY_MODEL_a03dc406ccad4c72a9e2ee378c369f1a",
       "IPY_MODEL_cf6155ce6d1e466689881e22b3ab8284",
       "IPY_MODEL_3ab5f0dd68544bd29c9b3dfd30e7aee5"
      ],
      "layout": "IPY_MODEL_6162a3e989d44056b035dbdbe5b1b31d"
     }
    },
    "35dbcfeb91174e969f8eeb027dd7d324": {
     "model_module": "@jupyter-widgets/base",
     "model_module_version": "1.2.0",
     "model_name": "LayoutModel",
     "state": {
      "_model_module": "@jupyter-widgets/base",
      "_model_module_version": "1.2.0",
      "_model_name": "LayoutModel",
      "_view_count": null,
      "_view_module": "@jupyter-widgets/base",
      "_view_module_version": "1.2.0",
      "_view_name": "LayoutView",
      "align_content": null,
      "align_items": null,
      "align_self": null,
      "border": null,
      "bottom": null,
      "display": null,
      "flex": null,
      "flex_flow": null,
      "grid_area": null,
      "grid_auto_columns": null,
      "grid_auto_flow": null,
      "grid_auto_rows": null,
      "grid_column": null,
      "grid_gap": null,
      "grid_row": null,
      "grid_template_areas": null,
      "grid_template_columns": null,
      "grid_template_rows": null,
      "height": null,
      "justify_content": null,
      "justify_items": null,
      "left": null,
      "margin": null,
      "max_height": null,
      "max_width": null,
      "min_height": null,
      "min_width": null,
      "object_fit": null,
      "object_position": null,
      "order": null,
      "overflow": null,
      "overflow_x": null,
      "overflow_y": null,
      "padding": null,
      "right": null,
      "top": null,
      "visibility": null,
      "width": null
     }
    },
    "3a73484261e44213b8afba21285c49dd": {
     "model_module": "@jupyter-widgets/controls",
     "model_module_version": "1.5.0",
     "model_name": "ProgressStyleModel",
     "state": {
      "_model_module": "@jupyter-widgets/controls",
      "_model_module_version": "1.5.0",
      "_model_name": "ProgressStyleModel",
      "_view_count": null,
      "_view_module": "@jupyter-widgets/base",
      "_view_module_version": "1.2.0",
      "_view_name": "StyleView",
      "bar_color": null,
      "description_width": ""
     }
    },
    "3ab5f0dd68544bd29c9b3dfd30e7aee5": {
     "model_module": "@jupyter-widgets/controls",
     "model_module_version": "1.5.0",
     "model_name": "HTMLModel",
     "state": {
      "_dom_classes": [],
      "_model_module": "@jupyter-widgets/controls",
      "_model_module_version": "1.5.0",
      "_model_name": "HTMLModel",
      "_view_count": null,
      "_view_module": "@jupyter-widgets/controls",
      "_view_module_version": "1.5.0",
      "_view_name": "HTMLView",
      "description": "",
      "description_tooltip": null,
      "layout": "IPY_MODEL_d77f2a5d39b34ddfbc9848d1313f5c44",
      "placeholder": "​",
      "style": "IPY_MODEL_d62f599fc124462bb5d0926da3635201",
      "value": " 0/1530 [00:00&lt;?, ?it/s]"
     }
    },
    "6162a3e989d44056b035dbdbe5b1b31d": {
     "model_module": "@jupyter-widgets/base",
     "model_module_version": "1.2.0",
     "model_name": "LayoutModel",
     "state": {
      "_model_module": "@jupyter-widgets/base",
      "_model_module_version": "1.2.0",
      "_model_name": "LayoutModel",
      "_view_count": null,
      "_view_module": "@jupyter-widgets/base",
      "_view_module_version": "1.2.0",
      "_view_name": "LayoutView",
      "align_content": null,
      "align_items": null,
      "align_self": null,
      "border": null,
      "bottom": null,
      "display": null,
      "flex": null,
      "flex_flow": null,
      "grid_area": null,
      "grid_auto_columns": null,
      "grid_auto_flow": null,
      "grid_auto_rows": null,
      "grid_column": null,
      "grid_gap": null,
      "grid_row": null,
      "grid_template_areas": null,
      "grid_template_columns": null,
      "grid_template_rows": null,
      "height": null,
      "justify_content": null,
      "justify_items": null,
      "left": null,
      "margin": null,
      "max_height": null,
      "max_width": null,
      "min_height": null,
      "min_width": null,
      "object_fit": null,
      "object_position": null,
      "order": null,
      "overflow": null,
      "overflow_x": null,
      "overflow_y": null,
      "padding": null,
      "right": null,
      "top": null,
      "visibility": null,
      "width": null
     }
    },
    "82fee171da4c4e119bf8d91604915179": {
     "model_module": "@jupyter-widgets/base",
     "model_module_version": "1.2.0",
     "model_name": "LayoutModel",
     "state": {
      "_model_module": "@jupyter-widgets/base",
      "_model_module_version": "1.2.0",
      "_model_name": "LayoutModel",
      "_view_count": null,
      "_view_module": "@jupyter-widgets/base",
      "_view_module_version": "1.2.0",
      "_view_name": "LayoutView",
      "align_content": null,
      "align_items": null,
      "align_self": null,
      "border": null,
      "bottom": null,
      "display": null,
      "flex": null,
      "flex_flow": null,
      "grid_area": null,
      "grid_auto_columns": null,
      "grid_auto_flow": null,
      "grid_auto_rows": null,
      "grid_column": null,
      "grid_gap": null,
      "grid_row": null,
      "grid_template_areas": null,
      "grid_template_columns": null,
      "grid_template_rows": null,
      "height": null,
      "justify_content": null,
      "justify_items": null,
      "left": null,
      "margin": null,
      "max_height": null,
      "max_width": null,
      "min_height": null,
      "min_width": null,
      "object_fit": null,
      "object_position": null,
      "order": null,
      "overflow": null,
      "overflow_x": null,
      "overflow_y": null,
      "padding": null,
      "right": null,
      "top": null,
      "visibility": null,
      "width": null
     }
    },
    "a03dc406ccad4c72a9e2ee378c369f1a": {
     "model_module": "@jupyter-widgets/controls",
     "model_module_version": "1.5.0",
     "model_name": "HTMLModel",
     "state": {
      "_dom_classes": [],
      "_model_module": "@jupyter-widgets/controls",
      "_model_module_version": "1.5.0",
      "_model_name": "HTMLModel",
      "_view_count": null,
      "_view_module": "@jupyter-widgets/controls",
      "_view_module_version": "1.5.0",
      "_view_name": "HTMLView",
      "description": "",
      "description_tooltip": null,
      "layout": "IPY_MODEL_82fee171da4c4e119bf8d91604915179",
      "placeholder": "​",
      "style": "IPY_MODEL_e331cfbba3c341f193902668a5802b29",
      "value": "  0%"
     }
    },
    "cf6155ce6d1e466689881e22b3ab8284": {
     "model_module": "@jupyter-widgets/controls",
     "model_module_version": "1.5.0",
     "model_name": "FloatProgressModel",
     "state": {
      "_dom_classes": [],
      "_model_module": "@jupyter-widgets/controls",
      "_model_module_version": "1.5.0",
      "_model_name": "FloatProgressModel",
      "_view_count": null,
      "_view_module": "@jupyter-widgets/controls",
      "_view_module_version": "1.5.0",
      "_view_name": "ProgressView",
      "bar_style": "",
      "description": "",
      "description_tooltip": null,
      "layout": "IPY_MODEL_35dbcfeb91174e969f8eeb027dd7d324",
      "max": 1530,
      "min": 0,
      "orientation": "horizontal",
      "style": "IPY_MODEL_3a73484261e44213b8afba21285c49dd",
      "value": 0
     }
    },
    "d62f599fc124462bb5d0926da3635201": {
     "model_module": "@jupyter-widgets/controls",
     "model_module_version": "1.5.0",
     "model_name": "DescriptionStyleModel",
     "state": {
      "_model_module": "@jupyter-widgets/controls",
      "_model_module_version": "1.5.0",
      "_model_name": "DescriptionStyleModel",
      "_view_count": null,
      "_view_module": "@jupyter-widgets/base",
      "_view_module_version": "1.2.0",
      "_view_name": "StyleView",
      "description_width": ""
     }
    },
    "d77f2a5d39b34ddfbc9848d1313f5c44": {
     "model_module": "@jupyter-widgets/base",
     "model_module_version": "1.2.0",
     "model_name": "LayoutModel",
     "state": {
      "_model_module": "@jupyter-widgets/base",
      "_model_module_version": "1.2.0",
      "_model_name": "LayoutModel",
      "_view_count": null,
      "_view_module": "@jupyter-widgets/base",
      "_view_module_version": "1.2.0",
      "_view_name": "LayoutView",
      "align_content": null,
      "align_items": null,
      "align_self": null,
      "border": null,
      "bottom": null,
      "display": null,
      "flex": null,
      "flex_flow": null,
      "grid_area": null,
      "grid_auto_columns": null,
      "grid_auto_flow": null,
      "grid_auto_rows": null,
      "grid_column": null,
      "grid_gap": null,
      "grid_row": null,
      "grid_template_areas": null,
      "grid_template_columns": null,
      "grid_template_rows": null,
      "height": null,
      "justify_content": null,
      "justify_items": null,
      "left": null,
      "margin": null,
      "max_height": null,
      "max_width": null,
      "min_height": null,
      "min_width": null,
      "object_fit": null,
      "object_position": null,
      "order": null,
      "overflow": null,
      "overflow_x": null,
      "overflow_y": null,
      "padding": null,
      "right": null,
      "top": null,
      "visibility": null,
      "width": null
     }
    },
    "e331cfbba3c341f193902668a5802b29": {
     "model_module": "@jupyter-widgets/controls",
     "model_module_version": "1.5.0",
     "model_name": "DescriptionStyleModel",
     "state": {
      "_model_module": "@jupyter-widgets/controls",
      "_model_module_version": "1.5.0",
      "_model_name": "DescriptionStyleModel",
      "_view_count": null,
      "_view_module": "@jupyter-widgets/base",
      "_view_module_version": "1.2.0",
      "_view_name": "StyleView",
      "description_width": ""
     }
    }
   }
  }
 },
 "nbformat": 4,
 "nbformat_minor": 1
}
