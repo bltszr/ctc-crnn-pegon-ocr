{
 "cells": [
  {
   "cell_type": "code",
   "execution_count": 1,
   "metadata": {
    "execution": {
     "iopub.execute_input": "2023-05-02T20:12:53.052234Z",
     "iopub.status.busy": "2023-05-02T20:12:53.051842Z",
     "iopub.status.idle": "2023-05-02T20:12:53.053478Z",
     "shell.execute_reply": "2023-05-02T20:12:53.053772Z"
    }
   },
   "outputs": [],
   "source": [
    "# Memilih GPU yang akan digunakan (contohnya: GPU #7)\n",
    "import os\n",
    "os.environ['CUDA_VISIBLE_DEVICES'] = '3'"
   ]
  },
  {
   "cell_type": "code",
   "execution_count": 2,
   "metadata": {
    "execution": {
     "iopub.execute_input": "2023-05-02T20:12:53.057022Z",
     "iopub.status.busy": "2023-05-02T20:12:53.056623Z",
     "iopub.status.idle": "2023-05-02T20:12:53.058386Z",
     "shell.execute_reply": "2023-05-02T20:12:53.058056Z"
    },
    "executionInfo": {
     "elapsed": 43,
     "status": "ok",
     "timestamp": 1679405033129,
     "user": {
      "displayName": "Beltsazar Sotardodo",
      "userId": "00799609405676889858"
     },
     "user_tz": -420
    },
    "id": "VZaaS_sC6DA9"
   },
   "outputs": [],
   "source": [
    "import importlib\n",
    "import pegon_utils\n",
    "importlib.reload(pegon_utils)\n",
    "from pegon_utils import PEGON_CHARS, CHAR_MAP, OCRDataset"
   ]
  },
  {
   "cell_type": "code",
   "execution_count": 3,
   "metadata": {
    "execution": {
     "iopub.execute_input": "2023-05-02T20:12:53.061094Z",
     "iopub.status.busy": "2023-05-02T20:12:53.060737Z",
     "iopub.status.idle": "2023-05-02T20:12:53.062474Z",
     "shell.execute_reply": "2023-05-02T20:12:53.062103Z"
    }
   },
   "outputs": [],
   "source": [
    "for i in CHAR_MAP.keys():\n",
    "    try:\n",
    "        assert len(i) == 1\n",
    "    except AssertionError:\n",
    "        print(i)\n",
    "        raise"
   ]
  },
  {
   "cell_type": "code",
   "execution_count": 4,
   "metadata": {
    "execution": {
     "iopub.execute_input": "2023-05-02T20:12:53.066300Z",
     "iopub.status.busy": "2023-05-02T20:12:53.065918Z",
     "iopub.status.idle": "2023-05-02T20:12:55.171549Z",
     "shell.execute_reply": "2023-05-02T20:12:55.171936Z"
    }
   },
   "outputs": [],
   "source": [
    "import torch\n",
    "import torch.nn as nn\n",
    "import torch.nn.functional as F\n",
    "import torch.nn.utils as utils\n",
    "import torch.optim as optim\n",
    "from torch.utils.data import DataLoader, Dataset\n",
    "from torchvision.transforms import transforms\n",
    "\n",
    "from PIL import Image\n",
    "\n",
    "import json\n",
    "import os\n",
    "import glob\n",
    "import re\n",
    "import datetime\n",
    "import shutil\n",
    "import pickle\n",
    "import unicodedata\n",
    "\n",
    "from functools import partial\n",
    "\n",
    "from tqdm import tqdm\n",
    "import matplotlib.pyplot as plt\n",
    "\n",
    "import numpy as np\n",
    "import random\n",
    "\n",
    "import matplotlib.pyplot as plt\n",
    "\n",
    "seed = 2023\n",
    "torch.manual_seed(seed)\n",
    "np.random.seed(seed)\n",
    "random.seed(seed)"
   ]
  },
  {
   "cell_type": "code",
   "execution_count": 5,
   "metadata": {
    "execution": {
     "iopub.execute_input": "2023-05-02T20:12:55.175424Z",
     "iopub.status.busy": "2023-05-02T20:12:55.174978Z",
     "iopub.status.idle": "2023-05-02T20:12:55.177023Z",
     "shell.execute_reply": "2023-05-02T20:12:55.177348Z"
    }
   },
   "outputs": [],
   "source": [
    "model_name = 'ctc-crnn-no-stretch-v2'"
   ]
  },
  {
   "cell_type": "code",
   "execution_count": 6,
   "metadata": {
    "execution": {
     "iopub.execute_input": "2023-05-02T20:12:55.180008Z",
     "iopub.status.busy": "2023-05-02T20:12:55.179577Z",
     "iopub.status.idle": "2023-05-02T20:12:55.181598Z",
     "shell.execute_reply": "2023-05-02T20:12:55.182032Z"
    }
   },
   "outputs": [],
   "source": [
    "os.makedirs(model_name, exist_ok=True)"
   ]
  },
  {
   "cell_type": "code",
   "execution_count": 7,
   "metadata": {
    "execution": {
     "iopub.execute_input": "2023-05-02T20:12:55.189592Z",
     "iopub.status.busy": "2023-05-02T20:12:55.189127Z",
     "iopub.status.idle": "2023-05-02T20:12:55.191505Z",
     "shell.execute_reply": "2023-05-02T20:12:55.191847Z"
    },
    "executionInfo": {
     "elapsed": 3900,
     "status": "ok",
     "timestamp": 1679405037002,
     "user": {
      "displayName": "Beltsazar Sotardodo",
      "userId": "00799609405676889858"
     },
     "user_tz": -420
    },
    "id": "XztSoslZDnpo"
   },
   "outputs": [],
   "source": [
    "import models\n",
    "importlib.reload(models)\n",
    "from models import CTCCRNNNoStretchV2, ResizeAndPadHorizontal"
   ]
  },
  {
   "cell_type": "code",
   "execution_count": 8,
   "metadata": {
    "execution": {
     "iopub.execute_input": "2023-05-02T20:12:55.209123Z",
     "iopub.status.busy": "2023-05-02T20:12:55.208670Z",
     "iopub.status.idle": "2023-05-02T20:12:55.284041Z",
     "shell.execute_reply": "2023-05-02T20:12:55.284345Z"
    }
   },
   "outputs": [],
   "source": [
    "importlib.reload(pegon_utils)\n",
    "from pegon_utils import OCRDataset, QuranAnnotatedDataset, model_length\n",
    "from torch.utils.data import random_split, ConcatDataset\n",
    "\n",
    "pegon_synth_dataset = OCRDataset().load('/workspace/Dataset/Synthesized-split/metadata.json')\n",
    "\n",
    "pegon_synth_dataset.char_map = CHAR_MAP\n",
    "\n",
    "\n",
    "intended_model_length = model_length(b=2,c=100)(pegon_synth_dataset.max_seq_len)\n",
    "# downsample is going to happen two times, so the target image has to be 4 times as large\n",
    "image_width = 4 * intended_model_length\n",
    "\n",
    "dataset_transforms = transforms.Compose([\n",
    "    transforms.Grayscale(num_output_channels=1),\n",
    "    ResizeAndPadHorizontal(target_w=image_width,\n",
    "                           target_h=pegon_synth_dataset.avg_img_h),\n",
    "    transforms.RandomHorizontalFlip(p=1),\n",
    "    transforms.ToTensor(),\n",
    "])\n",
    "\n",
    "pegon_synth_dataset.transform = dataset_transforms\n",
    "\n",
    "train_synth_dataset, val_synth_dataset = random_split(pegon_synth_dataset,\n",
    "                                                      lengths=[round(len(pegon_synth_dataset) * frac) for frac in [0.7, 0.3]])\n",
    "\n",
    "quran_train_dataset = QuranAnnotatedDataset('/workspace/Dataset/Quran data set/dicriticText/traning',\n",
    "                      image_transform=dataset_transforms)\n",
    "quran_test_dataset = QuranAnnotatedDataset('/workspace/Dataset/Quran data set/dicriticText/test',\n",
    "                      image_transform=dataset_transforms)\n",
    "\n",
    "train_dataset = ConcatDataset((train_synth_dataset, quran_train_dataset))\n",
    "val_dataset = ConcatDataset((val_synth_dataset, quran_test_dataset))"
   ]
  },
  {
   "cell_type": "code",
   "execution_count": 9,
   "metadata": {},
   "outputs": [],
   "source": [
    "importlib.reload(pegon_utils)\n",
    "from pegon_utils import model_length\n",
    "\n",
    "model = CTCCRNNNoStretchV2(ids_to_chars=PEGON_CHARS,\n",
    "                         image_height=pegon_synth_dataset.avg_img_h,\n",
    "                         image_width=image_width,\n",
    "                         model_output_len=intended_model_length,\n",
    "                         dropout_rate=0,\n",
    "                         conv_channels=[16, 16],\n",
    "                         lstm_sizes=[256, 128])"
   ]
  },
  {
   "cell_type": "code",
   "execution_count": 10,
   "metadata": {
    "colab": {
     "base_uri": "https://localhost:8080/",
     "height": 49,
     "referenced_widgets": [
      "1c595935a60640a2ab3a3ae7f2f2537b",
      "a03dc406ccad4c72a9e2ee378c369f1a",
      "cf6155ce6d1e466689881e22b3ab8284",
      "3ab5f0dd68544bd29c9b3dfd30e7aee5",
      "6162a3e989d44056b035dbdbe5b1b31d",
      "82fee171da4c4e119bf8d91604915179",
      "e331cfbba3c341f193902668a5802b29",
      "35dbcfeb91174e969f8eeb027dd7d324",
      "3a73484261e44213b8afba21285c49dd",
      "d77f2a5d39b34ddfbc9848d1313f5c44",
      "d62f599fc124462bb5d0926da3635201"
     ]
    },
    "execution": {
     "iopub.execute_input": "2023-05-02T20:12:55.664029Z",
     "iopub.status.busy": "2023-05-02T20:12:55.663451Z",
     "iopub.status.idle": "2023-05-02T20:13:00.130452Z",
     "shell.execute_reply": "2023-05-02T20:13:00.130939Z"
    },
    "id": "Ab7o0llsuM89",
    "outputId": "aafa4e88-3369-46aa-9517-3fdefed7d962"
   },
   "outputs": [],
   "source": [
    "importlib.reload(pegon_utils)\n",
    "from pegon_utils import CTCTrainer, FocalCTCLoss\n",
    "\n",
    "# Train the model\n",
    "trainer = CTCTrainer(model=model,\n",
    "                     max_norm=None,\n",
    "#                      lr=1e-3,\n",
    "                     optimizer=optim.AdamW(model.parameters(), lr=1e-3),\n",
    "                     criterion=FocalCTCLoss(zero_infinity=True,\n",
    "                                            alpha=0.25,\n",
    "                                            gamma=0.75),\n",
    "                     batch_size=4,\n",
    "                     num_workers=2,\n",
    "                     dataset=train_dataset)"
   ]
  },
  {
   "cell_type": "code",
   "execution_count": 11,
   "metadata": {
    "execution": {
     "iopub.execute_input": "2023-05-02T20:13:00.146127Z",
     "iopub.status.busy": "2023-05-02T20:13:00.144419Z",
     "iopub.status.idle": "2023-05-02T20:13:00.149136Z",
     "shell.execute_reply": "2023-05-02T20:13:00.148747Z"
    }
   },
   "outputs": [],
   "source": [
    "assert trainer.model(random.choice(train_dataset)[0].unsqueeze(0).to(trainer.device)).shape[-1] == len(CHAR_MAP)"
   ]
  },
  {
   "cell_type": "code",
   "execution_count": 12,
   "metadata": {
    "execution": {
     "iopub.execute_input": "2023-05-02T20:13:00.151937Z",
     "iopub.status.busy": "2023-05-02T20:13:00.151510Z",
     "iopub.status.idle": "2023-05-02T20:13:00.154171Z",
     "shell.execute_reply": "2023-05-02T20:13:00.154500Z"
    },
    "executionInfo": {
     "elapsed": 69,
     "status": "ok",
     "timestamp": 1679405037011,
     "user": {
      "displayName": "Beltsazar Sotardodo",
      "userId": "00799609405676889858"
     },
     "user_tz": -420
    },
    "id": "3zpD16P7rRHh"
   },
   "outputs": [
    {
     "name": "stdout",
     "output_type": "stream",
     "text": [
      "2023-05-28 11:54:41.879859\n"
     ]
    }
   ],
   "source": [
    "timestamp = datetime.datetime.now()\n",
    "print(timestamp)"
   ]
  },
  {
   "cell_type": "code",
   "execution_count": 13,
   "metadata": {
    "execution": {
     "iopub.execute_input": "2023-05-02T20:13:00.253275Z",
     "iopub.status.busy": "2023-05-02T20:13:00.252355Z",
     "iopub.status.idle": "2023-05-02T20:13:00.255565Z",
     "shell.execute_reply": "2023-05-02T20:13:00.255235Z"
    }
   },
   "outputs": [],
   "source": [
    "model_path = f'{model_name}/{timestamp}.pt'"
   ]
  },
  {
   "cell_type": "code",
   "execution_count": 14,
   "metadata": {
    "execution": {
     "iopub.execute_input": "2023-05-02T20:13:00.159884Z",
     "iopub.status.busy": "2023-05-02T20:13:00.155961Z",
     "iopub.status.idle": "2023-05-02T20:13:00.169699Z",
     "shell.execute_reply": "2023-05-02T20:13:00.169325Z"
    },
    "id": "e9pHFnaHojID",
    "scrolled": false
   },
   "outputs": [
    {
     "name": "stderr",
     "output_type": "stream",
     "text": [
      "Epoch [1/10] | Batch [15072/15072] | Running Loss: 889596.5331: 100%|██████████| 15072/15072 [12:45<00:00, 19.70it/s] \n",
      "Epoch [2/10] | Batch [15072/15072] | Running Loss: 90594.8888: 100%|██████████| 15072/15072 [12:08<00:00, 20.70it/s] \n",
      "Epoch [3/10] | Batch [15072/15072] | Running Loss: 62855.7982: 100%|██████████| 15072/15072 [12:01<00:00, 20.88it/s] \n",
      "Epoch [4/10] | Batch [15072/15072] | Running Loss: 24290.3941: 100%|██████████| 15072/15072 [12:01<00:00, 20.89it/s] \n",
      "Epoch [5/10] | Batch [15072/15072] | Running Loss: 30248.1926: 100%|██████████| 15072/15072 [12:00<00:00, 20.91it/s] \n",
      "Epoch [6/10] | Batch [15072/15072] | Running Loss: 24411.0847: 100%|██████████| 15072/15072 [12:10<00:00, 20.63it/s]\n",
      "Epoch [7/10] | Batch [15072/15072] | Running Loss: 27120.5949: 100%|██████████| 15072/15072 [11:58<00:00, 20.97it/s]\n",
      "Epoch [8/10] | Batch [15072/15072] | Running Loss: 22382.7047: 100%|██████████| 15072/15072 [12:03<00:00, 20.82it/s]\n",
      "Epoch [9/10] | Batch [15072/15072] | Running Loss: 28951.4262: 100%|██████████| 15072/15072 [12:04<00:00, 20.81it/s]\n",
      "Epoch [10/10] | Batch [15072/15072] | Running Loss: 21817.3644: 100%|██████████| 15072/15072 [12:34<00:00, 19.98it/s]\n"
     ]
    },
    {
     "name": "stdout",
     "output_type": "stream",
     "text": [
      "Finished training! Took 2:01:51.723462.\n"
     ]
    },
    {
     "data": {
      "text/plain": [
       "CTCCRNNNoStretchV2(\n",
       "  (conv1): Conv2d(1, 16, kernel_size=(3, 3), stride=(1, 1), padding=(1, 1))\n",
       "  (pool1): MaxPool2d(kernel_size=2, stride=2, padding=0, dilation=1, ceil_mode=False)\n",
       "  (conv2): Conv2d(16, 16, kernel_size=(3, 3), stride=(1, 1), padding=(1, 1))\n",
       "  (pool2): MaxPool2d(kernel_size=2, stride=2, padding=0, dilation=1, ceil_mode=False)\n",
       "  (fc1): Linear(in_features=352, out_features=16, bias=True)\n",
       "  (dropout): Dropout(p=0, inplace=False)\n",
       "  (lstm1): LSTM(16, 256, batch_first=True, bidirectional=True)\n",
       "  (lstm2): LSTM(512, 128, batch_first=True, bidirectional=True)\n",
       "  (fc2): Linear(in_features=256, out_features=80, bias=True)\n",
       ")"
      ]
     },
     "execution_count": 14,
     "metadata": {},
     "output_type": "execute_result"
    }
   ],
   "source": [
    "trainer.train(num_epochs=10, save_path=model_path)"
   ]
  },
  {
   "cell_type": "code",
   "execution_count": 15,
   "metadata": {},
   "outputs": [
    {
     "data": {
      "text/plain": [
       "'ctc-crnn-no-stretch-v2/2023-05-28 11:54:41.879859.pt'"
      ]
     },
     "execution_count": 15,
     "metadata": {},
     "output_type": "execute_result"
    }
   ],
   "source": [
    "model_path"
   ]
  },
  {
   "cell_type": "code",
   "execution_count": 16,
   "metadata": {
    "execution": {
     "iopub.execute_input": "2023-05-02T20:13:00.181325Z",
     "iopub.status.busy": "2023-05-02T20:13:00.171123Z",
     "iopub.status.idle": "2023-05-02T20:13:00.185207Z",
     "shell.execute_reply": "2023-05-02T20:13:00.184829Z"
    }
   },
   "outputs": [
    {
     "data": {
      "image/png": "[encoded data removed]",
      "text/plain": [
       "<Figure size 432x288 with 1 Axes>"
      ]
     },
     "metadata": {
      "needs_background": "light"
     },
     "output_type": "display_data"
    }
   ],
   "source": [
    "trainer.plot_history(path=f'{model_name}/{timestamp}.train.png')\n",
    "trainer.save(model_path)"
   ]
  },
  {
   "cell_type": "code",
   "execution_count": 17,
   "metadata": {
    "execution": {
     "iopub.execute_input": "2023-05-02T20:13:00.190884Z",
     "iopub.status.busy": "2023-05-02T20:13:00.186633Z",
     "iopub.status.idle": "2023-05-02T20:13:00.192958Z",
     "shell.execute_reply": "2023-05-02T20:13:00.192587Z"
    }
   },
   "outputs": [],
   "source": [
    "importlib.reload(pegon_utils)\n",
    "from pegon_utils import CTCDecoder, BestPathDecoder, evaluate, plot_cer_wer"
   ]
  },
  {
   "cell_type": "code",
   "execution_count": 18,
   "metadata": {
    "execution": {
     "iopub.execute_input": "2023-05-02T20:13:00.205301Z",
     "iopub.status.busy": "2023-05-02T20:13:00.203819Z",
     "iopub.status.idle": "2023-05-02T20:13:00.207367Z",
     "shell.execute_reply": "2023-05-02T20:13:00.207001Z"
    }
   },
   "outputs": [],
   "source": [
    "# dataloader = trainer.dataloader\n",
    "dataloader = DataLoader(val_dataset,\n",
    "                        batch_size=trainer.batch_size,\n",
    "                        shuffle=True,\n",
    "                        collate_fn=trainer.collate_fn)"
   ]
  },
  {
   "cell_type": "code",
   "execution_count": 19,
   "metadata": {
    "execution": {
     "iopub.execute_input": "2023-05-02T20:13:00.261992Z",
     "iopub.status.busy": "2023-05-02T20:13:00.256974Z",
     "iopub.status.idle": "2023-05-02T20:13:00.369686Z",
     "shell.execute_reply": "2023-05-02T20:13:00.369293Z"
    },
    "scrolled": true
   },
   "outputs": [
    {
     "name": "stderr",
     "output_type": "stream",
     "text": [
      " Example: 25327 | CER: 0.0272 | WER: 0.1382: 100%|██████████| 6332/6332 [30:52<00:00,  3.42it/s]\n"
     ]
    }
   ],
   "source": [
    "decoder = BestPathDecoder.from_path(model_path, CHAR_MAP, blank_char=PEGON_CHARS[0])\n",
    "cers, wers = evaluate(decoder, dataloader)"
   ]
  },
  {
   "cell_type": "code",
   "execution_count": 20,
   "metadata": {
    "execution": {
     "iopub.execute_input": "2023-05-02T20:13:00.375948Z",
     "iopub.status.busy": "2023-05-02T20:13:00.371579Z",
     "iopub.status.idle": "2023-05-02T20:13:00.387054Z",
     "shell.execute_reply": "2023-05-02T20:13:00.386732Z"
    }
   },
   "outputs": [
    {
     "data": {
      "image/png": "[encoded data removed]",
      "text/plain": [
       "<Figure size 1440x288 with 2 Axes>"
      ]
     },
     "metadata": {
      "needs_background": "light"
     },
     "output_type": "display_data"
    }
   ],
   "source": [
    "plot_cer_wer(cers, wers, path=f'{model_name}/{timestamp}.wer-cer.png')"
   ]
  },
  {
   "cell_type": "code",
   "execution_count": 21,
   "metadata": {
    "scrolled": false
   },
   "outputs": [
    {
     "data": {
      "image/png": "[encoded data removed]",
      "text/plain": [
       "<Figure size 432x288 with 1 Axes>"
      ]
     },
     "metadata": {
      "needs_background": "light"
     },
     "output_type": "display_data"
    }
   ],
   "source": [
    "# demo\n",
    "\n",
    "import arabic_reshaper\n",
    "from bidi.algorithm import get_display\n",
    "\n",
    "to_arabic_display = lambda text: get_display(text)\n",
    "img, label = random.choice(val_dataset)\n",
    "img, _, _ = dataloader.collate_fn([[img, label]])\n",
    "\n",
    "gt = (''.join([PEGON_CHARS[l] for l in filter(lambda x:x!= 0, label)]))\n",
    "\n",
    "predicted = decoder.infer(img.cuda())[0]\n",
    "\n",
    "tensor_to_display = lambda x : transforms.ToPILImage()(transforms.RandomHorizontalFlip(p=1)(x))\n",
    "\n",
    "plt.imshow(tensor_to_display(img[0]), cmap='gray'); plt.title(f'predicted = {to_arabic_display(predicted)}\\nground truth = {to_arabic_display(gt)}'); plt.show()"
   ]
  },
  {
   "cell_type": "code",
   "execution_count": 22,
   "metadata": {},
   "outputs": [
    {
     "name": "stderr",
     "output_type": "stream",
     "text": [
      " Example: 1976 | CER: 0.5542 | WER: 1.1414: 100%|██████████| 494/494 [02:28<00:00,  3.32it/s]\n"
     ]
    }
   ],
   "source": [
    "import importlib\n",
    "import pegon_utils\n",
    "importlib.reload(pegon_utils)\n",
    "from pegon_utils import FilenameOCRDataset, PegonAnnotatedDataset, ctc_collate_fn\n",
    "import pdb\n",
    "\n",
    "annotated_dataset = PegonAnnotatedDataset('/workspace/Dataset/pegon-ocr-patched',\n",
    "                                          image_transform=dataset_transforms)\n",
    "\n",
    "annotated_dataloader = DataLoader(annotated_dataset, shuffle=True,\n",
    "                                  batch_size=trainer.batch_size,\n",
    "                                  collate_fn=ctc_collate_fn)\n",
    "cers, wers = evaluate(decoder, annotated_dataloader)"
   ]
  },
  {
   "cell_type": "code",
   "execution_count": 23,
   "metadata": {},
   "outputs": [
    {
     "data": {
      "image/png": "[encoded data removed]",
      "text/plain": [
       "<Figure size 1440x288 with 2 Axes>"
      ]
     },
     "metadata": {
      "needs_background": "light"
     },
     "output_type": "display_data"
    }
   ],
   "source": [
    "plot_cer_wer(cers, wers, path=f'{model_name}/{timestamp}.eval.wer-cer.png')"
   ]
  },
  {
   "cell_type": "code",
   "execution_count": 24,
   "metadata": {},
   "outputs": [
    {
     "data": {
      "image/png": "[encoded data removed]",
      "text/plain": [
       "<Figure size 432x288 with 1 Axes>"
      ]
     },
     "metadata": {
      "needs_background": "light"
     },
     "output_type": "display_data"
    }
   ],
   "source": [
    "# demo\n",
    "\n",
    "import arabic_reshaper\n",
    "from bidi.algorithm import get_display\n",
    "\n",
    "to_arabic_display = lambda text: get_display(arabic_reshaper.reshape(text))\n",
    "img, label, _ = dataloader.collate_fn([random.choice(annotated_dataset)])\n",
    "\n",
    "predicted = decoder.infer(img.cuda())[0]\n",
    "\n",
    "tensor_to_display = lambda x : transforms.ToPILImage()(transforms.RandomHorizontalFlip(p=1)(x))\n",
    "\n",
    "plt.imshow(tensor_to_display(img[0]),cmap='gray'); plt.title(f'predicted = {to_arabic_display(predicted)}'); plt.show()"
   ]
  },
  {
   "cell_type": "code",
   "execution_count": null,
   "metadata": {},
   "outputs": [],
   "source": []
  }
 ],
 "metadata": {
  "accelerator": "GPU",
  "colab": {
   "provenance": []
  },
  "gpuClass": "standard",
  "kernelspec": {
   "display_name": "Python 3 (ipykernel)",
   "language": "python",
   "name": "python3"
  },
  "language_info": {
   "codemirror_mode": {
    "name": "ipython",
    "version": 3
   },
   "file_extension": ".py",
   "mimetype": "text/x-python",
   "name": "python",
   "nbconvert_exporter": "python",
   "pygments_lexer": "ipython3",
   "version": "3.8.12"
  },
  "widgets": {
   "application/vnd.jupyter.widget-state+json": {
    "1c595935a60640a2ab3a3ae7f2f2537b": {
     "model_module": "@jupyter-widgets/controls",
     "model_module_version": "1.5.0",
     "model_name": "HBoxModel",
     "state": {
      "_dom_classes": [],
      "_model_module": "@jupyter-widgets/controls",
      "_model_module_version": "1.5.0",
      "_model_name": "HBoxModel",
      "_view_count": null,
      "_view_module": "@jupyter-widgets/controls",
      "_view_module_version": "1.5.0",
      "_view_name": "HBoxView",
      "box_style": "",
      "children": [
       "IPY_MODEL_a03dc406ccad4c72a9e2ee378c369f1a",
       "IPY_MODEL_cf6155ce6d1e466689881e22b3ab8284",
       "IPY_MODEL_3ab5f0dd68544bd29c9b3dfd30e7aee5"
      ],
      "layout": "IPY_MODEL_6162a3e989d44056b035dbdbe5b1b31d"
     }
    },
    "35dbcfeb91174e969f8eeb027dd7d324": {
     "model_module": "@jupyter-widgets/base",
     "model_module_version": "1.2.0",
     "model_name": "LayoutModel",
     "state": {
      "_model_module": "@jupyter-widgets/base",
      "_model_module_version": "1.2.0",
      "_model_name": "LayoutModel",
      "_view_count": null,
      "_view_module": "@jupyter-widgets/base",
      "_view_module_version": "1.2.0",
      "_view_name": "LayoutView",
      "align_content": null,
      "align_items": null,
      "align_self": null,
      "border": null,
      "bottom": null,
      "display": null,
      "flex": null,
      "flex_flow": null,
      "grid_area": null,
      "grid_auto_columns": null,
      "grid_auto_flow": null,
      "grid_auto_rows": null,
      "grid_column": null,
      "grid_gap": null,
      "grid_row": null,
      "grid_template_areas": null,
      "grid_template_columns": null,
      "grid_template_rows": null,
      "height": null,
      "justify_content": null,
      "justify_items": null,
      "left": null,
      "margin": null,
      "max_height": null,
      "max_width": null,
      "min_height": null,
      "min_width": null,
      "object_fit": null,
      "object_position": null,
      "order": null,
      "overflow": null,
      "overflow_x": null,
      "overflow_y": null,
      "padding": null,
      "right": null,
      "top": null,
      "visibility": null,
      "width": null
     }
    },
    "3a73484261e44213b8afba21285c49dd": {
     "model_module": "@jupyter-widgets/controls",
     "model_module_version": "1.5.0",
     "model_name": "ProgressStyleModel",
     "state": {
      "_model_module": "@jupyter-widgets/controls",
      "_model_module_version": "1.5.0",
      "_model_name": "ProgressStyleModel",
      "_view_count": null,
      "_view_module": "@jupyter-widgets/base",
      "_view_module_version": "1.2.0",
      "_view_name": "StyleView",
      "bar_color": null,
      "description_width": ""
     }
    },
    "3ab5f0dd68544bd29c9b3dfd30e7aee5": {
     "model_module": "@jupyter-widgets/controls",
     "model_module_version": "1.5.0",
     "model_name": "HTMLModel",
     "state": {
      "_dom_classes": [],
      "_model_module": "@jupyter-widgets/controls",
      "_model_module_version": "1.5.0",
      "_model_name": "HTMLModel",
      "_view_count": null,
      "_view_module": "@jupyter-widgets/controls",
      "_view_module_version": "1.5.0",
      "_view_name": "HTMLView",
      "description": "",
      "description_tooltip": null,
      "layout": "IPY_MODEL_d77f2a5d39b34ddfbc9848d1313f5c44",
      "placeholder": "​",
      "style": "IPY_MODEL_d62f599fc124462bb5d0926da3635201",
      "value": " 0/1530 [00:00&lt;?, ?it/s]"
     }
    },
    "6162a3e989d44056b035dbdbe5b1b31d": {
     "model_module": "@jupyter-widgets/base",
     "model_module_version": "1.2.0",
     "model_name": "LayoutModel",
     "state": {
      "_model_module": "@jupyter-widgets/base",
      "_model_module_version": "1.2.0",
      "_model_name": "LayoutModel",
      "_view_count": null,
      "_view_module": "@jupyter-widgets/base",
      "_view_module_version": "1.2.0",
      "_view_name": "LayoutView",
      "align_content": null,
      "align_items": null,
      "align_self": null,
      "border": null,
      "bottom": null,
      "display": null,
      "flex": null,
      "flex_flow": null,
      "grid_area": null,
      "grid_auto_columns": null,
      "grid_auto_flow": null,
      "grid_auto_rows": null,
      "grid_column": null,
      "grid_gap": null,
      "grid_row": null,
      "grid_template_areas": null,
      "grid_template_columns": null,
      "grid_template_rows": null,
      "height": null,
      "justify_content": null,
      "justify_items": null,
      "left": null,
      "margin": null,
      "max_height": null,
      "max_width": null,
      "min_height": null,
      "min_width": null,
      "object_fit": null,
      "object_position": null,
      "order": null,
      "overflow": null,
      "overflow_x": null,
      "overflow_y": null,
      "padding": null,
      "right": null,
      "top": null,
      "visibility": null,
      "width": null
     }
    },
    "82fee171da4c4e119bf8d91604915179": {
     "model_module": "@jupyter-widgets/base",
     "model_module_version": "1.2.0",
     "model_name": "LayoutModel",
     "state": {
      "_model_module": "@jupyter-widgets/base",
      "_model_module_version": "1.2.0",
      "_model_name": "LayoutModel",
      "_view_count": null,
      "_view_module": "@jupyter-widgets/base",
      "_view_module_version": "1.2.0",
      "_view_name": "LayoutView",
      "align_content": null,
      "align_items": null,
      "align_self": null,
      "border": null,
      "bottom": null,
      "display": null,
      "flex": null,
      "flex_flow": null,
      "grid_area": null,
      "grid_auto_columns": null,
      "grid_auto_flow": null,
      "grid_auto_rows": null,
      "grid_column": null,
      "grid_gap": null,
      "grid_row": null,
      "grid_template_areas": null,
      "grid_template_columns": null,
      "grid_template_rows": null,
      "height": null,
      "justify_content": null,
      "justify_items": null,
      "left": null,
      "margin": null,
      "max_height": null,
      "max_width": null,
      "min_height": null,
      "min_width": null,
      "object_fit": null,
      "object_position": null,
      "order": null,
      "overflow": null,
      "overflow_x": null,
      "overflow_y": null,
      "padding": null,
      "right": null,
      "top": null,
      "visibility": null,
      "width": null
     }
    },
    "a03dc406ccad4c72a9e2ee378c369f1a": {
     "model_module": "@jupyter-widgets/controls",
     "model_module_version": "1.5.0",
     "model_name": "HTMLModel",
     "state": {
      "_dom_classes": [],
      "_model_module": "@jupyter-widgets/controls",
      "_model_module_version": "1.5.0",
      "_model_name": "HTMLModel",
      "_view_count": null,
      "_view_module": "@jupyter-widgets/controls",
      "_view_module_version": "1.5.0",
      "_view_name": "HTMLView",
      "description": "",
      "description_tooltip": null,
      "layout": "IPY_MODEL_82fee171da4c4e119bf8d91604915179",
      "placeholder": "​",
      "style": "IPY_MODEL_e331cfbba3c341f193902668a5802b29",
      "value": "  0%"
     }
    },
    "cf6155ce6d1e466689881e22b3ab8284": {
     "model_module": "@jupyter-widgets/controls",
     "model_module_version": "1.5.0",
     "model_name": "FloatProgressModel",
     "state": {
      "_dom_classes": [],
      "_model_module": "@jupyter-widgets/controls",
      "_model_module_version": "1.5.0",
      "_model_name": "FloatProgressModel",
      "_view_count": null,
      "_view_module": "@jupyter-widgets/controls",
      "_view_module_version": "1.5.0",
      "_view_name": "ProgressView",
      "bar_style": "",
      "description": "",
      "description_tooltip": null,
      "layout": "IPY_MODEL_35dbcfeb91174e969f8eeb027dd7d324",
      "max": 1530,
      "min": 0,
      "orientation": "horizontal",
      "style": "IPY_MODEL_3a73484261e44213b8afba21285c49dd",
      "value": 0
     }
    },
    "d62f599fc124462bb5d0926da3635201": {
     "model_module": "@jupyter-widgets/controls",
     "model_module_version": "1.5.0",
     "model_name": "DescriptionStyleModel",
     "state": {
      "_model_module": "@jupyter-widgets/controls",
      "_model_module_version": "1.5.0",
      "_model_name": "DescriptionStyleModel",
      "_view_count": null,
      "_view_module": "@jupyter-widgets/base",
      "_view_module_version": "1.2.0",
      "_view_name": "StyleView",
      "description_width": ""
     }
    },
    "d77f2a5d39b34ddfbc9848d1313f5c44": {
     "model_module": "@jupyter-widgets/base",
     "model_module_version": "1.2.0",
     "model_name": "LayoutModel",
     "state": {
      "_model_module": "@jupyter-widgets/base",
      "_model_module_version": "1.2.0",
      "_model_name": "LayoutModel",
      "_view_count": null,
      "_view_module": "@jupyter-widgets/base",
      "_view_module_version": "1.2.0",
      "_view_name": "LayoutView",
      "align_content": null,
      "align_items": null,
      "align_self": null,
      "border": null,
      "bottom": null,
      "display": null,
      "flex": null,
      "flex_flow": null,
      "grid_area": null,
      "grid_auto_columns": null,
      "grid_auto_flow": null,
      "grid_auto_rows": null,
      "grid_column": null,
      "grid_gap": null,
      "grid_row": null,
      "grid_template_areas": null,
      "grid_template_columns": null,
      "grid_template_rows": null,
      "height": null,
      "justify_content": null,
      "justify_items": null,
      "left": null,
      "margin": null,
      "max_height": null,
      "max_width": null,
      "min_height": null,
      "min_width": null,
      "object_fit": null,
      "object_position": null,
      "order": null,
      "overflow": null,
      "overflow_x": null,
      "overflow_y": null,
      "padding": null,
      "right": null,
      "top": null,
      "visibility": null,
      "width": null
     }
    },
    "e331cfbba3c341f193902668a5802b29": {
     "model_module": "@jupyter-widgets/controls",
     "model_module_version": "1.5.0",
     "model_name": "DescriptionStyleModel",
     "state": {
      "_model_module": "@jupyter-widgets/controls",
      "_model_module_version": "1.5.0",
      "_model_name": "DescriptionStyleModel",
      "_view_count": null,
      "_view_module": "@jupyter-widgets/base",
      "_view_module_version": "1.2.0",
      "_view_name": "StyleView",
      "description_width": ""
     }
    }
   }
  }
 },
 "nbformat": 4,
 "nbformat_minor": 1
}
