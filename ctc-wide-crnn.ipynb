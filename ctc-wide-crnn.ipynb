{
 "cells": [
  {
   "cell_type": "code",
   "execution_count": 4,
   "metadata": {
    "execution": {
     "iopub.execute_input": "2023-04-15T11:29:07.628062Z",
     "iopub.status.busy": "2023-04-15T11:29:07.627706Z",
     "iopub.status.idle": "2023-04-15T11:29:11.429086Z",
     "shell.execute_reply": "2023-04-15T11:29:11.429381Z"
    }
   },
   "outputs": [
    {
     "name": "stdout",
     "output_type": "stream",
     "text": [
      "Looking in indexes: https://pypi.org/simple, https://pypi.ngc.nvidia.com\n",
      "Collecting git+https://github.com/githubharald/CTCDecoder.git\n",
      "  Cloning https://github.com/githubharald/CTCDecoder.git to /tmp/pip-req-build-8l92lteg\n",
      "  Running command git clone -q https://github.com/githubharald/CTCDecoder.git /tmp/pip-req-build-8l92lteg\n",
      "  Resolved https://github.com/githubharald/CTCDecoder.git to commit 6b5c3dd34944e5399a7308e241319b7f9c47e7c3\n",
      "Requirement already satisfied: jiwer in /opt/conda/lib/python3.8/site-packages (3.0.1)\n",
      "Requirement already satisfied: editdistance in /opt/conda/lib/python3.8/site-packages (from ctc-decoder==1.0.1) (0.6.2)\n",
      "Requirement already satisfied: numpy in /opt/conda/lib/python3.8/site-packages (from ctc-decoder==1.0.1) (1.21.4)\n",
      "Requirement already satisfied: click<9.0.0,>=8.1.3 in /opt/conda/lib/python3.8/site-packages (from jiwer) (8.1.3)\n",
      "Requirement already satisfied: rapidfuzz==2.13.7 in /opt/conda/lib/python3.8/site-packages (from jiwer) (2.13.7)\n",
      "\u001b[33mWARNING: Running pip as the 'root' user can result in broken permissions and conflicting behaviour with the system package manager. It is recommended to use a virtual environment instead: https://pip.pypa.io/warnings/venv\u001b[0m\n"
     ]
    }
   ],
   "source": [
    "!pip install git+https://github.com/githubharald/CTCDecoder.git jiwer"
   ]
  },
  {
   "cell_type": "code",
   "execution_count": 5,
   "metadata": {
    "execution": {
     "iopub.execute_input": "2023-04-15T11:29:11.432921Z",
     "iopub.status.busy": "2023-04-15T11:29:11.432611Z",
     "iopub.status.idle": "2023-04-15T11:29:14.740944Z",
     "shell.execute_reply": "2023-04-15T11:29:14.740602Z"
    }
   },
   "outputs": [
    {
     "name": "stdout",
     "output_type": "stream",
     "text": [
      "Mon Apr 17 06:09:48 2023       \n",
      "+-----------------------------------------------------------------------------+\n",
      "| NVIDIA-SMI 450.156.00   Driver Version: 450.156.00   CUDA Version: 11.5     |\n",
      "|-------------------------------+----------------------+----------------------+\n",
      "| GPU  Name        Persistence-M| Bus-Id        Disp.A | Volatile Uncorr. ECC |\n",
      "| Fan  Temp  Perf  Pwr:Usage/Cap|         Memory-Usage | GPU-Util  Compute M. |\n",
      "|                               |                      |               MIG M. |\n",
      "|===============================+======================+======================|\n",
      "|   0  A100-SXM4-40GB      On   | 00000000:07:00.0 Off |                    0 |\n",
      "| N/A   28C    P0    52W / 400W |      0MiB / 40537MiB |      0%      Default |\n",
      "|                               |                      |             Disabled |\n",
      "+-------------------------------+----------------------+----------------------+\n",
      "|   1  A100-SXM4-40GB      On   | 00000000:0F:00.0 Off |                    0 |\n",
      "| N/A   28C    P0    55W / 400W |      0MiB / 40537MiB |      0%      Default |\n",
      "|                               |                      |             Disabled |\n",
      "+-------------------------------+----------------------+----------------------+\n",
      "|   2  A100-SXM4-40GB      On   | 00000000:47:00.0 Off |                    0 |\n",
      "| N/A   28C    P0    55W / 400W |      0MiB / 40537MiB |      0%      Default |\n",
      "|                               |                      |             Disabled |\n",
      "+-------------------------------+----------------------+----------------------+\n",
      "|   3  A100-SXM4-40GB      On   | 00000000:4E:00.0 Off |                    0 |\n",
      "| N/A   28C    P0    55W / 400W |      0MiB / 40537MiB |      0%      Default |\n",
      "|                               |                      |             Disabled |\n",
      "+-------------------------------+----------------------+----------------------+\n",
      "|   4  A100-SXM4-40GB      On   | 00000000:87:00.0 Off |                    0 |\n",
      "| N/A   32C    P0    53W / 400W |      0MiB / 40537MiB |      0%      Default |\n",
      "|                               |                      |             Disabled |\n",
      "+-------------------------------+----------------------+----------------------+\n",
      "|   5  A100-SXM4-40GB      On   | 00000000:90:00.0 Off |                    0 |\n",
      "| N/A   32C    P0    55W / 400W |      0MiB / 40537MiB |      0%      Default |\n",
      "|                               |                      |             Disabled |\n",
      "+-------------------------------+----------------------+----------------------+\n",
      "|   6  A100-SXM4-40GB      On   | 00000000:B7:00.0 Off |                    0 |\n",
      "| N/A   32C    P0    55W / 400W |      0MiB / 40537MiB |      0%      Default |\n",
      "|                               |                      |             Disabled |\n",
      "+-------------------------------+----------------------+----------------------+\n",
      "|   7  A100-SXM4-40GB      On   | 00000000:BD:00.0 Off |                    0 |\n",
      "| N/A   33C    P0    64W / 400W |  17426MiB / 40537MiB |      0%      Default |\n",
      "|                               |                      |             Disabled |\n",
      "+-------------------------------+----------------------+----------------------+\n",
      "                                                                               \n",
      "+-----------------------------------------------------------------------------+\n",
      "| Processes:                                                                  |\n",
      "|  GPU   GI   CI        PID   Type   Process name                  GPU Memory |\n",
      "|        ID   ID                                                   Usage      |\n",
      "|=============================================================================|\n",
      "+-----------------------------------------------------------------------------+\n"
     ]
    }
   ],
   "source": [
    "# Melihat GPU yang tersedia dan penggunaannya.\n",
    "!nvidia-smi"
   ]
  },
  {
   "cell_type": "code",
   "execution_count": 6,
   "metadata": {
    "execution": {
     "iopub.execute_input": "2023-04-15T11:29:14.744292Z",
     "iopub.status.busy": "2023-04-15T11:29:14.743983Z",
     "iopub.status.idle": "2023-04-15T11:29:14.745401Z",
     "shell.execute_reply": "2023-04-15T11:29:14.745115Z"
    }
   },
   "outputs": [],
   "source": [
    "# Memilih GPU yang akan digunakan (contohnya: GPU #7)\n",
    "import os\n",
    "os.environ['CUDA_VISIBLE_DEVICES'] = '4'"
   ]
  },
  {
   "cell_type": "code",
   "execution_count": 7,
   "metadata": {
    "execution": {
     "iopub.execute_input": "2023-04-15T11:29:14.748021Z",
     "iopub.status.busy": "2023-04-15T11:29:14.747697Z",
     "iopub.status.idle": "2023-04-15T11:29:14.749120Z",
     "shell.execute_reply": "2023-04-15T11:29:14.748834Z"
    },
    "executionInfo": {
     "elapsed": 43,
     "status": "ok",
     "timestamp": 1679405033129,
     "user": {
      "displayName": "Beltsazar Sotardodo",
      "userId": "00799609405676889858"
     },
     "user_tz": -420
    },
    "id": "VZaaS_sC6DA9"
   },
   "outputs": [],
   "source": [
    "# ROMAN_NUMERALS = \"\\u2160 \\u2161 \\u2162 \\u2163 \\u2164 \\u2165 \\u2166 \\u2167 \\u2168 \\u2169 \\u216A \\u216B \\u216C \\u216D \\u216E \\u216F \\u2180 \\u2181 \\u2182 \\u2183\".split()\n",
    "# PEGON_CHARS = ['-'] + [' '] + 'َ ِ ُ ً ٍ ٌ ْ ّ ٰ ࣤ \\u06e4 \\u0653 ١ ٢ ٣ ٤ ٥ ٦ ٧ ٨ ٩ ٠ ة ح چ ج ث ت ب ا أ إ آ ؤ ى س ز ر ࢮ ڎ ذ د خ ع ظ ڟ ط ض ص ش ڮ ك ق ڤ ف ڠ غ ي ه و ۑ ئ ن م ل ۔ : ؛ ، ﴾ ﴿ ( ) ! ؟َ « » ۞ ء'.split()\n",
    "PEGON_CHARS = ['-'] + [' '] + 'َ ِ ُ ً ٍ ٌ ْ ّ َ ٰ ࣤ \\u06e4 \\u0653 ١ ٢ ٣ ٤ ٥ ٦ ٧ ٨ ٩ ٠ ة ح چ ج ث ت ب ا أ إ آ ؤ ى س ز ر ࢮ ڎ ذ د خ ع ظ ڟ ط ض ص ش ڮ ك ق ڤ ف ڠ غ ي ه و ۑ ئ ن م ل ۔ : ؛ ، ( ) ! ؟ « » ۞ ء'.split()\n",
    "CHAR_MAP = {letter: idx for idx, letter in enumerate(PEGON_CHARS)}"
   ]
  },
  {
   "cell_type": "code",
   "execution_count": 8,
   "metadata": {},
   "outputs": [],
   "source": [
    "for i in CHAR_MAP.keys():\n",
    "    try:\n",
    "        assert len(i) == 1\n",
    "    except AssertionError:\n",
    "        print(i)\n",
    "        raise"
   ]
  },
  {
   "cell_type": "code",
   "execution_count": 22,
   "metadata": {
    "execution": {
     "iopub.execute_input": "2023-04-15T11:29:14.756250Z",
     "iopub.status.busy": "2023-04-15T11:29:14.755930Z",
     "iopub.status.idle": "2023-04-15T11:29:15.637091Z",
     "shell.execute_reply": "2023-04-15T11:29:15.636757Z"
    },
    "executionInfo": {
     "elapsed": 3900,
     "status": "ok",
     "timestamp": 1679405037002,
     "user": {
      "displayName": "Beltsazar Sotardodo",
      "userId": "00799609405676889858"
     },
     "user_tz": -420
    },
    "id": "XztSoslZDnpo"
   },
   "outputs": [],
   "source": [
    "import torch\n",
    "import torch.nn as nn\n",
    "import torch.nn.functional as F\n",
    "import torch.optim as optim\n",
    "from torch.utils.data import DataLoader\n",
    "# from torchvision.transforms import Compose, ToTensor, Normalize\n",
    "from torchvision.transforms import transforms\n",
    "\n",
    "# Define the OCR model architecture\n",
    "class OCRModel(nn.Module):\n",
    "    def __init__(self, num_classes, image_height, image_width, max_seq_len,\n",
    "               conv_channels=[32, 64]):\n",
    "        super(OCRModel, self).__init__()\n",
    "\n",
    "        self.max_seq_len = max_seq_len\n",
    "        self.image_height = image_height\n",
    "        self.image_width = image_width\n",
    "        self.conv_channels = conv_channels\n",
    "\n",
    "        # CNN part, downsampling 2 times\n",
    "        self.conv1 = nn.Conv2d(in_channels=1,\n",
    "                               out_channels=conv_channels[0],\n",
    "                               kernel_size=3, padding=1)\n",
    "        self.pool1 = nn.MaxPool2d(kernel_size=2, stride=(2, 1))\n",
    "\n",
    "        self.conv2 = nn.Conv2d(in_channels=conv_channels[0],\n",
    "                               out_channels=conv_channels[1],\n",
    "                               kernel_size=3, padding=1)\n",
    "        self.pool2 = nn.MaxPool2d(kernel_size=2, stride=(2, 1))\n",
    "\n",
    "        # first dense\n",
    "        self.fc1 = nn.Linear(in_features=conv_channels[1] * (self.image_height//4),\n",
    "                             out_features=conv_channels[1])\n",
    "        self.dropout = nn.Dropout(0.25)\n",
    "\n",
    "        # RNN part\n",
    "        self.lstm1 = nn.LSTM(input_size=conv_channels[1], hidden_size=128,\n",
    "                             bidirectional=True, batch_first=True)\n",
    "        self.lstm2 = nn.LSTM(input_size=256, hidden_size=256,\n",
    "                             bidirectional=True, batch_first=True)\n",
    "\n",
    "        self.fc2 = nn.Linear(in_features=2*256, out_features=num_classes)\n",
    "\n",
    "    def forward(self, x):\n",
    "        x = self.conv1(x)\n",
    "        x = F.relu(x)\n",
    "\n",
    "        x = self.pool1(x)\n",
    "\n",
    "        x = self.conv2(x)\n",
    "        x = F.relu(x)\n",
    "\n",
    "        x = self.pool2(x)\n",
    "        \n",
    "#         print(x.shape)\n",
    "        x = x.reshape(-1,\n",
    "                      x.size(-1), # should be the width\n",
    "                      (self.image_height//4) * self.conv_channels[1])\n",
    "\n",
    "        x = self.fc1(x)\n",
    "\n",
    "        x = self.dropout(x)\n",
    "        x, _ = self.lstm1(x)\n",
    "        x, _ = self.lstm2(x)\n",
    "        x = self.fc2(x)\n",
    "        x = x.log_softmax(2)\n",
    "        return x"
   ]
  },
  {
   "cell_type": "code",
   "execution_count": 23,
   "metadata": {
    "execution": {
     "iopub.execute_input": "2023-04-15T11:29:15.649555Z",
     "iopub.status.busy": "2023-04-15T11:29:15.649216Z",
     "iopub.status.idle": "2023-04-15T11:29:15.650994Z",
     "shell.execute_reply": "2023-04-15T11:29:15.650652Z"
    },
    "executionInfo": {
     "elapsed": 89,
     "status": "ok",
     "timestamp": 1679405037007,
     "user": {
      "displayName": "Beltsazar Sotardodo",
      "userId": "00799609405676889858"
     },
     "user_tz": -420
    },
    "id": "lJrgvqI5uITc"
   },
   "outputs": [],
   "source": [
    "import json\n",
    "from PIL import Image\n",
    "import torch\n",
    "from torch.utils.data import Dataset\n",
    "import os\n",
    "import glob\n",
    "import re\n",
    "import datetime\n",
    "import shutil\n",
    "import pickle\n",
    "import random\n",
    "import unicodedata\n",
    "\n",
    "class OCRDataset(Dataset):\n",
    "    def __init__(self, file_dir, char_map, force_rewrite=False, skip_duplicates=False,\n",
    "                img_format = 'png', sample=1, target_dir='tmp', in_img_format='png'):\n",
    "        self.img_format = img_format\n",
    "        self.target_dir = target_dir\n",
    "        self.files_and_labels = []\n",
    "        self.max_seq_len = 0\n",
    "        total_seq_len = 0\n",
    "        \n",
    "        total_img_h = 0\n",
    "        total_img_w = 0\n",
    "        \n",
    "        if os.path.exists(self.target_dir):\n",
    "            if not force_rewrite:\n",
    "                raise FileExistsError(f'{target_dir} already exists and force rewrite not allowed')\n",
    "            else:\n",
    "                shutil.rmtree(self.target_dir)\n",
    "        os.makedirs(self.target_dir)\n",
    "        files = glob.glob(os.path.join(file_dir, f\"**/*.{in_img_format}\"), recursive=True)\n",
    "        for fullpath in random.sample(files, int(len(files) * sample)):\n",
    "\n",
    "            with open(re.sub(f'.{in_img_format}$', '.json', fullpath), 'r') as f:\n",
    "                bbox_list = json.load(f)\n",
    "            with Image.open(fullpath) as image:\n",
    "                for idx, obj in enumerate(bbox_list):\n",
    "                    label = obj['text']\n",
    "                    seq_len = len(label)\n",
    "                    left, top, right, bottom = obj['bbox']\n",
    "                    if (right - left) * (bottom - top) == 0:\n",
    "                        label = obj['text']\n",
    "                        print(f\"Skipping empty bbox ({left}, {top}, {right}, {bottom}) and label {label}\")\n",
    "                        continue\n",
    "\n",
    "                    cropped_image = image.crop(obj['bbox'])\n",
    "                    target_timestamp = datetime.datetime.now().timestamp()\n",
    "                    target_filepath = os.path.join(self.target_dir, f'{target_timestamp}.{self.img_format}')\n",
    "                    cropped_image.save(target_filepath)\n",
    "            \n",
    "                    self.files_and_labels.append((target_timestamp, label))\n",
    "                \n",
    "                    self.max_seq_len = max(seq_len, self.max_seq_len)\n",
    "                    total_seq_len += seq_len\n",
    "                    total_img_h += bottom - top\n",
    "                    total_img_w += right - left\n",
    "                    \n",
    "        self.avg_seq_len = int(total_seq_len / len(self.files_and_labels))\n",
    "        self.avg_img_w = int(total_img_w / len(self.files_and_labels))\n",
    "        self.avg_img_h = int(total_img_h / len(self.files_and_labels))\n",
    "\n",
    "        self.char_map = char_map\n",
    "        \n",
    "        # Define the transforms to apply to the image patches\n",
    "        self.transform = transforms.Compose([\n",
    "            transforms.Grayscale(num_output_channels=1),\n",
    "            transforms.Resize((self.avg_img_h, self.avg_img_w)),\n",
    "            transforms.ToTensor(),\n",
    "          ])\n",
    "        self.save()\n",
    "        \n",
    "    def save(self):\n",
    "        with open(os.path.join(self.target_dir, 'metadata.pkl'), 'wb') as f:\n",
    "            pickle.dump(self, f)\n",
    "        with open(os.path.join(self.target_dir, 'filemap.pkl'), 'wb') as f:\n",
    "            pickle.dump(self.files_and_labels, f)\n",
    "\n",
    "    @classmethod\n",
    "    def load(cls, filename):\n",
    "        self = object.__new__(cls)\n",
    "        self.__class__ = cls\n",
    "        with open(filename, 'rb') as f:\n",
    "            obj = pickle.load(f)\n",
    "            self.__dict__.update(vars(obj))\n",
    "        return self\n",
    "    \n",
    "    def __len__(self):\n",
    "        return len(self.files_and_labels)\n",
    "\n",
    "    def to_class(self, char):\n",
    "        try:\n",
    "            return self.char_map[char]\n",
    "        except KeyError:\n",
    "            return self.char_map['-']\n",
    "\n",
    "    def __getitem__(self, idx):\n",
    "        image_timestamp, label = self.files_and_labels[idx]\n",
    "        image_path = os.path.join(self.target_dir, f'{image_timestamp}.{self.img_format}')\n",
    "        cropped_image = self.transform(Image.open(image_path))\n",
    "        label = [self.to_class(c) for c in filter(lambda c:unicodedata.category(c)[0] != 'C', label)]\n",
    "        return cropped_image, label"
   ]
  },
  {
   "cell_type": "code",
   "execution_count": 24,
   "metadata": {
    "execution": {
     "iopub.execute_input": "2023-04-15T11:29:15.653086Z",
     "iopub.status.busy": "2023-04-15T11:29:15.652761Z",
     "iopub.status.idle": "2023-04-15T11:29:15.706474Z",
     "shell.execute_reply": "2023-04-15T11:29:15.706740Z"
    }
   },
   "outputs": [],
   "source": [
    "# dataset = OCRDataset('/workspace/Dataset/Synthesized', CHAR_MAP,\n",
    "#                     force_rewrite=True, skip_duplicates=True)\n",
    "dataset = OCRDataset.load('tmp/metadata.pkl')"
   ]
  },
  {
   "cell_type": "code",
   "execution_count": 25,
   "metadata": {},
   "outputs": [],
   "source": [
    "dataset.char_map = CHAR_MAP\n",
    "\n",
    "dataset.transform = transforms.Compose([\n",
    "    transforms.Grayscale(num_output_channels=1),\n",
    "    transforms.Resize((dataset.avg_img_h, dataset.avg_img_w)),\n",
    "    transforms.ToTensor(),\n",
    "  ])\n",
    "\n",
    "dataset.save()"
   ]
  },
  {
   "cell_type": "code",
   "execution_count": 26,
   "metadata": {},
   "outputs": [],
   "source": [
    "assert dataset.char_map == CHAR_MAP"
   ]
  },
  {
   "cell_type": "code",
   "execution_count": 27,
   "metadata": {
    "execution": {
     "iopub.execute_input": "2023-04-15T11:29:15.713678Z",
     "iopub.status.busy": "2023-04-15T11:29:15.708260Z",
     "iopub.status.idle": "2023-04-15T11:29:15.939686Z",
     "shell.execute_reply": "2023-04-15T11:29:15.939355Z"
    },
    "executionInfo": {
     "elapsed": 80,
     "status": "ok",
     "timestamp": 1679405037010,
     "user": {
      "displayName": "Beltsazar Sotardodo",
      "userId": "00799609405676889858"
     },
     "user_tz": -420
    },
    "id": "9I89GKkJu9I4"
   },
   "outputs": [],
   "source": [
    "import torch\n",
    "import torch.nn as nn\n",
    "import torch.optim as optim\n",
    "from torch.utils.data import DataLoader\n",
    "from torchvision.transforms import transforms\n",
    "\n",
    "from functools import partial\n",
    "\n",
    "from tqdm import tqdm\n",
    "import matplotlib.pyplot as plt\n",
    "\n",
    "class CTCTrainer:\n",
    "    def __init__(self, image_dir, char_map, batch_size,\n",
    "                 blank_idx=0, lr=0.001, added_padding=1,\n",
    "                 conv_channels=[32, 64],\n",
    "                 dataset=None):\n",
    "        self.image_dir = image_dir\n",
    "        self.char_map = char_map\n",
    "        # Define the batch size and number of epochs\n",
    "        self.batch_size = batch_size\n",
    "\n",
    "        # Define the dataset and dataloader\n",
    "        if dataset != None:\n",
    "            self.dataset = dataset\n",
    "        else:\n",
    "            self.dataset = OCRDataset(image_dir, char_map)\n",
    "        self.dataloader = DataLoader(self.dataset,\n",
    "                                     batch_size=self.batch_size,\n",
    "                                     shuffle=True,\n",
    "                                     collate_fn=self.collate_fn)\n",
    "\n",
    "        self.device = torch.device('cuda' if torch.cuda.is_available() else 'cpu')\n",
    "        self.total_padded_len = self.dataset.max_seq_len + added_padding\n",
    "        if self.total_padded_len > self.dataset.avg_img_w//4:\n",
    "            print(f'[WARN] Total sequence length ({self.total_padded_len}) exceeds predicted sequence length ({self.dataset.avg_img_w//4})')\n",
    "        # Define the model, criterion, and optimizer\n",
    "        self.model = OCRModel(num_classes=len(char_map),\n",
    "                              image_height=self.dataset.avg_img_h,\n",
    "                              image_width=self.dataset.avg_img_w,\n",
    "                              max_seq_len=self.total_padded_len,\n",
    "                              conv_channels=conv_channels)\\\n",
    "                              .to(self.device)\n",
    "        self.criterion = nn.CTCLoss(blank=blank_idx)\n",
    "        self.optimizer = optim.Adam(self.model.parameters(), lr=lr)\n",
    "\n",
    "    def collate_fn(self, batch):\n",
    "        max_len = self.total_padded_len\n",
    "        # Sort the batch by sequence length (in descending order)\n",
    "        batch = sorted(batch, key=lambda x: x[0].shape[2], reverse=True)\n",
    "\n",
    "        # Extract the image tensors and label lists from the sorted batch\n",
    "        images = [item[0] for item in batch]\n",
    "        labels = [item[1] for item in batch]\n",
    "        label_lengths = torch.LongTensor([len(label) for label in labels])\n",
    "        # Pad the label lists with the blank token\n",
    "        labels = [label[:max_len] + [self.char_map['-']] * (max_len-len(label[:max_len])) for label in labels]\n",
    "\n",
    "        # Stack the image tensors into a single tensor\n",
    "        images = torch.stack(images, dim=0)\n",
    "\n",
    "        # Convert the label lists into tensors\n",
    "        labels = torch.LongTensor(labels)\n",
    "\n",
    "        return images, labels, label_lengths\n",
    "\n",
    "    def train(self, num_epochs):\n",
    "        self.loss_history = []\n",
    "        self.model.train()\n",
    "        for epoch in range(num_epochs):\n",
    "            running_loss = 0.0\n",
    "            for i, (images, labels, target_lengths) in (pbar := tqdm(enumerate(self.dataloader),\n",
    "                                                                   total=len(self.dataloader))):\n",
    "                # Move the data to the device (GPU if available)\n",
    "                images = images.to(self.device)\n",
    "                labels = labels.to(self.device)\n",
    "                # print(torch.tensor([x.shape[1] for x in images]))\n",
    "                # Zero the parameter gradients\n",
    "                self.optimizer.zero_grad()\n",
    "\n",
    "                # Forward pass\n",
    "#                 print(images.shape)\n",
    "                output = self.model(images)\n",
    "                input_lengths = torch.full((len(labels),), output.shape[1],\n",
    "                                            dtype=torch.long)\n",
    "                # print(input_lengths.shape == (self.batch_size,))\n",
    "                # print(output.shape)\n",
    "                # print(labels.shape)\n",
    "                # print(target_lengths)\n",
    "                if output.mean().isnan():\n",
    "                    raise ValueError('Output is NaN')\n",
    "                # Compute the loss\n",
    "                try:\n",
    "                    loss = self.criterion(output.transpose(0, 1), labels,\n",
    "                                          input_lengths=input_lengths,\n",
    "                                          target_lengths=target_lengths)\n",
    "                except RuntimeError:\n",
    "                    print(target_lengths.shape)\n",
    "                    print(labels.shape)\n",
    "                    print(input_lengths.shape)\n",
    "                    print(output.shape)\n",
    "                    raise\n",
    "\n",
    "                # Backward pass and optimize\n",
    "                loss.backward()\n",
    "                self.optimizer.step()\n",
    "\n",
    "                # Add the batch loss to the running loss\n",
    "                running_loss += loss.item()\n",
    "\n",
    "                # Print the average loss every batch\n",
    "                pbar.set_description(f\"Epoch [{epoch+1}/{num_epochs}] | Batch [{i+1}/{len(self.dataloader)}] | Running Loss: {running_loss/(((i+1)/len(self.dataloader))*len(self.dataset)):.4f}\")\n",
    "            self.loss_history.append(running_loss/len(self.dataset))\n",
    "\n",
    "        print(\"Finished training!\")\n",
    "        return self.model\n",
    "\n",
    "    def save(self, path):\n",
    "        torch.save(self.model, path)\n",
    "\n",
    "    def plot_history(self, path=None):\n",
    "        plt.plot(self.loss_history)\n",
    "        if path != None:\n",
    "            plt.savefig(path)\n",
    "        plt.show()\n"
   ]
  },
  {
   "cell_type": "code",
   "execution_count": 28,
   "metadata": {
    "colab": {
     "base_uri": "https://localhost:8080/",
     "height": 49,
     "referenced_widgets": [
      "1c595935a60640a2ab3a3ae7f2f2537b",
      "a03dc406ccad4c72a9e2ee378c369f1a",
      "cf6155ce6d1e466689881e22b3ab8284",
      "3ab5f0dd68544bd29c9b3dfd30e7aee5",
      "6162a3e989d44056b035dbdbe5b1b31d",
      "82fee171da4c4e119bf8d91604915179",
      "e331cfbba3c341f193902668a5802b29",
      "35dbcfeb91174e969f8eeb027dd7d324",
      "3a73484261e44213b8afba21285c49dd",
      "d77f2a5d39b34ddfbc9848d1313f5c44",
      "d62f599fc124462bb5d0926da3635201"
     ]
    },
    "execution": {
     "iopub.execute_input": "2023-04-15T11:29:16.116749Z",
     "iopub.status.busy": "2023-04-15T11:29:16.115653Z",
     "iopub.status.idle": "2023-04-15T11:29:18.519986Z",
     "shell.execute_reply": "2023-04-15T11:29:18.519625Z"
    },
    "id": "Ab7o0llsuM89",
    "outputId": "aafa4e88-3369-46aa-9517-3fdefed7d962"
   },
   "outputs": [],
   "source": [
    "# Train the model\n",
    "trainer = CTCTrainer('/workspace/Dataset/Synthesized',\n",
    "                     CHAR_MAP,\n",
    "                     batch_size=32, added_padding=25,\n",
    "                     conv_channels=[64, 32], dataset=dataset)"
   ]
  },
  {
   "cell_type": "code",
   "execution_count": 29,
   "metadata": {},
   "outputs": [],
   "source": [
    "assert trainer.char_map == CHAR_MAP\n",
    "assert trainer.model(torch.randn(32, 1, trainer.model.image_height, trainer.model.image_width)\\\n",
    "                     .to(trainer.device)).shape[-1] == len(CHAR_MAP)"
   ]
  },
  {
   "cell_type": "code",
   "execution_count": 30,
   "metadata": {
    "execution": {
     "iopub.execute_input": "2023-04-15T11:29:18.523074Z",
     "iopub.status.busy": "2023-04-15T11:29:18.522757Z",
     "iopub.status.idle": "2023-04-15T11:29:18.524915Z",
     "shell.execute_reply": "2023-04-15T11:29:18.524650Z"
    },
    "executionInfo": {
     "elapsed": 69,
     "status": "ok",
     "timestamp": 1679405037011,
     "user": {
      "displayName": "Beltsazar Sotardodo",
      "userId": "00799609405676889858"
     },
     "user_tz": -420
    },
    "id": "3zpD16P7rRHh"
   },
   "outputs": [
    {
     "name": "stdout",
     "output_type": "stream",
     "text": [
      "2023-04-17 06:11:47.831042\n"
     ]
    }
   ],
   "source": [
    "timestamp = datetime.datetime.now()\n",
    "print(timestamp)"
   ]
  },
  {
   "cell_type": "code",
   "execution_count": 31,
   "metadata": {
    "execution": {
     "iopub.execute_input": "2023-04-15T11:29:18.527305Z",
     "iopub.status.busy": "2023-04-15T11:29:18.527001Z",
     "iopub.status.idle": "2023-04-15T12:53:57.871928Z",
     "shell.execute_reply": "2023-04-15T12:53:57.872500Z"
    },
    "id": "e9pHFnaHojID",
    "scrolled": false
   },
   "outputs": [
    {
     "name": "stderr",
     "output_type": "stream",
     "text": [
      "Epoch [1/10] | Batch [2453/2453] | Running Loss: 0.1130: 100%|██████████| 2453/2453 [15:28<00:00,  2.64it/s]\n",
      "Epoch [2/10] | Batch [2453/2453] | Running Loss: 0.0950: 100%|██████████| 2453/2453 [17:13<00:00,  2.37it/s]\n",
      "Epoch [3/10] | Batch [2453/2453] | Running Loss: 0.0883: 100%|██████████| 2453/2453 [16:51<00:00,  2.42it/s]\n",
      "Epoch [4/10] | Batch [2453/2453] | Running Loss: 0.0874: 100%|██████████| 2453/2453 [16:14<00:00,  2.52it/s]\n",
      "Epoch [5/10] | Batch [2453/2453] | Running Loss: 0.0893: 100%|██████████| 2453/2453 [16:06<00:00,  2.54it/s]\n",
      "Epoch [6/10] | Batch [2453/2453] | Running Loss: 0.0861: 100%|██████████| 2453/2453 [15:59<00:00,  2.56it/s]\n",
      "Epoch [7/10] | Batch [2453/2453] | Running Loss: 0.0850: 100%|██████████| 2453/2453 [16:13<00:00,  2.52it/s]\n",
      "Epoch [8/10] | Batch [2453/2453] | Running Loss: 0.0852: 100%|██████████| 2453/2453 [13:51<00:00,  2.95it/s]\n",
      "Epoch [9/10] | Batch [2453/2453] | Running Loss: 0.0856: 100%|██████████| 2453/2453 [13:16<00:00,  3.08it/s]\n",
      "Epoch [10/10] | Batch [2453/2453] | Running Loss: 0.0849: 100%|██████████| 2453/2453 [13:15<00:00,  3.08it/s]\n"
     ]
    },
    {
     "name": "stdout",
     "output_type": "stream",
     "text": [
      "Finished training!\n"
     ]
    },
    {
     "data": {
      "image/png": "[encoded data removed]",
      "text/plain": [
       "<Figure size 432x288 with 1 Axes>"
      ]
     },
     "metadata": {
      "needs_background": "light"
     },
     "output_type": "display_data"
    }
   ],
   "source": [
    "trainer.train(num_epochs=10)\n",
    "trainer.plot_history(path=f'ctc-wide-crnn/{timestamp}.png')\n",
    "trainer.save(f'ctc-wide-crnn/{timestamp}.pt')"
   ]
  },
  {
   "cell_type": "code",
   "execution_count": 32,
   "metadata": {
    "execution": {
     "iopub.execute_input": "2023-04-15T12:53:57.881404Z",
     "iopub.status.busy": "2023-04-15T12:53:57.880846Z",
     "iopub.status.idle": "2023-04-15T12:53:57.882619Z",
     "shell.execute_reply": "2023-04-15T12:53:57.882231Z"
    }
   },
   "outputs": [],
   "source": [
    "class CTCDecoder:\n",
    "    def __init__(self, model, char_map, blank_char='-'):\n",
    "        self.model = model.eval()\n",
    "        self.alphabet = list(char_map.keys())\n",
    "        self.blank_char = blank_char\n",
    "        blank_idxs = [idx for idx, x in enumerate(self.alphabet) if x == self.blank_char]\n",
    "        assert len(blank_idxs) == 1\n",
    "        self.blank_index = blank_idxs[0]\n",
    "    \n",
    "    @classmethod\n",
    "    def from_path(cls, model_path, alphabet):\n",
    "        saved_model = torch.load(model_path)\n",
    "        return cls(saved_model, alphabet)\n",
    "    \n",
    "    def convert_to_text(self, output):\n",
    "        output = torch.argmax(output, dim=2).detach().cpu().numpy()\n",
    "        texts = []\n",
    "        for i in range(output.shape[0]):\n",
    "            text = ''\n",
    "            for j in range(output.shape[1]):\n",
    "                if output[i, j] != self.blank_index and (j == 0 or output[i, j] != output[i, j-1]):\n",
    "                    text += self.alphabet[output[i, j]]\n",
    "            texts.append(text)\n",
    "        return texts\n",
    "    \n",
    "    def infer(self, data):\n",
    "        model_out = self.model(data)\n",
    "#         print(model_out.shape)\n",
    "        return self.convert_to_text(model_out)"
   ]
  },
  {
   "cell_type": "code",
   "execution_count": 33,
   "metadata": {
    "execution": {
     "iopub.execute_input": "2023-04-15T12:53:57.890321Z",
     "iopub.status.busy": "2023-04-15T12:53:57.889775Z",
     "iopub.status.idle": "2023-04-15T12:53:57.895581Z",
     "shell.execute_reply": "2023-04-15T12:53:57.896025Z"
    }
   },
   "outputs": [],
   "source": [
    "from ctc_decoder import best_path, beam_search\n",
    "from ctcdecode import CTCBeamDecoder\n",
    "import pdb\n",
    "\n",
    "class BestPathDecoder(CTCDecoder):\n",
    "    def __init__(self, *args, **kwargs):\n",
    "        super().__init__(*args, **kwargs)\n",
    "        self.all_chars = [x for x in self.alphabet if x != self.blank_char]\n",
    "        \n",
    "    def convert_to_text(self, output):\n",
    "        output = torch.roll(F.softmax(output, dim=2), -1, 2).detach().cpu().numpy()\n",
    "        texts = []\n",
    "        for i in range(output.shape[0]):\n",
    "#             pdb.set_trace()\n",
    "            texts.append(best_path(output[i, :, :], self.all_chars))\n",
    "        return texts\n",
    "\n",
    "class BeamSearchDecoder(CTCDecoder):\n",
    "    def __init__(self, *args, beam_width=100, **kwargs):\n",
    "        super().__init__(*args, **kwargs)\n",
    "        self.all_chars = [x for x in self.alphabet if x != self.blank_char]\n",
    "        self.beam_width=beam_width\n",
    "#         self.decoder = CTCBeamDecoder(\n",
    "#             self.alphabet,\n",
    "#             model_path=None,\n",
    "#             alpha=0,\n",
    "#             beta=0,\n",
    "#             cutoff_top_n=40,\n",
    "#             cutoff_prob=1.0,\n",
    "#             beam_width=beam_width,\n",
    "#             num_processes=4,\n",
    "#             blank_id=self.blank_index,\n",
    "#             log_probs_input=False)\n",
    "    \n",
    "    @classmethod\n",
    "    def from_path(cls, *args, beam_width=100, **kwargs):\n",
    "        self = super().from_path(*args, **kwargs)\n",
    "        self.all_chars = [x for x in self.alphabet if x != self.blank_char]\n",
    "        self.beam_width = beam_width\n",
    "        return self\n",
    "        \n",
    "    def convert_to_text(self, output):\n",
    "        output = torch.roll(F.softmax(output, dim=2), -1, 2).detach()\n",
    "        texts = []\n",
    "        for i in range(output.shape[0]):\n",
    "            texts.append(beam_search(output[i, :, :], self.all_chars,\n",
    "                                     beam_width=self.beam_width))\n",
    "#         res, _, _, out_lens = self.decoder.decode(output)\n",
    "#         texts = [''.join([tensor[0][:out_len]]) for tensor, out_len in zip(res, out_lens)]\n",
    "        return texts"
   ]
  },
  {
   "cell_type": "code",
   "execution_count": 34,
   "metadata": {
    "execution": {
     "iopub.execute_input": "2023-04-15T12:53:57.903241Z",
     "iopub.status.busy": "2023-04-15T12:53:57.902724Z",
     "iopub.status.idle": "2023-04-15T12:53:57.916397Z",
     "shell.execute_reply": "2023-04-15T12:53:57.916653Z"
    }
   },
   "outputs": [],
   "source": [
    "from jiwer import wer, cer\n",
    "from itertools import starmap\n",
    "\n",
    "def evaluate(decoder, dataloader, char_map):\n",
    "    char_map = {v: k for k,v in char_map.items()}\n",
    "    \n",
    "    def decode(arr, target_length):\n",
    "        return ''.join(list(map(lambda x:char_map[x], arr[:target_length])))\n",
    "    \n",
    "    cers = []\n",
    "    wers = []\n",
    "    tot_cer = 0\n",
    "    tot_wer = 0\n",
    "    num_examples = 0\n",
    "    for i, (images, labels, target_lengths) in (pbar := tqdm(enumerate(dataloader),\n",
    "                                                             total=len(dataloader))):\n",
    "            images = images.to('cuda')\n",
    "            labels = labels.numpy()\n",
    "            outputs = decoder.infer(images)\n",
    "            for j, (output, true_label) in enumerate(zip(outputs, starmap(decode, zip(labels, target_lengths)))):\n",
    "                label = true_label.replace('-', '')\n",
    "                try:\n",
    "                    cer_ = cer(label, output)\n",
    "                    wer_ = wer(label, output)\n",
    "                except ValueError:\n",
    "                    pbar.write(f'[WARN]: ValueError with predicted {output} and label {label}')\n",
    "                    if label == '':\n",
    "                        continue\n",
    "                    cer_ = 1\n",
    "                    wer_ = 1\n",
    "                cers.append(cer_)\n",
    "                wers.append(wer_)\n",
    "                tot_cer += cer_\n",
    "                tot_wer += wer_\n",
    "                num_examples += 1\n",
    "                pbar.set_description(f\" Example: {num_examples} | CER: {tot_cer/(num_examples):.4f} | WER: {tot_wer/(num_examples):.4f}\")\n",
    "    return cers, wers"
   ]
  },
  {
   "cell_type": "code",
   "execution_count": 35,
   "metadata": {
    "execution": {
     "iopub.execute_input": "2023-04-15T12:53:57.920209Z",
     "iopub.status.busy": "2023-04-15T12:53:57.919902Z",
     "iopub.status.idle": "2023-04-15T12:53:57.921348Z",
     "shell.execute_reply": "2023-04-15T12:53:57.921056Z"
    }
   },
   "outputs": [],
   "source": [
    "import numpy as np\n",
    "import matplotlib.pyplot as plt\n",
    "\n",
    "def plot_cer_wer(cers, wers):\n",
    "    cer_mean = np.mean(cers)\n",
    "    wer_mean = np.mean(wers)\n",
    "    fig, axs = plt.subplots(1, 2, figsize=(20, 4))\n",
    "    axs[0].hist(cers, bins=100)\n",
    "    axs[0].axvline(x=cer_mean, color='orange')\n",
    "    axs[0].text(cer_mean,5.0, f'mean={cer_mean:.2f}')\n",
    "    axs[0].set_title(f'CER')\n",
    "    axs[1].hist(wers, bins=100)\n",
    "    axs[1].set_title('WER')\n",
    "    axs[1].text(wer_mean,5.0, f'mean={wer_mean:.2f}')\n",
    "    axs[1].axvline(x=wer_mean, color='orange')\n",
    "    plt.show()"
   ]
  },
  {
   "cell_type": "code",
   "execution_count": 36,
   "metadata": {
    "execution": {
     "iopub.execute_input": "2023-04-15T12:53:57.923319Z",
     "iopub.status.busy": "2023-04-15T12:53:57.923021Z",
     "iopub.status.idle": "2023-04-15T12:53:57.924238Z",
     "shell.execute_reply": "2023-04-15T12:53:57.924491Z"
    }
   },
   "outputs": [],
   "source": [
    "dataloader = trainer.dataloader"
   ]
  },
  {
   "cell_type": "code",
   "execution_count": 37,
   "metadata": {
    "execution": {
     "iopub.execute_input": "2023-04-15T12:53:57.926491Z",
     "iopub.status.busy": "2023-04-15T12:53:57.926202Z",
     "iopub.status.idle": "2023-04-15T12:53:57.927686Z",
     "shell.execute_reply": "2023-04-15T12:53:57.927428Z"
    }
   },
   "outputs": [],
   "source": [
    "model_path = f'ctc-wide-crnn/{timestamp}.pt'"
   ]
  },
  {
   "cell_type": "code",
   "execution_count": 38,
   "metadata": {
    "scrolled": true
   },
   "outputs": [
    {
     "name": "stderr",
     "output_type": "stream",
     "text": [
      " Example: 191 | CER: 0.8877 | WER: 1.0569:   0%|          | 6/2453 [00:01<10:37,  3.84it/s]"
     ]
    },
    {
     "name": "stdout",
     "output_type": "stream",
     "text": [
      "[WARN]: ValueError with predicted  and label \n"
     ]
    },
    {
     "name": "stderr",
     "output_type": "stream",
     "text": [
      " Example: 894 | CER: 0.8871 | WER: 1.0798:   1%|          | 28/2453 [00:07<10:38,  3.80it/s]"
     ]
    },
    {
     "name": "stdout",
     "output_type": "stream",
     "text": [
      "[WARN]: ValueError with predicted  and label \n"
     ]
    },
    {
     "name": "stderr",
     "output_type": "stream",
     "text": [
      " Example: 1213 | CER: 0.8873 | WER: 1.0759:   2%|▏         | 38/2453 [00:10<10:09,  3.96it/s]"
     ]
    },
    {
     "name": "stdout",
     "output_type": "stream",
     "text": [
      "[WARN]: ValueError with predicted  and label \n"
     ]
    },
    {
     "name": "stderr",
     "output_type": "stream",
     "text": [
      " Example: 2493 | CER: 0.8870 | WER: 1.0766:   3%|▎         | 78/2453 [00:20<10:07,  3.91it/s]"
     ]
    },
    {
     "name": "stdout",
     "output_type": "stream",
     "text": [
      "[WARN]: ValueError with predicted أٰ أٰ  أٰ أ: and label   \n"
     ]
    },
    {
     "name": "stderr",
     "output_type": "stream",
     "text": [
      " Example: 2908 | CER: 0.8869 | WER: 1.0763:   4%|▎         | 91/2453 [00:23<10:15,  3.84it/s]"
     ]
    },
    {
     "name": "stdout",
     "output_type": "stream",
     "text": [
      "[WARN]: ValueError with predicted  and label \n"
     ]
    },
    {
     "name": "stderr",
     "output_type": "stream",
     "text": [
      " Example: 3260 | CER: 0.8872 | WER: 1.0757:   4%|▍         | 102/2453 [00:26<10:16,  3.81it/s]"
     ]
    },
    {
     "name": "stdout",
     "output_type": "stream",
     "text": [
      "[WARN]: ValueError with predicted أٰم أٰ أ أ أٰ أٰٰلٰ and label   \n"
     ]
    },
    {
     "name": "stderr",
     "output_type": "stream",
     "text": [
      " Example: 3931 | CER: 0.8872 | WER: 1.0766:   5%|▌         | 123/2453 [00:31<08:38,  4.49it/s]"
     ]
    },
    {
     "name": "stdout",
     "output_type": "stream",
     "text": [
      "[WARN]: ValueError with predicted  and label \n"
     ]
    },
    {
     "name": "stderr",
     "output_type": "stream",
     "text": [
      " Example: 5466 | CER: 0.8862 | WER: 1.0752:   7%|▋         | 171/2453 [00:44<09:44,  3.91it/s]"
     ]
    },
    {
     "name": "stdout",
     "output_type": "stream",
     "text": [
      "[WARN]: ValueError with predicted  and label \n"
     ]
    },
    {
     "name": "stderr",
     "output_type": "stream",
     "text": [
      " Example: 7129 | CER: 0.8863 | WER: 1.0753:   9%|▉         | 223/2453 [00:56<08:19,  4.46it/s]"
     ]
    },
    {
     "name": "stdout",
     "output_type": "stream",
     "text": [
      "[WARN]: ValueError with predicted : and label \n"
     ]
    },
    {
     "name": "stderr",
     "output_type": "stream",
     "text": [
      " Example: 7161 | CER: 0.8863 | WER: 1.0754:   9%|▉         | 224/2453 [00:56<08:43,  4.26it/s]"
     ]
    },
    {
     "name": "stdout",
     "output_type": "stream",
     "text": [
      "[WARN]: ValueError with predicted ۑٰ أٰ أٰٰل: and label   \n"
     ]
    },
    {
     "name": "stderr",
     "output_type": "stream",
     "text": [
      " Example: 7832 | CER: 0.8863 | WER: 1.0762:  10%|▉         | 245/2453 [01:02<09:23,  3.92it/s]"
     ]
    },
    {
     "name": "stdout",
     "output_type": "stream",
     "text": [
      "[WARN]: ValueError with predicted  and label \n"
     ]
    },
    {
     "name": "stderr",
     "output_type": "stream",
     "text": [
      " Example: 8087 | CER: 0.8861 | WER: 1.0754:  10%|█         | 253/2453 [01:04<09:23,  3.90it/s]"
     ]
    },
    {
     "name": "stdout",
     "output_type": "stream",
     "text": [
      "[WARN]: ValueError with predicted : and label \n"
     ]
    },
    {
     "name": "stderr",
     "output_type": "stream",
     "text": [
      " Example: 8695 | CER: 0.8859 | WER: 1.0753:  11%|█         | 272/2453 [01:09<09:31,  3.82it/s]"
     ]
    },
    {
     "name": "stdout",
     "output_type": "stream",
     "text": [
      "[WARN]: ValueError with predicted ۑٰٰمٰ أٰٰمٰ أٰ أٰ إٰ أٰٰمٰ أٰٰ أٰٰ أٰ أٰمٰ and label      \n"
     ]
    },
    {
     "name": "stderr",
     "output_type": "stream",
     "text": [
      " Example: 10615 | CER: 0.8857 | WER: 1.0775:  14%|█▎        | 332/2453 [01:24<09:14,  3.83it/s]"
     ]
    },
    {
     "name": "stdout",
     "output_type": "stream",
     "text": [
      "[WARN]: ValueError with predicted أٰمٰ أٰ أٰ  أٰ أٰ أٰ أٰ أٰ and label    \n"
     ]
    },
    {
     "name": "stderr",
     "output_type": "stream",
     "text": [
      " Example: 11062 | CER: 0.8857 | WER: 1.0775:  14%|█▍        | 346/2453 [01:28<09:09,  3.84it/s]"
     ]
    },
    {
     "name": "stdout",
     "output_type": "stream",
     "text": [
      "[WARN]: ValueError with predicted  and label \n"
     ]
    },
    {
     "name": "stderr",
     "output_type": "stream",
     "text": [
      " Example: 11989 | CER: 0.8858 | WER: 1.0785:  15%|█▌        | 375/2453 [01:36<09:01,  3.84it/s]"
     ]
    },
    {
     "name": "stdout",
     "output_type": "stream",
     "text": [
      "[WARN]: ValueError with predicted  and label \n"
     ]
    },
    {
     "name": "stderr",
     "output_type": "stream",
     "text": [
      " Example: 12020 | CER: 0.8858 | WER: 1.0784:  15%|█▌        | 376/2453 [01:36<08:55,  3.88it/s]"
     ]
    },
    {
     "name": "stdout",
     "output_type": "stream",
     "text": [
      "[WARN]: ValueError with predicted  and label \n"
     ]
    },
    {
     "name": "stderr",
     "output_type": "stream",
     "text": [
      " Example: 14100 | CER: 0.8858 | WER: 1.0791:  18%|█▊        | 441/2453 [01:52<08:33,  3.92it/s]"
     ]
    },
    {
     "name": "stdout",
     "output_type": "stream",
     "text": [
      "[WARN]: ValueError with predicted ۑٰمٰ أٰم أٰ أٰ أٰ أٰ أٰ أٰ أٰ  and label    \n"
     ]
    },
    {
     "name": "stderr",
     "output_type": "stream",
     "text": [
      " Example: 14964 | CER: 0.8858 | WER: 1.0791:  19%|█▉        | 468/2453 [01:59<08:13,  4.02it/s]"
     ]
    },
    {
     "name": "stdout",
     "output_type": "stream",
     "text": [
      "[WARN]: ValueError with predicted أٰ أٰ أٰل: and label   \n"
     ]
    },
    {
     "name": "stderr",
     "output_type": "stream",
     "text": [
      " Example: 17204 | CER: 0.8860 | WER: 1.0785:  22%|██▏       | 538/2453 [02:17<08:12,  3.89it/s]"
     ]
    },
    {
     "name": "stdout",
     "output_type": "stream",
     "text": [
      "[WARN]: ValueError with predicted أٰ أٰ  أٰ and label   \n"
     ]
    },
    {
     "name": "stderr",
     "output_type": "stream",
     "text": [
      " Example: 17524 | CER: 0.8860 | WER: 1.0786:  22%|██▏       | 548/2453 [02:19<08:08,  3.90it/s]"
     ]
    },
    {
     "name": "stdout",
     "output_type": "stream",
     "text": [
      "[WARN]: ValueError with predicted أٰ أٰ أٰ أٰ  أٰلٰ: and label   \n"
     ]
    },
    {
     "name": "stderr",
     "output_type": "stream",
     "text": [
      " Example: 18708 | CER: 0.8860 | WER: 1.0783:  24%|██▍       | 585/2453 [02:29<08:23,  3.71it/s]"
     ]
    },
    {
     "name": "stdout",
     "output_type": "stream",
     "text": [
      "[WARN]: ValueError with predicted أٰمٰ أٰمٰ أٰ ظٰ أٰٰمٰ أٰٰٰ أٰٰ أٰٰ أٰ أٰٰ and label     \n"
     ]
    },
    {
     "name": "stderr",
     "output_type": "stream",
     "text": [
      " Example: 20563 | CER: 0.8861 | WER: 1.0798:  26%|██▌       | 643/2453 [02:44<07:45,  3.89it/s]"
     ]
    },
    {
     "name": "stdout",
     "output_type": "stream",
     "text": [
      "[WARN]: ValueError with predicted  and label \n"
     ]
    },
    {
     "name": "stderr",
     "output_type": "stream",
     "text": [
      " Example: 21139 | CER: 0.8861 | WER: 1.0793:  27%|██▋       | 661/2453 [02:48<07:42,  3.88it/s]"
     ]
    },
    {
     "name": "stdout",
     "output_type": "stream",
     "text": [
      "[WARN]: ValueError with predicted ۑٰمٰ أٰم أٰ أٰم أٰ أٰ أٰ أٰ أٰ and label    \n"
     ]
    },
    {
     "name": "stderr",
     "output_type": "stream",
     "text": [
      " Example: 21490 | CER: 0.8861 | WER: 1.0792:  27%|██▋       | 672/2453 [02:51<07:38,  3.89it/s]"
     ]
    },
    {
     "name": "stdout",
     "output_type": "stream",
     "text": [
      "[WARN]: ValueError with predicted  and label \n"
     ]
    },
    {
     "name": "stderr",
     "output_type": "stream",
     "text": [
      " Example: 22737 | CER: 0.8860 | WER: 1.0792:  29%|██▉       | 711/2453 [03:00<07:23,  3.93it/s]"
     ]
    },
    {
     "name": "stdout",
     "output_type": "stream",
     "text": [
      "[WARN]: ValueError with predicted  and label \n"
     ]
    },
    {
     "name": "stderr",
     "output_type": "stream",
     "text": [
      " Example: 23248 | CER: 0.8860 | WER: 1.0792:  30%|██▉       | 727/2453 [03:04<06:48,  4.23it/s]"
     ]
    },
    {
     "name": "stdout",
     "output_type": "stream",
     "text": [
      "[WARN]: ValueError with predicted  and label \n"
     ]
    },
    {
     "name": "stderr",
     "output_type": "stream",
     "text": [
      " Example: 23365 | CER: 0.8860 | WER: 1.0791:  30%|██▉       | 730/2453 [03:05<06:26,  4.45it/s]"
     ]
    },
    {
     "name": "stdout",
     "output_type": "stream",
     "text": [
      "[WARN]: ValueError with predicted  and label \n"
     ]
    },
    {
     "name": "stderr",
     "output_type": "stream",
     "text": [
      " Example: 23918 | CER: 0.8860 | WER: 1.0793:  30%|███       | 748/2453 [03:10<08:12,  3.46it/s]"
     ]
    },
    {
     "name": "stdout",
     "output_type": "stream",
     "text": [
      "[WARN]: ValueError with predicted  and label \n"
     ]
    },
    {
     "name": "stderr",
     "output_type": "stream",
     "text": [
      " Example: 25038 | CER: 0.8859 | WER: 1.0791:  32%|███▏      | 783/2453 [03:19<07:12,  3.86it/s]"
     ]
    },
    {
     "name": "stdout",
     "output_type": "stream",
     "text": [
      "[WARN]: ValueError with predicted أٰ أٰ  أٰ أٰ: and label   \n"
     ]
    },
    {
     "name": "stderr",
     "output_type": "stream",
     "text": [
      " Example: 25101 | CER: 0.8859 | WER: 1.0790:  32%|███▏      | 785/2453 [03:19<06:32,  4.25it/s]"
     ]
    },
    {
     "name": "stdout",
     "output_type": "stream",
     "text": [
      "[WARN]: ValueError with predicted  and label \n"
     ]
    },
    {
     "name": "stderr",
     "output_type": "stream",
     "text": [
      " Example: 25229 | CER: 0.8859 | WER: 1.0789:  32%|███▏      | 789/2453 [03:20<06:16,  4.41it/s]"
     ]
    },
    {
     "name": "stdout",
     "output_type": "stream",
     "text": [
      "[WARN]: ValueError with predicted ۑٰمٰ أٰ أٰ أٰ أٰ أٰٰلٰ and label   \n"
     ]
    },
    {
     "name": "stderr",
     "output_type": "stream",
     "text": [
      " Example: 25329 | CER: 0.8859 | WER: 1.0789:  32%|███▏      | 792/2453 [03:21<06:17,  4.40it/s]"
     ]
    },
    {
     "name": "stdout",
     "output_type": "stream",
     "text": [
      "[WARN]: ValueError with predicted أٰ أ أٰٰلٰ: and label   \n"
     ]
    },
    {
     "name": "stderr",
     "output_type": "stream",
     "text": [
      " Example: 26509 | CER: 0.8859 | WER: 1.0786:  34%|███▍      | 829/2453 [03:29<06:06,  4.43it/s]"
     ]
    },
    {
     "name": "stdout",
     "output_type": "stream",
     "text": [
      "[WARN]: ValueError with predicted أٰم أٰ أٰ أٰ أٰ أٰ and label   \n"
     ]
    },
    {
     "name": "stderr",
     "output_type": "stream",
     "text": [
      " Example: 27148 | CER: 0.8859 | WER: 1.0784:  35%|███▍      | 849/2453 [03:34<06:45,  3.96it/s]"
     ]
    },
    {
     "name": "stdout",
     "output_type": "stream",
     "text": [
      "[WARN]: ValueError with predicted  and label \n"
     ]
    },
    {
     "name": "stderr",
     "output_type": "stream",
     "text": [
      " Example: 28171 | CER: 0.8859 | WER: 1.0783:  36%|███▌      | 881/2453 [03:42<06:59,  3.75it/s]"
     ]
    },
    {
     "name": "stdout",
     "output_type": "stream",
     "text": [
      "[WARN]: ValueError with predicted  and label \n"
     ]
    },
    {
     "name": "stderr",
     "output_type": "stream",
     "text": [
      " Example: 28491 | CER: 0.8859 | WER: 1.0782:  36%|███▋      | 891/2453 [03:45<06:45,  3.85it/s]"
     ]
    },
    {
     "name": "stdout",
     "output_type": "stream",
     "text": [
      "[WARN]: ValueError with predicted أٰ أٰ أٰ أٰ أٰ أٰٰلٰ and label   \n"
     ]
    },
    {
     "name": "stderr",
     "output_type": "stream",
     "text": [
      " Example: 28874 | CER: 0.8859 | WER: 1.0784:  37%|███▋      | 903/2453 [03:48<06:02,  4.28it/s]"
     ]
    },
    {
     "name": "stdout",
     "output_type": "stream",
     "text": [
      "[WARN]: ValueError with predicted  and label \n"
     ]
    },
    {
     "name": "stderr",
     "output_type": "stream",
     "text": [
      " Example: 30346 | CER: 0.8859 | WER: 1.0787:  39%|███▊      | 949/2453 [03:59<06:26,  3.89it/s]"
     ]
    },
    {
     "name": "stdout",
     "output_type": "stream",
     "text": [
      "[WARN]: ValueError with predicted ۑٰ أٰ أٰٰلٰ: and label   \n"
     ]
    },
    {
     "name": "stderr",
     "output_type": "stream",
     "text": [
      " Example: 30473 | CER: 0.8859 | WER: 1.0787:  39%|███▉      | 953/2453 [04:00<06:22,  3.92it/s]"
     ]
    },
    {
     "name": "stdout",
     "output_type": "stream",
     "text": [
      "[WARN]: ValueError with predicted  and label \n"
     ]
    },
    {
     "name": "stderr",
     "output_type": "stream",
     "text": [
      " Example: 30952 | CER: 0.8860 | WER: 1.0787:  39%|███▉      | 968/2453 [04:04<06:08,  4.03it/s]"
     ]
    },
    {
     "name": "stdout",
     "output_type": "stream",
     "text": [
      "[WARN]: ValueError with predicted  and label \n"
     ]
    },
    {
     "name": "stderr",
     "output_type": "stream",
     "text": [
      " Example: 34280 | CER: 0.8861 | WER: 1.0793:  44%|████▎     | 1072/2453 [04:31<06:02,  3.81it/s]"
     ]
    },
    {
     "name": "stdout",
     "output_type": "stream",
     "text": [
      "[WARN]: ValueError with predicted أٰ أٰ أٰٰلٰ: and label   \n"
     ]
    },
    {
     "name": "stderr",
     "output_type": "stream",
     "text": [
      " Example: 34439 | CER: 0.8861 | WER: 1.0792:  44%|████▍     | 1077/2453 [04:32<05:01,  4.57it/s]"
     ]
    },
    {
     "name": "stdout",
     "output_type": "stream",
     "text": [
      "[WARN]: ValueError with predicted  and label \n"
     ]
    },
    {
     "name": "stderr",
     "output_type": "stream",
     "text": [
      " Example: 34886 | CER: 0.8861 | WER: 1.0799:  44%|████▍     | 1091/2453 [04:35<05:12,  4.35it/s]"
     ]
    },
    {
     "name": "stdout",
     "output_type": "stream",
     "text": [
      "[WARN]: ValueError with predicted  and label \n"
     ]
    },
    {
     "name": "stderr",
     "output_type": "stream",
     "text": [
      " Example: 35280 | CER: 0.8861 | WER: 1.0798:  45%|████▍     | 1103/2453 [04:38<05:12,  4.32it/s]"
     ]
    },
    {
     "name": "stdout",
     "output_type": "stream",
     "text": [
      "[WARN]: ValueError with predicted  and label \n"
     ]
    },
    {
     "name": "stderr",
     "output_type": "stream",
     "text": [
      " Example: 35614 | CER: 0.8861 | WER: 1.0797:  45%|████▌     | 1113/2453 [04:40<04:47,  4.66it/s]"
     ]
    },
    {
     "name": "stdout",
     "output_type": "stream",
     "text": [
      "[WARN]: ValueError with predicted : and label  \n"
     ]
    },
    {
     "name": "stderr",
     "output_type": "stream",
     "text": [
      " Example: 36079 | CER: 0.8861 | WER: 1.0794:  46%|████▌     | 1128/2453 [04:43<04:47,  4.61it/s]"
     ]
    },
    {
     "name": "stdout",
     "output_type": "stream",
     "text": [
      "[WARN]: ValueError with predicted أٰمٰ أٰ أٰ  أٰٰ أٰ أٰ أٰ أٰ and label    \n"
     ]
    },
    {
     "name": "stderr",
     "output_type": "stream",
     "text": [
      " Example: 37444 | CER: 0.8863 | WER: 1.0792:  48%|████▊     | 1171/2453 [04:54<05:36,  3.81it/s]"
     ]
    },
    {
     "name": "stdout",
     "output_type": "stream",
     "text": [
      "[WARN]: ValueError with predicted : and label \n"
     ]
    },
    {
     "name": "stderr",
     "output_type": "stream",
     "text": [
      " Example: 38500 | CER: 0.8862 | WER: 1.0793:  49%|████▉     | 1204/2453 [05:02<05:28,  3.80it/s]"
     ]
    },
    {
     "name": "stdout",
     "output_type": "stream",
     "text": [
      "[WARN]: ValueError with predicted ۑٰمٰ أٰ أٰأٰ أٰٰٰ أٰمٰ أٰٰ أٰٰ أٰ أٰمٰ and label      \n"
     ]
    },
    {
     "name": "stderr",
     "output_type": "stream",
     "text": [
      " Example: 39204 | CER: 0.8862 | WER: 1.0793:  50%|████▉     | 1226/2453 [05:08<04:40,  4.38it/s]"
     ]
    },
    {
     "name": "stdout",
     "output_type": "stream",
     "text": [
      "[WARN]: ValueError with predicted  and label \n"
     ]
    },
    {
     "name": "stderr",
     "output_type": "stream",
     "text": [
      " Example: 40451 | CER: 0.8862 | WER: 1.0790:  52%|█████▏    | 1265/2453 [05:17<05:11,  3.81it/s]"
     ]
    },
    {
     "name": "stdout",
     "output_type": "stream",
     "text": [
      "[WARN]: ValueError with predicted أٰ أ أٰٰلٰ: and label   \n"
     ]
    },
    {
     "name": "stderr",
     "output_type": "stream",
     "text": [
      " Example: 43746 | CER: 0.8862 | WER: 1.0789:  56%|█████▌    | 1368/2453 [05:42<04:25,  4.08it/s]"
     ]
    },
    {
     "name": "stdout",
     "output_type": "stream",
     "text": [
      "[WARN]: ValueError with predicted أٰ أٰ  أٰ أ and label   \n",
      "[WARN]: ValueError with predicted  and label \n"
     ]
    },
    {
     "name": "stderr",
     "output_type": "stream",
     "text": [
      " Example: 44449 | CER: 0.8862 | WER: 1.0789:  57%|█████▋    | 1390/2453 [05:47<04:32,  3.90it/s]"
     ]
    },
    {
     "name": "stdout",
     "output_type": "stream",
     "text": [
      "[WARN]: ValueError with predicted  and label \n"
     ]
    },
    {
     "name": "stderr",
     "output_type": "stream",
     "text": [
      " Example: 45024 | CER: 0.8862 | WER: 1.0790:  57%|█████▋    | 1408/2453 [05:51<03:44,  4.66it/s]"
     ]
    },
    {
     "name": "stdout",
     "output_type": "stream",
     "text": [
      "[WARN]: ValueError with predicted  and label \n"
     ]
    },
    {
     "name": "stderr",
     "output_type": "stream",
     "text": [
      " Example: 45695 | CER: 0.8862 | WER: 1.0790:  58%|█████▊    | 1429/2453 [05:57<04:26,  3.84it/s]"
     ]
    },
    {
     "name": "stdout",
     "output_type": "stream",
     "text": [
      "[WARN]: ValueError with predicted  and label \n"
     ]
    },
    {
     "name": "stderr",
     "output_type": "stream",
     "text": [
      " Example: 46174 | CER: 0.8862 | WER: 1.0788:  59%|█████▉    | 1444/2453 [06:01<04:19,  3.89it/s]"
     ]
    },
    {
     "name": "stdout",
     "output_type": "stream",
     "text": [
      "[WARN]: ValueError with predicted  and label \n"
     ]
    },
    {
     "name": "stderr",
     "output_type": "stream",
     "text": [
      " Example: 46685 | CER: 0.8862 | WER: 1.0788:  60%|█████▉    | 1460/2453 [06:05<04:12,  3.93it/s]"
     ]
    },
    {
     "name": "stdout",
     "output_type": "stream",
     "text": [
      "[WARN]: ValueError with predicted : and label \n"
     ]
    },
    {
     "name": "stderr",
     "output_type": "stream",
     "text": [
      " Example: 48924 | CER: 0.8862 | WER: 1.0790:  62%|██████▏   | 1530/2453 [06:23<03:52,  3.97it/s]"
     ]
    },
    {
     "name": "stdout",
     "output_type": "stream",
     "text": [
      "[WARN]: ValueError with predicted : and label \n"
     ]
    },
    {
     "name": "stderr",
     "output_type": "stream",
     "text": [
      " Example: 49756 | CER: 0.8862 | WER: 1.0788:  63%|██████▎   | 1556/2453 [06:29<03:49,  3.91it/s]"
     ]
    },
    {
     "name": "stdout",
     "output_type": "stream",
     "text": [
      "[WARN]: ValueError with predicted أٰأ أٰ أٰٰلٰ: and label   \n"
     ]
    },
    {
     "name": "stderr",
     "output_type": "stream",
     "text": [
      " Example: 50587 | CER: 0.8862 | WER: 1.0785:  64%|██████▍   | 1582/2453 [06:36<03:43,  3.90it/s]"
     ]
    },
    {
     "name": "stdout",
     "output_type": "stream",
     "text": [
      "[WARN]: ValueError with predicted  and label \n"
     ]
    },
    {
     "name": "stderr",
     "output_type": "stream",
     "text": [
      " Example: 52058 | CER: 0.8862 | WER: 1.0784:  66%|██████▋   | 1628/2453 [06:48<03:27,  3.99it/s]"
     ]
    },
    {
     "name": "stdout",
     "output_type": "stream",
     "text": [
      "[WARN]: ValueError with predicted  and label \n"
     ]
    },
    {
     "name": "stderr",
     "output_type": "stream",
     "text": [
      " Example: 52826 | CER: 0.8862 | WER: 1.0784:  67%|██████▋   | 1652/2453 [06:54<03:27,  3.87it/s]"
     ]
    },
    {
     "name": "stdout",
     "output_type": "stream",
     "text": [
      "[WARN]: ValueError with predicted أٰ أ أ أٰ أٰ أٰٰلٰ: and label   \n"
     ]
    },
    {
     "name": "stderr",
     "output_type": "stream",
     "text": [
      " Example: 53210 | CER: 0.8862 | WER: 1.0785:  68%|██████▊   | 1664/2453 [06:57<03:20,  3.93it/s]"
     ]
    },
    {
     "name": "stdout",
     "output_type": "stream",
     "text": [
      "[WARN]: ValueError with predicted أٰ أٰ  أ أٰ and label   \n"
     ]
    },
    {
     "name": "stderr",
     "output_type": "stream",
     "text": [
      " Example: 58746 | CER: 0.8862 | WER: 1.0786:  75%|███████▍  | 1837/2453 [07:41<02:38,  3.89it/s]"
     ]
    },
    {
     "name": "stdout",
     "output_type": "stream",
     "text": [
      "[WARN]: ValueError with predicted ۑٰ أٰ أٰ أٰ أٰ: and label   \n"
     ]
    },
    {
     "name": "stderr",
     "output_type": "stream",
     "text": [
      " Example: 64250 | CER: 0.8863 | WER: 1.0782:  82%|████████▏ | 2009/2453 [08:24<01:34,  4.68it/s]"
     ]
    },
    {
     "name": "stdout",
     "output_type": "stream",
     "text": [
      "[WARN]: ValueError with predicted أٰ أ أٰٰلٰ: and label   \n"
     ]
    },
    {
     "name": "stderr",
     "output_type": "stream",
     "text": [
      " Example: 64442 | CER: 0.8863 | WER: 1.0783:  82%|████████▏ | 2015/2453 [08:25<01:30,  4.82it/s]"
     ]
    },
    {
     "name": "stdout",
     "output_type": "stream",
     "text": [
      "[WARN]: ValueError with predicted ۑٰ أ أٰ أٰ  أٰلٰ: and label   \n"
     ]
    },
    {
     "name": "stderr",
     "output_type": "stream",
     "text": [
      " Example: 64890 | CER: 0.8863 | WER: 1.0783:  83%|████████▎ | 2029/2453 [08:28<01:46,  3.99it/s]"
     ]
    },
    {
     "name": "stdout",
     "output_type": "stream",
     "text": [
      "[WARN]: ValueError with predicted ۑٰٰمٰ أٰ أٰٰ أٰ ظٰمٰ أٰٰمٰ أٰٰ أٰٰ أٰ أٰمٰ and label      \n"
     ]
    },
    {
     "name": "stderr",
     "output_type": "stream",
     "text": [
      " Example: 67706 | CER: 0.8863 | WER: 1.0785:  86%|████████▋ | 2117/2453 [08:51<01:26,  3.90it/s]"
     ]
    },
    {
     "name": "stdout",
     "output_type": "stream",
     "text": [
      "[WARN]: ValueError with predicted أٰمٰ أٰ أ أٰٰ أٰ أٰ أٰ أٰ and label   \n"
     ]
    },
    {
     "name": "stderr",
     "output_type": "stream",
     "text": [
      " Example: 67738 | CER: 0.8863 | WER: 1.0784:  86%|████████▋ | 2118/2453 [08:52<01:26,  3.86it/s]"
     ]
    },
    {
     "name": "stdout",
     "output_type": "stream",
     "text": [
      "[WARN]: ValueError with predicted أٰ أٰ  أٰ أ: and label   \n"
     ]
    },
    {
     "name": "stderr",
     "output_type": "stream",
     "text": [
      " Example: 68281 | CER: 0.8863 | WER: 1.0785:  87%|████████▋ | 2135/2453 [08:56<01:23,  3.83it/s]"
     ]
    },
    {
     "name": "stdout",
     "output_type": "stream",
     "text": [
      "[WARN]: ValueError with predicted  and label \n"
     ]
    },
    {
     "name": "stderr",
     "output_type": "stream",
     "text": [
      " Example: 68920 | CER: 0.8863 | WER: 1.0786:  88%|████████▊ | 2155/2453 [09:01<01:10,  4.23it/s]"
     ]
    },
    {
     "name": "stdout",
     "output_type": "stream",
     "text": [
      "[WARN]: ValueError with predicted  and label \n"
     ]
    },
    {
     "name": "stderr",
     "output_type": "stream",
     "text": [
      " Example: 69784 | CER: 0.8863 | WER: 1.0785:  89%|████████▉ | 2182/2453 [09:07<00:59,  4.58it/s]"
     ]
    },
    {
     "name": "stdout",
     "output_type": "stream",
     "text": [
      "[WARN]: ValueError with predicted ۑٰٰمٰ أٰٰمٰ أٰ أٰٰمٰ أٰٰمٰ أٰٰ أٰٰ أٰٰ أٰمٰ and label    \n"
     ]
    },
    {
     "name": "stderr",
     "output_type": "stream",
     "text": [
      " Example: 70487 | CER: 0.8863 | WER: 1.0785:  90%|████████▉ | 2204/2453 [09:13<01:04,  3.85it/s]"
     ]
    },
    {
     "name": "stdout",
     "output_type": "stream",
     "text": [
      "[WARN]: ValueError with predicted  and label \n"
     ]
    },
    {
     "name": "stderr",
     "output_type": "stream",
     "text": [
      " Example: 70679 | CER: 0.8863 | WER: 1.0785:  90%|█████████ | 2210/2453 [09:14<01:01,  3.96it/s]"
     ]
    },
    {
     "name": "stdout",
     "output_type": "stream",
     "text": [
      "[WARN]: ValueError with predicted أٰ أٰ أٰٰلٰ: and label   \n"
     ]
    },
    {
     "name": "stderr",
     "output_type": "stream",
     "text": [
      " Example: 70775 | CER: 0.8863 | WER: 1.0786:  90%|█████████ | 2213/2453 [09:15<01:03,  3.81it/s]"
     ]
    },
    {
     "name": "stdout",
     "output_type": "stream",
     "text": [
      "[WARN]: ValueError with predicted أٰ أٰ أٰ  ٰلٰ: and label   \n"
     ]
    },
    {
     "name": "stderr",
     "output_type": "stream",
     "text": [
      " Example: 71895 | CER: 0.8863 | WER: 1.0785:  92%|█████████▏| 2248/2453 [09:24<00:49,  4.13it/s]"
     ]
    },
    {
     "name": "stdout",
     "output_type": "stream",
     "text": [
      "[WARN]: ValueError with predicted أٰ أٰ  أٰ أٰ: and label   \n"
     ]
    },
    {
     "name": "stderr",
     "output_type": "stream",
     "text": [
      " Example: 72694 | CER: 0.8863 | WER: 1.0784:  93%|█████████▎| 2273/2453 [09:29<00:43,  4.15it/s]"
     ]
    },
    {
     "name": "stdout",
     "output_type": "stream",
     "text": [
      "[WARN]: ValueError with predicted  and label \n"
     ]
    },
    {
     "name": "stderr",
     "output_type": "stream",
     "text": [
      " Example: 73141 | CER: 0.8863 | WER: 1.0785:  93%|█████████▎| 2287/2453 [09:33<00:41,  3.96it/s]"
     ]
    },
    {
     "name": "stdout",
     "output_type": "stream",
     "text": [
      "[WARN]: ValueError with predicted  and label \n"
     ]
    },
    {
     "name": "stderr",
     "output_type": "stream",
     "text": [
      " Example: 74485 | CER: 0.8863 | WER: 1.0786:  95%|█████████▍| 2329/2453 [09:44<00:31,  3.89it/s]"
     ]
    },
    {
     "name": "stdout",
     "output_type": "stream",
     "text": [
      "[WARN]: ValueError with predicted أٰمٰ أٰ أٰ  أٰٰ أٰ أٰ أٰ أٰ and label    \n"
     ]
    },
    {
     "name": "stderr",
     "output_type": "stream",
     "text": [
      " Example: 74708 | CER: 0.8863 | WER: 1.0786:  95%|█████████▌| 2336/2453 [09:47<00:34,  3.35it/s]"
     ]
    },
    {
     "name": "stdout",
     "output_type": "stream",
     "text": [
      "[WARN]: ValueError with predicted  and label \n"
     ]
    },
    {
     "name": "stderr",
     "output_type": "stream",
     "text": [
      " Example: 76595 | CER: 0.8863 | WER: 1.0786:  98%|█████████▊| 2395/2453 [10:01<00:14,  4.09it/s]"
     ]
    },
    {
     "name": "stdout",
     "output_type": "stream",
     "text": [
      "[WARN]: ValueError with predicted  and label \n"
     ]
    },
    {
     "name": "stderr",
     "output_type": "stream",
     "text": [
      " Example: 77074 | CER: 0.8863 | WER: 1.0786:  98%|█████████▊| 2410/2453 [10:05<00:11,  3.90it/s]"
     ]
    },
    {
     "name": "stdout",
     "output_type": "stream",
     "text": [
      "[WARN]: ValueError with predicted  and label \n"
     ]
    },
    {
     "name": "stderr",
     "output_type": "stream",
     "text": [
      " Example: 78193 | CER: 0.8863 | WER: 1.0784: 100%|█████████▉| 2445/2453 [10:14<00:02,  3.87it/s]"
     ]
    },
    {
     "name": "stdout",
     "output_type": "stream",
     "text": [
      "[WARN]: ValueError with predicted  and label \n"
     ]
    },
    {
     "name": "stderr",
     "output_type": "stream",
     "text": [
      " Example: 78420 | CER: 0.8863 | WER: 1.0784: 100%|██████████| 2453/2453 [10:16<00:00,  3.98it/s]\n"
     ]
    }
   ],
   "source": [
    "decoder = BestPathDecoder.from_path(model_path, CHAR_MAP)\n",
    "cers, wers = evaluate(decoder, dataloader, CHAR_MAP)"
   ]
  },
  {
   "cell_type": "code",
   "execution_count": 39,
   "metadata": {},
   "outputs": [
    {
     "data": {
      "image/png": "[encoded data removed]",
      "text/plain": [
       "<Figure size 1440x288 with 2 Axes>"
      ]
     },
     "metadata": {
      "needs_background": "light"
     },
     "output_type": "display_data"
    }
   ],
   "source": [
    "plot_cer_wer(cers, wers)"
   ]
  },
  {
   "cell_type": "code",
   "execution_count": null,
   "metadata": {
    "execution": {
     "iopub.execute_input": "2023-04-15T12:53:57.929872Z",
     "iopub.status.busy": "2023-04-15T12:53:57.929567Z",
     "iopub.status.idle": "2023-04-15T12:53:57.941449Z",
     "shell.execute_reply": "2023-04-15T12:53:57.941177Z"
    }
   },
   "outputs": [],
   "source": [
    "# decoder1 = CTCDecoder.from_path(model_path, CHAR_MAP)\n",
    "# decoder2 = BestPathDecoder.from_path(model_path, CHAR_MAP)\n",
    "# decoder3 = BeamSearchDecoder.from_path(model_path, CHAR_MAP, beam_width=100)"
   ]
  },
  {
   "cell_type": "code",
   "execution_count": null,
   "metadata": {
    "execution": {
     "iopub.execute_input": "2023-04-15T12:53:57.943654Z",
     "iopub.status.busy": "2023-04-15T12:53:57.943365Z",
     "iopub.status.idle": "2023-04-15T13:02:08.159059Z",
     "shell.execute_reply": "2023-04-15T13:02:08.159693Z"
    }
   },
   "outputs": [],
   "source": [
    "# cers, wers = evaluate(decoder1, dataloader, CHAR_MAP)"
   ]
  },
  {
   "cell_type": "code",
   "execution_count": null,
   "metadata": {
    "execution": {
     "iopub.execute_input": "2023-04-15T13:02:08.212435Z",
     "iopub.status.busy": "2023-04-15T13:02:08.187177Z",
     "iopub.status.idle": "2023-04-15T13:02:08.929981Z",
     "shell.execute_reply": "2023-04-15T13:02:08.930255Z"
    }
   },
   "outputs": [],
   "source": [
    "# plot_cer_wer(cers, wers)\n",
    "# del cers, wers"
   ]
  },
  {
   "cell_type": "code",
   "execution_count": null,
   "metadata": {
    "execution": {
     "iopub.execute_input": "2023-04-15T13:02:08.933292Z",
     "iopub.status.busy": "2023-04-15T13:02:08.933000Z",
     "iopub.status.idle": "2023-04-15T13:10:21.041866Z",
     "shell.execute_reply": "2023-04-15T13:10:21.042268Z"
    }
   },
   "outputs": [],
   "source": [
    "# cers, wers = evaluate(decoder2, dataloader, CHAR_MAP)"
   ]
  },
  {
   "cell_type": "code",
   "execution_count": null,
   "metadata": {
    "execution": {
     "iopub.execute_input": "2023-04-15T13:10:21.053424Z",
     "iopub.status.busy": "2023-04-15T13:10:21.047475Z",
     "iopub.status.idle": "2023-04-15T13:10:22.056939Z",
     "shell.execute_reply": "2023-04-15T13:10:22.057200Z"
    },
    "scrolled": true
   },
   "outputs": [],
   "source": [
    "# plot_cer_wer(cers, wers)\n",
    "# del cers, wers"
   ]
  },
  {
   "cell_type": "code",
   "execution_count": null,
   "metadata": {
    "execution": {
     "iopub.execute_input": "2023-04-15T13:10:22.059670Z",
     "iopub.status.busy": "2023-04-15T13:10:22.059380Z",
     "iopub.status.idle": "2023-04-15T13:10:22.061080Z",
     "shell.execute_reply": "2023-04-15T13:10:22.060818Z"
    }
   },
   "outputs": [],
   "source": [
    "# cers, wers = evaluate(decoder3, dataloader, CHAR_MAP)"
   ]
  },
  {
   "cell_type": "code",
   "execution_count": null,
   "metadata": {
    "execution": {
     "iopub.execute_input": "2023-04-15T13:10:22.062923Z",
     "iopub.status.busy": "2023-04-15T13:10:22.062632Z",
     "iopub.status.idle": "2023-04-15T13:10:22.063791Z",
     "shell.execute_reply": "2023-04-15T13:10:22.064025Z"
    }
   },
   "outputs": [],
   "source": [
    "# plot_cer_wer(cers, wers)\n",
    "# del cers, wers"
   ]
  },
  {
   "cell_type": "code",
   "execution_count": null,
   "metadata": {},
   "outputs": [],
   "source": []
  }
 ],
 "metadata": {
  "accelerator": "GPU",
  "colab": {
   "provenance": []
  },
  "gpuClass": "standard",
  "kernelspec": {
   "display_name": "Python 3 (ipykernel)",
   "language": "python",
   "name": "python3"
  },
  "language_info": {
   "codemirror_mode": {
    "name": "ipython",
    "version": 3
   },
   "file_extension": ".py",
   "mimetype": "text/x-python",
   "name": "python",
   "nbconvert_exporter": "python",
   "pygments_lexer": "ipython3",
   "version": "3.8.12"
  },
  "widgets": {
   "application/vnd.jupyter.widget-state+json": {
    "1c595935a60640a2ab3a3ae7f2f2537b": {
     "model_module": "@jupyter-widgets/controls",
     "model_module_version": "1.5.0",
     "model_name": "HBoxModel",
     "state": {
      "_dom_classes": [],
      "_model_module": "@jupyter-widgets/controls",
      "_model_module_version": "1.5.0",
      "_model_name": "HBoxModel",
      "_view_count": null,
      "_view_module": "@jupyter-widgets/controls",
      "_view_module_version": "1.5.0",
      "_view_name": "HBoxView",
      "box_style": "",
      "children": [
       "IPY_MODEL_a03dc406ccad4c72a9e2ee378c369f1a",
       "IPY_MODEL_cf6155ce6d1e466689881e22b3ab8284",
       "IPY_MODEL_3ab5f0dd68544bd29c9b3dfd30e7aee5"
      ],
      "layout": "IPY_MODEL_6162a3e989d44056b035dbdbe5b1b31d"
     }
    },
    "35dbcfeb91174e969f8eeb027dd7d324": {
     "model_module": "@jupyter-widgets/base",
     "model_module_version": "1.2.0",
     "model_name": "LayoutModel",
     "state": {
      "_model_module": "@jupyter-widgets/base",
      "_model_module_version": "1.2.0",
      "_model_name": "LayoutModel",
      "_view_count": null,
      "_view_module": "@jupyter-widgets/base",
      "_view_module_version": "1.2.0",
      "_view_name": "LayoutView",
      "align_content": null,
      "align_items": null,
      "align_self": null,
      "border": null,
      "bottom": null,
      "display": null,
      "flex": null,
      "flex_flow": null,
      "grid_area": null,
      "grid_auto_columns": null,
      "grid_auto_flow": null,
      "grid_auto_rows": null,
      "grid_column": null,
      "grid_gap": null,
      "grid_row": null,
      "grid_template_areas": null,
      "grid_template_columns": null,
      "grid_template_rows": null,
      "height": null,
      "justify_content": null,
      "justify_items": null,
      "left": null,
      "margin": null,
      "max_height": null,
      "max_width": null,
      "min_height": null,
      "min_width": null,
      "object_fit": null,
      "object_position": null,
      "order": null,
      "overflow": null,
      "overflow_x": null,
      "overflow_y": null,
      "padding": null,
      "right": null,
      "top": null,
      "visibility": null,
      "width": null
     }
    },
    "3a73484261e44213b8afba21285c49dd": {
     "model_module": "@jupyter-widgets/controls",
     "model_module_version": "1.5.0",
     "model_name": "ProgressStyleModel",
     "state": {
      "_model_module": "@jupyter-widgets/controls",
      "_model_module_version": "1.5.0",
      "_model_name": "ProgressStyleModel",
      "_view_count": null,
      "_view_module": "@jupyter-widgets/base",
      "_view_module_version": "1.2.0",
      "_view_name": "StyleView",
      "bar_color": null,
      "description_width": ""
     }
    },
    "3ab5f0dd68544bd29c9b3dfd30e7aee5": {
     "model_module": "@jupyter-widgets/controls",
     "model_module_version": "1.5.0",
     "model_name": "HTMLModel",
     "state": {
      "_dom_classes": [],
      "_model_module": "@jupyter-widgets/controls",
      "_model_module_version": "1.5.0",
      "_model_name": "HTMLModel",
      "_view_count": null,
      "_view_module": "@jupyter-widgets/controls",
      "_view_module_version": "1.5.0",
      "_view_name": "HTMLView",
      "description": "",
      "description_tooltip": null,
      "layout": "IPY_MODEL_d77f2a5d39b34ddfbc9848d1313f5c44",
      "placeholder": "​",
      "style": "IPY_MODEL_d62f599fc124462bb5d0926da3635201",
      "value": " 0/1530 [00:00&lt;?, ?it/s]"
     }
    },
    "6162a3e989d44056b035dbdbe5b1b31d": {
     "model_module": "@jupyter-widgets/base",
     "model_module_version": "1.2.0",
     "model_name": "LayoutModel",
     "state": {
      "_model_module": "@jupyter-widgets/base",
      "_model_module_version": "1.2.0",
      "_model_name": "LayoutModel",
      "_view_count": null,
      "_view_module": "@jupyter-widgets/base",
      "_view_module_version": "1.2.0",
      "_view_name": "LayoutView",
      "align_content": null,
      "align_items": null,
      "align_self": null,
      "border": null,
      "bottom": null,
      "display": null,
      "flex": null,
      "flex_flow": null,
      "grid_area": null,
      "grid_auto_columns": null,
      "grid_auto_flow": null,
      "grid_auto_rows": null,
      "grid_column": null,
      "grid_gap": null,
      "grid_row": null,
      "grid_template_areas": null,
      "grid_template_columns": null,
      "grid_template_rows": null,
      "height": null,
      "justify_content": null,
      "justify_items": null,
      "left": null,
      "margin": null,
      "max_height": null,
      "max_width": null,
      "min_height": null,
      "min_width": null,
      "object_fit": null,
      "object_position": null,
      "order": null,
      "overflow": null,
      "overflow_x": null,
      "overflow_y": null,
      "padding": null,
      "right": null,
      "top": null,
      "visibility": null,
      "width": null
     }
    },
    "82fee171da4c4e119bf8d91604915179": {
     "model_module": "@jupyter-widgets/base",
     "model_module_version": "1.2.0",
     "model_name": "LayoutModel",
     "state": {
      "_model_module": "@jupyter-widgets/base",
      "_model_module_version": "1.2.0",
      "_model_name": "LayoutModel",
      "_view_count": null,
      "_view_module": "@jupyter-widgets/base",
      "_view_module_version": "1.2.0",
      "_view_name": "LayoutView",
      "align_content": null,
      "align_items": null,
      "align_self": null,
      "border": null,
      "bottom": null,
      "display": null,
      "flex": null,
      "flex_flow": null,
      "grid_area": null,
      "grid_auto_columns": null,
      "grid_auto_flow": null,
      "grid_auto_rows": null,
      "grid_column": null,
      "grid_gap": null,
      "grid_row": null,
      "grid_template_areas": null,
      "grid_template_columns": null,
      "grid_template_rows": null,
      "height": null,
      "justify_content": null,
      "justify_items": null,
      "left": null,
      "margin": null,
      "max_height": null,
      "max_width": null,
      "min_height": null,
      "min_width": null,
      "object_fit": null,
      "object_position": null,
      "order": null,
      "overflow": null,
      "overflow_x": null,
      "overflow_y": null,
      "padding": null,
      "right": null,
      "top": null,
      "visibility": null,
      "width": null
     }
    },
    "a03dc406ccad4c72a9e2ee378c369f1a": {
     "model_module": "@jupyter-widgets/controls",
     "model_module_version": "1.5.0",
     "model_name": "HTMLModel",
     "state": {
      "_dom_classes": [],
      "_model_module": "@jupyter-widgets/controls",
      "_model_module_version": "1.5.0",
      "_model_name": "HTMLModel",
      "_view_count": null,
      "_view_module": "@jupyter-widgets/controls",
      "_view_module_version": "1.5.0",
      "_view_name": "HTMLView",
      "description": "",
      "description_tooltip": null,
      "layout": "IPY_MODEL_82fee171da4c4e119bf8d91604915179",
      "placeholder": "​",
      "style": "IPY_MODEL_e331cfbba3c341f193902668a5802b29",
      "value": "  0%"
     }
    },
    "cf6155ce6d1e466689881e22b3ab8284": {
     "model_module": "@jupyter-widgets/controls",
     "model_module_version": "1.5.0",
     "model_name": "FloatProgressModel",
     "state": {
      "_dom_classes": [],
      "_model_module": "@jupyter-widgets/controls",
      "_model_module_version": "1.5.0",
      "_model_name": "FloatProgressModel",
      "_view_count": null,
      "_view_module": "@jupyter-widgets/controls",
      "_view_module_version": "1.5.0",
      "_view_name": "ProgressView",
      "bar_style": "",
      "description": "",
      "description_tooltip": null,
      "layout": "IPY_MODEL_35dbcfeb91174e969f8eeb027dd7d324",
      "max": 1530,
      "min": 0,
      "orientation": "horizontal",
      "style": "IPY_MODEL_3a73484261e44213b8afba21285c49dd",
      "value": 0
     }
    },
    "d62f599fc124462bb5d0926da3635201": {
     "model_module": "@jupyter-widgets/controls",
     "model_module_version": "1.5.0",
     "model_name": "DescriptionStyleModel",
     "state": {
      "_model_module": "@jupyter-widgets/controls",
      "_model_module_version": "1.5.0",
      "_model_name": "DescriptionStyleModel",
      "_view_count": null,
      "_view_module": "@jupyter-widgets/base",
      "_view_module_version": "1.2.0",
      "_view_name": "StyleView",
      "description_width": ""
     }
    },
    "d77f2a5d39b34ddfbc9848d1313f5c44": {
     "model_module": "@jupyter-widgets/base",
     "model_module_version": "1.2.0",
     "model_name": "LayoutModel",
     "state": {
      "_model_module": "@jupyter-widgets/base",
      "_model_module_version": "1.2.0",
      "_model_name": "LayoutModel",
      "_view_count": null,
      "_view_module": "@jupyter-widgets/base",
      "_view_module_version": "1.2.0",
      "_view_name": "LayoutView",
      "align_content": null,
      "align_items": null,
      "align_self": null,
      "border": null,
      "bottom": null,
      "display": null,
      "flex": null,
      "flex_flow": null,
      "grid_area": null,
      "grid_auto_columns": null,
      "grid_auto_flow": null,
      "grid_auto_rows": null,
      "grid_column": null,
      "grid_gap": null,
      "grid_row": null,
      "grid_template_areas": null,
      "grid_template_columns": null,
      "grid_template_rows": null,
      "height": null,
      "justify_content": null,
      "justify_items": null,
      "left": null,
      "margin": null,
      "max_height": null,
      "max_width": null,
      "min_height": null,
      "min_width": null,
      "object_fit": null,
      "object_position": null,
      "order": null,
      "overflow": null,
      "overflow_x": null,
      "overflow_y": null,
      "padding": null,
      "right": null,
      "top": null,
      "visibility": null,
      "width": null
     }
    },
    "e331cfbba3c341f193902668a5802b29": {
     "model_module": "@jupyter-widgets/controls",
     "model_module_version": "1.5.0",
     "model_name": "DescriptionStyleModel",
     "state": {
      "_model_module": "@jupyter-widgets/controls",
      "_model_module_version": "1.5.0",
      "_model_name": "DescriptionStyleModel",
      "_view_count": null,
      "_view_module": "@jupyter-widgets/base",
      "_view_module_version": "1.2.0",
      "_view_name": "StyleView",
      "description_width": ""
     }
    }
   }
  }
 },
 "nbformat": 4,
 "nbformat_minor": 1
}
