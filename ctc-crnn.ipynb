{
 "cells": [
  {
   "cell_type": "code",
   "execution_count": 1,
   "metadata": {
    "execution": {
     "iopub.execute_input": "2023-05-02T20:12:48.286059Z",
     "iopub.status.busy": "2023-05-02T20:12:48.280263Z",
     "iopub.status.idle": "2023-05-02T20:12:53.047594Z",
     "shell.execute_reply": "2023-05-02T20:12:53.047937Z"
    }
   },
   "outputs": [
    {
     "name": "stdout",
     "output_type": "stream",
     "text": [
      "Looking in indexes: https://pypi.org/simple, https://pypi.ngc.nvidia.com\n",
      "Collecting git+https://github.com/githubharald/CTCDecoder.git\n",
      "  Cloning https://github.com/githubharald/CTCDecoder.git to /tmp/pip-req-build-sy3qrcf0\n",
      "  Running command git clone -q https://github.com/githubharald/CTCDecoder.git /tmp/pip-req-build-sy3qrcf0\n",
      "  Resolved https://github.com/githubharald/CTCDecoder.git to commit 6b5c3dd34944e5399a7308e241319b7f9c47e7c3\n",
      "Requirement already satisfied: jiwer in /opt/conda/lib/python3.8/site-packages (3.0.1)\n",
      "Requirement already satisfied: python-bidi in /opt/conda/lib/python3.8/site-packages (0.4.2)\n",
      "Requirement already satisfied: arabic-reshaper in /opt/conda/lib/python3.8/site-packages (3.0.0)\n",
      "Requirement already satisfied: editdistance in /opt/conda/lib/python3.8/site-packages (from ctc-decoder==1.0.1) (0.5.3)\n",
      "Requirement already satisfied: numpy in /opt/conda/lib/python3.8/site-packages (from ctc-decoder==1.0.1) (1.24.1)\n",
      "Requirement already satisfied: click<9.0.0,>=8.1.3 in /opt/conda/lib/python3.8/site-packages (from jiwer) (8.1.3)\n",
      "Requirement already satisfied: rapidfuzz==2.13.7 in /opt/conda/lib/python3.8/site-packages (from jiwer) (2.13.7)\n",
      "Requirement already satisfied: six in /opt/conda/lib/python3.8/site-packages (from python-bidi) (1.15.0)\n",
      "\u001b[33mWARNING: Running pip as the 'root' user can result in broken permissions and conflicting behaviour with the system package manager. It is recommended to use a virtual environment instead: https://pip.pypa.io/warnings/venv\u001b[0m\n"
     ]
    }
   ],
   "source": [
    "!pip install git+https://github.com/githubharald/CTCDecoder.git jiwer python-bidi arabic-reshaper"
   ]
  },
  {
   "cell_type": "code",
   "execution_count": 2,
   "metadata": {
    "execution": {
     "iopub.execute_input": "2023-05-02T20:12:53.052234Z",
     "iopub.status.busy": "2023-05-02T20:12:53.051842Z",
     "iopub.status.idle": "2023-05-02T20:12:53.053478Z",
     "shell.execute_reply": "2023-05-02T20:12:53.053772Z"
    }
   },
   "outputs": [],
   "source": [
    "# Memilih GPU yang akan digunakan (contohnya: GPU #7)\n",
    "import os\n",
    "os.environ['CUDA_VISIBLE_DEVICES'] = '2'"
   ]
  },
  {
   "cell_type": "code",
   "execution_count": 3,
   "metadata": {
    "execution": {
     "iopub.execute_input": "2023-05-02T20:12:55.175424Z",
     "iopub.status.busy": "2023-05-02T20:12:55.174978Z",
     "iopub.status.idle": "2023-05-02T20:12:55.177023Z",
     "shell.execute_reply": "2023-05-02T20:12:55.177348Z"
    }
   },
   "outputs": [],
   "source": [
    "model_name = 'ctc-crnn'"
   ]
  },
  {
   "cell_type": "code",
   "execution_count": 4,
   "metadata": {
    "execution": {
     "iopub.execute_input": "2023-05-02T20:12:53.057022Z",
     "iopub.status.busy": "2023-05-02T20:12:53.056623Z",
     "iopub.status.idle": "2023-05-02T20:12:53.058386Z",
     "shell.execute_reply": "2023-05-02T20:12:53.058056Z"
    },
    "executionInfo": {
     "elapsed": 43,
     "status": "ok",
     "timestamp": 1679405033129,
     "user": {
      "displayName": "Beltsazar Sotardodo",
      "userId": "00799609405676889858"
     },
     "user_tz": -420
    },
    "id": "VZaaS_sC6DA9"
   },
   "outputs": [],
   "source": [
    "import importlib\n",
    "import pegon_utils\n",
    "importlib.reload(pegon_utils)\n",
    "from pegon_utils import PEGON_CHARS, CHAR_MAP"
   ]
  },
  {
   "cell_type": "code",
   "execution_count": 5,
   "metadata": {
    "execution": {
     "iopub.execute_input": "2023-05-02T20:12:53.061094Z",
     "iopub.status.busy": "2023-05-02T20:12:53.060737Z",
     "iopub.status.idle": "2023-05-02T20:12:53.062474Z",
     "shell.execute_reply": "2023-05-02T20:12:53.062103Z"
    }
   },
   "outputs": [],
   "source": [
    "for i in CHAR_MAP.keys():\n",
    "    try:\n",
    "        assert len(i) == 1\n",
    "    except AssertionError:\n",
    "        print(i)\n",
    "        raise"
   ]
  },
  {
   "cell_type": "code",
   "execution_count": 6,
   "metadata": {
    "execution": {
     "iopub.execute_input": "2023-05-02T20:12:53.066300Z",
     "iopub.status.busy": "2023-05-02T20:12:53.065918Z",
     "iopub.status.idle": "2023-05-02T20:12:55.171549Z",
     "shell.execute_reply": "2023-05-02T20:12:55.171936Z"
    }
   },
   "outputs": [],
   "source": [
    "import torch\n",
    "import torch.nn as nn\n",
    "import torch.nn.functional as F\n",
    "import torch.nn.utils as utils\n",
    "import torch.optim as optim\n",
    "from torch.utils.data import DataLoader, Dataset\n",
    "from torchvision.transforms import transforms\n",
    "\n",
    "from PIL import Image\n",
    "\n",
    "import json\n",
    "import os\n",
    "import glob\n",
    "import re\n",
    "import datetime\n",
    "import shutil\n",
    "import pickle\n",
    "import unicodedata\n",
    "\n",
    "from functools import partial\n",
    "\n",
    "from tqdm import tqdm\n",
    "import matplotlib.pyplot as plt\n",
    "\n",
    "import numpy as np\n",
    "import random\n",
    "\n",
    "import matplotlib.pyplot as plt\n",
    "\n",
    "seed = 2023\n",
    "torch.manual_seed(seed)\n",
    "np.random.seed(seed)\n",
    "random.seed(seed)"
   ]
  },
  {
   "cell_type": "code",
   "execution_count": 7,
   "metadata": {
    "execution": {
     "iopub.execute_input": "2023-05-02T20:12:55.180008Z",
     "iopub.status.busy": "2023-05-02T20:12:55.179577Z",
     "iopub.status.idle": "2023-05-02T20:12:55.181598Z",
     "shell.execute_reply": "2023-05-02T20:12:55.182032Z"
    }
   },
   "outputs": [],
   "source": [
    "os.makedirs(model_name, exist_ok=True)"
   ]
  },
  {
   "cell_type": "code",
   "execution_count": 8,
   "metadata": {
    "execution": {
     "iopub.execute_input": "2023-05-02T20:12:55.209123Z",
     "iopub.status.busy": "2023-05-02T20:12:55.208670Z",
     "iopub.status.idle": "2023-05-02T20:12:55.284041Z",
     "shell.execute_reply": "2023-05-02T20:12:55.284345Z"
    }
   },
   "outputs": [],
   "source": [
    "importlib.reload(pegon_utils)\n",
    "from pegon_utils import OCRDataset, QuranAnnotatedDataset\n",
    "from torch.utils.data import random_split, ConcatDataset\n",
    "\n",
    "pegon_synth_dataset = OCRDataset().load('/workspace/Dataset/Synthesized-split/metadata.json')\n",
    "\n",
    "pegon_synth_dataset.char_map = CHAR_MAP\n",
    "\n",
    "dataset_transforms = transforms.Compose([\n",
    "    transforms.Grayscale(num_output_channels=1),\n",
    "    transforms.Resize((pegon_synth_dataset.avg_img_h,\n",
    "                       pegon_synth_dataset.avg_img_w)),\n",
    "    transforms.RandomHorizontalFlip(p=1),\n",
    "    transforms.ToTensor(),\n",
    "])\n",
    "\n",
    "pegon_synth_dataset.transform = dataset_transforms\n",
    "\n",
    "train_synth_dataset, val_synth_dataset = random_split(pegon_synth_dataset,\n",
    "                                                      lengths=[round(len(pegon_synth_dataset) * frac) for frac in [0.7, 0.3]])\n",
    "\n",
    "# quran_train_dataset = QuranAnnotatedDataset('/workspace/Dataset/Quran data set/dicriticText/traning',\n",
    "#                       image_transform=dataset_transforms)\n",
    "# quran_test_dataset = QuranAnnotatedDataset('/workspace/Dataset/Quran data set/dicriticText/test',\n",
    "#                       image_transform=dataset_transforms)\n",
    "\n",
    "train_dataset = ConcatDataset((train_synth_dataset,))\n",
    "                               # quran_train_dataset))\n",
    "val_dataset = ConcatDataset((val_synth_dataset,))\n",
    "                                # quran_test_dataset))"
   ]
  },
  {
   "cell_type": "code",
   "execution_count": 9,
   "metadata": {
    "execution": {
     "iopub.execute_input": "2023-05-02T20:12:55.451308Z",
     "iopub.status.busy": "2023-05-02T20:12:55.450793Z",
     "iopub.status.idle": "2023-05-02T20:12:55.452877Z",
     "shell.execute_reply": "2023-05-02T20:12:55.453329Z"
    }
   },
   "outputs": [],
   "source": [
    "assert pegon_synth_dataset.char_map == CHAR_MAP"
   ]
  },
  {
   "cell_type": "code",
   "execution_count": 10,
   "metadata": {
    "execution": {
     "iopub.execute_input": "2023-05-02T20:12:55.189592Z",
     "iopub.status.busy": "2023-05-02T20:12:55.189127Z",
     "iopub.status.idle": "2023-05-02T20:12:55.191505Z",
     "shell.execute_reply": "2023-05-02T20:12:55.191847Z"
    },
    "executionInfo": {
     "elapsed": 3900,
     "status": "ok",
     "timestamp": 1679405037002,
     "user": {
      "displayName": "Beltsazar Sotardodo",
      "userId": "00799609405676889858"
     },
     "user_tz": -420
    },
    "id": "XztSoslZDnpo"
   },
   "outputs": [],
   "source": [
    "# Define the OCR model architecture\n",
    "class CTCCRNN(nn.Module):\n",
    "    def __init__(self, num_classes, image_height, image_width,\n",
    "                 model_output_len, dropout_rate, conv_channels,\n",
    "                 lstm_sizes):\n",
    "        super().__init__()\n",
    "\n",
    "        self.model_output_len = model_output_len\n",
    "        self.image_height = image_height\n",
    "        self.image_width = image_width\n",
    "        self.conv_channels = conv_channels\n",
    "\n",
    "        # CNN part, downsampling 2 times\n",
    "        self.conv1 = nn.Conv2d(in_channels=1,\n",
    "                               out_channels=conv_channels[0],\n",
    "                               kernel_size=3, padding=1)\n",
    "        self.pool1 = nn.MaxPool2d(kernel_size=2, stride=2)\n",
    "\n",
    "        self.conv2 = nn.Conv2d(in_channels=conv_channels[0],\n",
    "                               out_channels=conv_channels[1],\n",
    "                               kernel_size=3, padding=1)\n",
    "        self.pool2 = nn.MaxPool2d(kernel_size=2, stride=2)\n",
    "\n",
    "        # first dense\n",
    "        self.fc1 = nn.Linear(in_features=conv_channels[1] * (self.image_height//4),\n",
    "                             out_features=conv_channels[1])\n",
    "        self.dropout = nn.Dropout(dropout_rate)\n",
    "\n",
    "        # RNN part\n",
    "        self.lstm1 = nn.LSTM(input_size=conv_channels[1], hidden_size=lstm_sizes[0],\n",
    "                             bidirectional=True, batch_first=True)\n",
    "        self.lstm2 = nn.LSTM(input_size=lstm_sizes[0]*2, hidden_size=lstm_sizes[1],\n",
    "                             bidirectional=True, batch_first=True)\n",
    "\n",
    "        self.fc2 = nn.Linear(in_features=2*lstm_sizes[1], out_features=num_classes)\n",
    "\n",
    "    def forward(self, x):\n",
    "        x = self.conv1(x)\n",
    "        x = F.relu(x)\n",
    "\n",
    "        x = self.pool1(x)\n",
    "\n",
    "        x = self.conv2(x)\n",
    "        x = F.relu(x)\n",
    "\n",
    "        x = self.pool2(x)\n",
    "        \n",
    "        x = F.interpolate(x, size=(self.image_height//4, self.model_output_len),\n",
    "                          mode='bilinear', align_corners=False)\n",
    "        \n",
    "        x = x.permute(0, 3, 1, 2).reshape(x.shape[0],\n",
    "                                          x.shape[3],\n",
    "                                          x.shape[1] * x.shape[2])\n",
    "        x = self.fc1(x)\n",
    "        x = self.dropout(x)\n",
    "    \n",
    "        x, _ = self.lstm1(x)\n",
    "        x, _ = self.lstm2(x)\n",
    "        x = self.fc2(x)\n",
    "        x = x.log_softmax(2)\n",
    "        return x"
   ]
  },
  {
   "cell_type": "code",
   "execution_count": 11,
   "metadata": {},
   "outputs": [],
   "source": [
    "importlib.reload(pegon_utils)\n",
    "from pegon_utils import model_length\n",
    "\n",
    "model = CTCCRNN(num_classes=len(CHAR_MAP),\n",
    "                 image_height=pegon_synth_dataset.avg_img_h,\n",
    "                 image_width=pegon_synth_dataset.avg_img_w,\n",
    "                 model_output_len=model_length(b=2,c=100)(pegon_synth_dataset.max_seq_len),\n",
    "                 dropout_rate=0,\n",
    "                 conv_channels=[16, 16],\n",
    "                 lstm_sizes=[256, 128])"
   ]
  },
  {
   "cell_type": "code",
   "execution_count": 12,
   "metadata": {
    "colab": {
     "base_uri": "https://localhost:8080/",
     "height": 49,
     "referenced_widgets": [
      "1c595935a60640a2ab3a3ae7f2f2537b",
      "a03dc406ccad4c72a9e2ee378c369f1a",
      "cf6155ce6d1e466689881e22b3ab8284",
      "3ab5f0dd68544bd29c9b3dfd30e7aee5",
      "6162a3e989d44056b035dbdbe5b1b31d",
      "82fee171da4c4e119bf8d91604915179",
      "e331cfbba3c341f193902668a5802b29",
      "35dbcfeb91174e969f8eeb027dd7d324",
      "3a73484261e44213b8afba21285c49dd",
      "d77f2a5d39b34ddfbc9848d1313f5c44",
      "d62f599fc124462bb5d0926da3635201"
     ]
    },
    "execution": {
     "iopub.execute_input": "2023-05-02T20:12:55.664029Z",
     "iopub.status.busy": "2023-05-02T20:12:55.663451Z",
     "iopub.status.idle": "2023-05-02T20:13:00.130452Z",
     "shell.execute_reply": "2023-05-02T20:13:00.130939Z"
    },
    "id": "Ab7o0llsuM89",
    "outputId": "aafa4e88-3369-46aa-9517-3fdefed7d962"
   },
   "outputs": [],
   "source": [
    "importlib.reload(pegon_utils)\n",
    "from pegon_utils import CTCTrainer, FocalCTCLoss\n",
    "\n",
    "# Train the model\n",
    "trainer = CTCTrainer(model=model,\n",
    "                     max_norm=None,\n",
    "#                      lr=1e-3,\n",
    "                     optimizer=optim.AdamW(model.parameters(), lr=1e-3),\n",
    "                     batch_size=4,\n",
    "                     num_workers=2,\n",
    "#                      criterion=FocalCTCLoss(zero_infinity=True,\n",
    "#                                             alpha=0.5,\n",
    "#                                             gamma=2),\n",
    "                     dataset=train_dataset)"
   ]
  },
  {
   "cell_type": "code",
   "execution_count": 13,
   "metadata": {
    "execution": {
     "iopub.execute_input": "2023-05-02T20:13:00.146127Z",
     "iopub.status.busy": "2023-05-02T20:13:00.144419Z",
     "iopub.status.idle": "2023-05-02T20:13:00.149136Z",
     "shell.execute_reply": "2023-05-02T20:13:00.148747Z"
    }
   },
   "outputs": [],
   "source": [
    "assert trainer.model(train_dataset[0][0].unsqueeze(0).to(trainer.device)).shape[-1] == len(CHAR_MAP)"
   ]
  },
  {
   "cell_type": "code",
   "execution_count": 14,
   "metadata": {
    "execution": {
     "iopub.execute_input": "2023-05-02T20:13:00.151937Z",
     "iopub.status.busy": "2023-05-02T20:13:00.151510Z",
     "iopub.status.idle": "2023-05-02T20:13:00.154171Z",
     "shell.execute_reply": "2023-05-02T20:13:00.154500Z"
    },
    "executionInfo": {
     "elapsed": 69,
     "status": "ok",
     "timestamp": 1679405037011,
     "user": {
      "displayName": "Beltsazar Sotardodo",
      "userId": "00799609405676889858"
     },
     "user_tz": -420
    },
    "id": "3zpD16P7rRHh"
   },
   "outputs": [
    {
     "name": "stdout",
     "output_type": "stream",
     "text": [
      "2023-05-19 00:00:41.715324\n"
     ]
    }
   ],
   "source": [
    "timestamp = datetime.datetime.now()\n",
    "print(timestamp)"
   ]
  },
  {
   "cell_type": "code",
   "execution_count": null,
   "metadata": {
    "execution": {
     "iopub.execute_input": "2023-05-02T20:13:00.159884Z",
     "iopub.status.busy": "2023-05-02T20:13:00.155961Z",
     "iopub.status.idle": "2023-05-02T20:13:00.169699Z",
     "shell.execute_reply": "2023-05-02T20:13:00.169325Z"
    },
    "id": "e9pHFnaHojID",
    "scrolled": false
   },
   "outputs": [
    {
     "name": "stderr",
     "output_type": "stream",
     "text": [
      "Epoch [1/10] | Batch [13732/13732] | Running Loss: 54576.4899: 100%|██████████| 13732/13732 [22:59<00:00,  9.95it/s] \n",
      "Epoch [2/10] | Batch [13732/13732] | Running Loss: 62836.0411: 100%|██████████| 13732/13732 [22:30<00:00, 10.17it/s] \n",
      "Epoch [3/10] | Batch [6760/13732] | Running Loss: 26561.0908:  49%|████▉     | 6760/13732 [10:54<13:23,  8.68it/s]"
     ]
    }
   ],
   "source": [
    "trainer.train(num_epochs=10)"
   ]
  },
  {
   "cell_type": "code",
   "execution_count": null,
   "metadata": {
    "execution": {
     "iopub.execute_input": "2023-05-02T20:13:00.181325Z",
     "iopub.status.busy": "2023-05-02T20:13:00.171123Z",
     "iopub.status.idle": "2023-05-02T20:13:00.185207Z",
     "shell.execute_reply": "2023-05-02T20:13:00.184829Z"
    }
   },
   "outputs": [],
   "source": [
    "trainer.plot_history(path=f'{model_name}/{timestamp}.train.png')\n",
    "trainer.save(f'{model_name}/{timestamp}.pt')"
   ]
  },
  {
   "cell_type": "code",
   "execution_count": null,
   "metadata": {
    "execution": {
     "iopub.execute_input": "2023-05-02T20:13:00.190884Z",
     "iopub.status.busy": "2023-05-02T20:13:00.186633Z",
     "iopub.status.idle": "2023-05-02T20:13:00.192958Z",
     "shell.execute_reply": "2023-05-02T20:13:00.192587Z"
    }
   },
   "outputs": [],
   "source": [
    "importlib.reload(pegon_utils)\n",
    "from pegon_utils import CTCDecoder, BestPathDecoder, evaluate, plot_cer_wer"
   ]
  },
  {
   "cell_type": "code",
   "execution_count": null,
   "metadata": {
    "execution": {
     "iopub.execute_input": "2023-05-02T20:13:00.246347Z",
     "iopub.status.busy": "2023-05-02T20:13:00.236061Z",
     "iopub.status.idle": "2023-05-02T20:13:00.250956Z",
     "shell.execute_reply": "2023-05-02T20:13:00.250576Z"
    }
   },
   "outputs": [],
   "source": [
    "# dataloader = trainer.dataloader\n",
    "dataloader = DataLoader(val_dataset,\n",
    "                        batch_size=trainer.batch_size,\n",
    "                        num_workers=trainer.num_workers,\n",
    "                        shuffle=True,\n",
    "                        collate_fn=trainer.collate_fn)"
   ]
  },
  {
   "cell_type": "code",
   "execution_count": null,
   "metadata": {
    "execution": {
     "iopub.execute_input": "2023-05-02T20:13:00.253275Z",
     "iopub.status.busy": "2023-05-02T20:13:00.252355Z",
     "iopub.status.idle": "2023-05-02T20:13:00.255565Z",
     "shell.execute_reply": "2023-05-02T20:13:00.255235Z"
    }
   },
   "outputs": [],
   "source": [
    "# timestamp = '2023-05-02 15:56:58.754379'\n",
    "# timestamp = '2023-05-02 20:53:48.971202'\n",
    "model_path = f'{model_name}/{timestamp}.pt'"
   ]
  },
  {
   "cell_type": "code",
   "execution_count": null,
   "metadata": {
    "execution": {
     "iopub.execute_input": "2023-05-02T20:13:00.261992Z",
     "iopub.status.busy": "2023-05-02T20:13:00.256974Z",
     "iopub.status.idle": "2023-05-02T20:13:00.369686Z",
     "shell.execute_reply": "2023-05-02T20:13:00.369293Z"
    },
    "scrolled": true
   },
   "outputs": [],
   "source": [
    "decoder = BestPathDecoder.from_path(model_path, CHAR_MAP, blank_char=PEGON_CHARS[0])\n",
    "cers, wers = evaluate(decoder, dataloader)"
   ]
  },
  {
   "cell_type": "code",
   "execution_count": null,
   "metadata": {
    "execution": {
     "iopub.execute_input": "2023-05-02T20:13:00.375948Z",
     "iopub.status.busy": "2023-05-02T20:13:00.371579Z",
     "iopub.status.idle": "2023-05-02T20:13:00.387054Z",
     "shell.execute_reply": "2023-05-02T20:13:00.386732Z"
    }
   },
   "outputs": [],
   "source": [
    "plot_cer_wer(cers, wers, path=f'{model_name}/{timestamp}.wer-cer.png')"
   ]
  },
  {
   "cell_type": "code",
   "execution_count": null,
   "metadata": {
    "scrolled": false
   },
   "outputs": [],
   "source": [
    "# demo\n",
    "\n",
    "import arabic_reshaper\n",
    "from bidi.algorithm import get_display\n",
    "\n",
    "to_arabic_display = lambda text: get_display(text)\n",
    "img, label = random.choice(val_dataset)\n",
    "img, _, _ = dataloader.collate_fn([[img, label]])\n",
    "\n",
    "gt = (''.join([PEGON_CHARS[l] for l in filter(lambda x:x!= 0, label)]))\n",
    "\n",
    "predicted = decoder.infer(img.cuda())[0]\n",
    "\n",
    "tensor_to_display = lambda x : transforms.ToPILImage()(transforms.RandomHorizontalFlip(p=1)(x))\n",
    "\n",
    "plt.imshow(tensor_to_display(img[0]), cmap='gray'); plt.title(f'predicted = {to_arabic_display(predicted)}\\nground truth = {to_arabic_display(gt)}'); plt.show()"
   ]
  },
  {
   "cell_type": "code",
   "execution_count": null,
   "metadata": {},
   "outputs": [],
   "source": [
    "import importlib\n",
    "import pegon_utils\n",
    "importlib.reload(pegon_utils)\n",
    "from pegon_utils import FilenameOCRDataset, PegonAnnotatedDataset, ctc_collate_fn\n",
    "import pdb\n",
    "\n",
    "annotated_dataset = PegonAnnotatedDataset('/workspace/Dataset/pegon-ocr-patched',\n",
    "                                          image_transform=dataset_transforms)\n",
    "\n",
    "annotated_dataloader = DataLoader(annotated_dataset, shuffle=True,\n",
    "                                  batch_size=trainer.batch_size,\n",
    "                                  num_workers=trainer.num_workers,\n",
    "                                  collate_fn=ctc_collate_fn)\n",
    "cers, wers = evaluate(decoder, annotated_dataloader)"
   ]
  },
  {
   "cell_type": "code",
   "execution_count": null,
   "metadata": {},
   "outputs": [],
   "source": [
    "plot_cer_wer(cers, wers, path=f'{model_name}/{timestamp}.eval.wer-cer.png')"
   ]
  },
  {
   "cell_type": "code",
   "execution_count": null,
   "metadata": {},
   "outputs": [],
   "source": [
    "# demo\n",
    "\n",
    "import arabic_reshaper\n",
    "from bidi.algorithm import get_display\n",
    "\n",
    "to_arabic_display = lambda text: get_display(arabic_reshaper.reshape(text))\n",
    "img, label, _ = dataloader.collate_fn([random.choice(annotated_dataset)])\n",
    "\n",
    "predicted = decoder.infer(img.cuda())[0]\n",
    "\n",
    "tensor_to_display = lambda x : transforms.ToPILImage()(transforms.RandomHorizontalFlip(p=1)(x))\n",
    "\n",
    "plt.imshow(tensor_to_display(img[0]),cmap='gray'); plt.title(f'predicted = {to_arabic_display(predicted)}'); plt.show()"
   ]
  },
  {
   "cell_type": "code",
   "execution_count": null,
   "metadata": {},
   "outputs": [],
   "source": []
  }
 ],
 "metadata": {
  "accelerator": "GPU",
  "colab": {
   "provenance": []
  },
  "gpuClass": "standard",
  "kernelspec": {
   "display_name": "Python 3 (ipykernel)",
   "language": "python",
   "name": "python3"
  },
  "language_info": {
   "codemirror_mode": {
    "name": "ipython",
    "version": 3
   },
   "file_extension": ".py",
   "mimetype": "text/x-python",
   "name": "python",
   "nbconvert_exporter": "python",
   "pygments_lexer": "ipython3",
   "version": "3.8.12"
  },
  "widgets": {
   "application/vnd.jupyter.widget-state+json": {
    "1c595935a60640a2ab3a3ae7f2f2537b": {
     "model_module": "@jupyter-widgets/controls",
     "model_module_version": "1.5.0",
     "model_name": "HBoxModel",
     "state": {
      "_dom_classes": [],
      "_model_module": "@jupyter-widgets/controls",
      "_model_module_version": "1.5.0",
      "_model_name": "HBoxModel",
      "_view_count": null,
      "_view_module": "@jupyter-widgets/controls",
      "_view_module_version": "1.5.0",
      "_view_name": "HBoxView",
      "box_style": "",
      "children": [
       "IPY_MODEL_a03dc406ccad4c72a9e2ee378c369f1a",
       "IPY_MODEL_cf6155ce6d1e466689881e22b3ab8284",
       "IPY_MODEL_3ab5f0dd68544bd29c9b3dfd30e7aee5"
      ],
      "layout": "IPY_MODEL_6162a3e989d44056b035dbdbe5b1b31d"
     }
    },
    "35dbcfeb91174e969f8eeb027dd7d324": {
     "model_module": "@jupyter-widgets/base",
     "model_module_version": "1.2.0",
     "model_name": "LayoutModel",
     "state": {
      "_model_module": "@jupyter-widgets/base",
      "_model_module_version": "1.2.0",
      "_model_name": "LayoutModel",
      "_view_count": null,
      "_view_module": "@jupyter-widgets/base",
      "_view_module_version": "1.2.0",
      "_view_name": "LayoutView",
      "align_content": null,
      "align_items": null,
      "align_self": null,
      "border": null,
      "bottom": null,
      "display": null,
      "flex": null,
      "flex_flow": null,
      "grid_area": null,
      "grid_auto_columns": null,
      "grid_auto_flow": null,
      "grid_auto_rows": null,
      "grid_column": null,
      "grid_gap": null,
      "grid_row": null,
      "grid_template_areas": null,
      "grid_template_columns": null,
      "grid_template_rows": null,
      "height": null,
      "justify_content": null,
      "justify_items": null,
      "left": null,
      "margin": null,
      "max_height": null,
      "max_width": null,
      "min_height": null,
      "min_width": null,
      "object_fit": null,
      "object_position": null,
      "order": null,
      "overflow": null,
      "overflow_x": null,
      "overflow_y": null,
      "padding": null,
      "right": null,
      "top": null,
      "visibility": null,
      "width": null
     }
    },
    "3a73484261e44213b8afba21285c49dd": {
     "model_module": "@jupyter-widgets/controls",
     "model_module_version": "1.5.0",
     "model_name": "ProgressStyleModel",
     "state": {
      "_model_module": "@jupyter-widgets/controls",
      "_model_module_version": "1.5.0",
      "_model_name": "ProgressStyleModel",
      "_view_count": null,
      "_view_module": "@jupyter-widgets/base",
      "_view_module_version": "1.2.0",
      "_view_name": "StyleView",
      "bar_color": null,
      "description_width": ""
     }
    },
    "3ab5f0dd68544bd29c9b3dfd30e7aee5": {
     "model_module": "@jupyter-widgets/controls",
     "model_module_version": "1.5.0",
     "model_name": "HTMLModel",
     "state": {
      "_dom_classes": [],
      "_model_module": "@jupyter-widgets/controls",
      "_model_module_version": "1.5.0",
      "_model_name": "HTMLModel",
      "_view_count": null,
      "_view_module": "@jupyter-widgets/controls",
      "_view_module_version": "1.5.0",
      "_view_name": "HTMLView",
      "description": "",
      "description_tooltip": null,
      "layout": "IPY_MODEL_d77f2a5d39b34ddfbc9848d1313f5c44",
      "placeholder": "​",
      "style": "IPY_MODEL_d62f599fc124462bb5d0926da3635201",
      "value": " 0/1530 [00:00&lt;?, ?it/s]"
     }
    },
    "6162a3e989d44056b035dbdbe5b1b31d": {
     "model_module": "@jupyter-widgets/base",
     "model_module_version": "1.2.0",
     "model_name": "LayoutModel",
     "state": {
      "_model_module": "@jupyter-widgets/base",
      "_model_module_version": "1.2.0",
      "_model_name": "LayoutModel",
      "_view_count": null,
      "_view_module": "@jupyter-widgets/base",
      "_view_module_version": "1.2.0",
      "_view_name": "LayoutView",
      "align_content": null,
      "align_items": null,
      "align_self": null,
      "border": null,
      "bottom": null,
      "display": null,
      "flex": null,
      "flex_flow": null,
      "grid_area": null,
      "grid_auto_columns": null,
      "grid_auto_flow": null,
      "grid_auto_rows": null,
      "grid_column": null,
      "grid_gap": null,
      "grid_row": null,
      "grid_template_areas": null,
      "grid_template_columns": null,
      "grid_template_rows": null,
      "height": null,
      "justify_content": null,
      "justify_items": null,
      "left": null,
      "margin": null,
      "max_height": null,
      "max_width": null,
      "min_height": null,
      "min_width": null,
      "object_fit": null,
      "object_position": null,
      "order": null,
      "overflow": null,
      "overflow_x": null,
      "overflow_y": null,
      "padding": null,
      "right": null,
      "top": null,
      "visibility": null,
      "width": null
     }
    },
    "82fee171da4c4e119bf8d91604915179": {
     "model_module": "@jupyter-widgets/base",
     "model_module_version": "1.2.0",
     "model_name": "LayoutModel",
     "state": {
      "_model_module": "@jupyter-widgets/base",
      "_model_module_version": "1.2.0",
      "_model_name": "LayoutModel",
      "_view_count": null,
      "_view_module": "@jupyter-widgets/base",
      "_view_module_version": "1.2.0",
      "_view_name": "LayoutView",
      "align_content": null,
      "align_items": null,
      "align_self": null,
      "border": null,
      "bottom": null,
      "display": null,
      "flex": null,
      "flex_flow": null,
      "grid_area": null,
      "grid_auto_columns": null,
      "grid_auto_flow": null,
      "grid_auto_rows": null,
      "grid_column": null,
      "grid_gap": null,
      "grid_row": null,
      "grid_template_areas": null,
      "grid_template_columns": null,
      "grid_template_rows": null,
      "height": null,
      "justify_content": null,
      "justify_items": null,
      "left": null,
      "margin": null,
      "max_height": null,
      "max_width": null,
      "min_height": null,
      "min_width": null,
      "object_fit": null,
      "object_position": null,
      "order": null,
      "overflow": null,
      "overflow_x": null,
      "overflow_y": null,
      "padding": null,
      "right": null,
      "top": null,
      "visibility": null,
      "width": null
     }
    },
    "a03dc406ccad4c72a9e2ee378c369f1a": {
     "model_module": "@jupyter-widgets/controls",
     "model_module_version": "1.5.0",
     "model_name": "HTMLModel",
     "state": {
      "_dom_classes": [],
      "_model_module": "@jupyter-widgets/controls",
      "_model_module_version": "1.5.0",
      "_model_name": "HTMLModel",
      "_view_count": null,
      "_view_module": "@jupyter-widgets/controls",
      "_view_module_version": "1.5.0",
      "_view_name": "HTMLView",
      "description": "",
      "description_tooltip": null,
      "layout": "IPY_MODEL_82fee171da4c4e119bf8d91604915179",
      "placeholder": "​",
      "style": "IPY_MODEL_e331cfbba3c341f193902668a5802b29",
      "value": "  0%"
     }
    },
    "cf6155ce6d1e466689881e22b3ab8284": {
     "model_module": "@jupyter-widgets/controls",
     "model_module_version": "1.5.0",
     "model_name": "FloatProgressModel",
     "state": {
      "_dom_classes": [],
      "_model_module": "@jupyter-widgets/controls",
      "_model_module_version": "1.5.0",
      "_model_name": "FloatProgressModel",
      "_view_count": null,
      "_view_module": "@jupyter-widgets/controls",
      "_view_module_version": "1.5.0",
      "_view_name": "ProgressView",
      "bar_style": "",
      "description": "",
      "description_tooltip": null,
      "layout": "IPY_MODEL_35dbcfeb91174e969f8eeb027dd7d324",
      "max": 1530,
      "min": 0,
      "orientation": "horizontal",
      "style": "IPY_MODEL_3a73484261e44213b8afba21285c49dd",
      "value": 0
     }
    },
    "d62f599fc124462bb5d0926da3635201": {
     "model_module": "@jupyter-widgets/controls",
     "model_module_version": "1.5.0",
     "model_name": "DescriptionStyleModel",
     "state": {
      "_model_module": "@jupyter-widgets/controls",
      "_model_module_version": "1.5.0",
      "_model_name": "DescriptionStyleModel",
      "_view_count": null,
      "_view_module": "@jupyter-widgets/base",
      "_view_module_version": "1.2.0",
      "_view_name": "StyleView",
      "description_width": ""
     }
    },
    "d77f2a5d39b34ddfbc9848d1313f5c44": {
     "model_module": "@jupyter-widgets/base",
     "model_module_version": "1.2.0",
     "model_name": "LayoutModel",
     "state": {
      "_model_module": "@jupyter-widgets/base",
      "_model_module_version": "1.2.0",
      "_model_name": "LayoutModel",
      "_view_count": null,
      "_view_module": "@jupyter-widgets/base",
      "_view_module_version": "1.2.0",
      "_view_name": "LayoutView",
      "align_content": null,
      "align_items": null,
      "align_self": null,
      "border": null,
      "bottom": null,
      "display": null,
      "flex": null,
      "flex_flow": null,
      "grid_area": null,
      "grid_auto_columns": null,
      "grid_auto_flow": null,
      "grid_auto_rows": null,
      "grid_column": null,
      "grid_gap": null,
      "grid_row": null,
      "grid_template_areas": null,
      "grid_template_columns": null,
      "grid_template_rows": null,
      "height": null,
      "justify_content": null,
      "justify_items": null,
      "left": null,
      "margin": null,
      "max_height": null,
      "max_width": null,
      "min_height": null,
      "min_width": null,
      "object_fit": null,
      "object_position": null,
      "order": null,
      "overflow": null,
      "overflow_x": null,
      "overflow_y": null,
      "padding": null,
      "right": null,
      "top": null,
      "visibility": null,
      "width": null
     }
    },
    "e331cfbba3c341f193902668a5802b29": {
     "model_module": "@jupyter-widgets/controls",
     "model_module_version": "1.5.0",
     "model_name": "DescriptionStyleModel",
     "state": {
      "_model_module": "@jupyter-widgets/controls",
      "_model_module_version": "1.5.0",
      "_model_name": "DescriptionStyleModel",
      "_view_count": null,
      "_view_module": "@jupyter-widgets/base",
      "_view_module_version": "1.2.0",
      "_view_name": "StyleView",
      "description_width": ""
     }
    }
   }
  }
 },
 "nbformat": 4,
 "nbformat_minor": 1
}
